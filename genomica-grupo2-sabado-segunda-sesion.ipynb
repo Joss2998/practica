{
 "cells": [
  {
   "cell_type": "markdown",
   "metadata": {},
   "source": [
    "# REPASO"
   ]
  },
  {
   "cell_type": "markdown",
   "metadata": {},
   "source": [
    "#### INTRODUCCION A PYTHON"
   ]
  },
  {
   "cell_type": "code",
   "execution_count": 1,
   "metadata": {},
   "outputs": [],
   "source": [
    "# 1. Algorithmo -> es una secuencia de pasos para hacer una tarea\n",
    "# 2. Lenguaje humano diferente de lenguaje de maquina -> un problema que se resuelve con un lenguaje puente (python)\n",
    "# 3. python es un lenguaje, se pude aprender como todo lenguaje (elementos basicos, complejos, etc)"
   ]
  },
  {
   "cell_type": "markdown",
   "metadata": {},
   "source": [
    "#### ELEMENTOS BASICOS"
   ]
  },
  {
   "cell_type": "markdown",
   "metadata": {},
   "source": [
    "#### numeros"
   ]
  },
  {
   "cell_type": "code",
   "execution_count": 2,
   "metadata": {},
   "outputs": [
    {
     "name": "stdout",
     "output_type": "stream",
     "text": [
      "12\n"
     ]
    }
   ],
   "source": [
    "x = 5\n",
    "y = 7\n",
    "z = x + y \n",
    "print(z)"
   ]
  },
  {
   "cell_type": "markdown",
   "metadata": {},
   "source": [
    "#### palabras (strings)"
   ]
  },
  {
   "cell_type": "code",
   "execution_count": 3,
   "metadata": {},
   "outputs": [],
   "source": [
    "gen = 'AATCGATG'"
   ]
  },
  {
   "cell_type": "code",
   "execution_count": 4,
   "metadata": {},
   "outputs": [
    {
     "name": "stdout",
     "output_type": "stream",
     "text": [
      "AATCGATG\n"
     ]
    }
   ],
   "source": [
    "print(gen)"
   ]
  },
  {
   "cell_type": "markdown",
   "metadata": {},
   "source": [
    "##### propiedades de las cadenas"
   ]
  },
  {
   "cell_type": "code",
   "execution_count": 5,
   "metadata": {},
   "outputs": [
    {
     "data": {
      "text/plain": [
       "8"
      ]
     },
     "execution_count": 5,
     "metadata": {},
     "output_type": "execute_result"
    }
   ],
   "source": [
    "len(gen)"
   ]
  },
  {
   "cell_type": "code",
   "execution_count": 6,
   "metadata": {},
   "outputs": [
    {
     "data": {
      "text/plain": [
       "3"
      ]
     },
     "execution_count": 6,
     "metadata": {},
     "output_type": "execute_result"
    }
   ],
   "source": [
    "gen.count('A')"
   ]
  },
  {
   "cell_type": "code",
   "execution_count": 7,
   "metadata": {},
   "outputs": [
    {
     "data": {
      "text/plain": [
       "'aatcgatg'"
      ]
     },
     "execution_count": 7,
     "metadata": {},
     "output_type": "execute_result"
    }
   ],
   "source": [
    "gen.lower()"
   ]
  },
  {
   "cell_type": "code",
   "execution_count": 8,
   "metadata": {},
   "outputs": [
    {
     "data": {
      "text/plain": [
       "'aaTCGaTG'"
      ]
     },
     "execution_count": 8,
     "metadata": {},
     "output_type": "execute_result"
    }
   ],
   "source": [
    "gen.replace('A','a')"
   ]
  },
  {
   "cell_type": "markdown",
   "metadata": {},
   "source": [
    "# ELEMENTOS COMPLEJOS"
   ]
  },
  {
   "cell_type": "markdown",
   "metadata": {},
   "source": [
    "#### LISTAS"
   ]
  },
  {
   "cell_type": "code",
   "execution_count": 9,
   "metadata": {},
   "outputs": [],
   "source": [
    "codones = ['ATG','CTG','ATG','TTT','ATG']"
   ]
  },
  {
   "cell_type": "code",
   "execution_count": 10,
   "metadata": {},
   "outputs": [
    {
     "name": "stdout",
     "output_type": "stream",
     "text": [
      "['ATG', 'CTG', 'ATG', 'TTT', 'ATG']\n"
     ]
    }
   ],
   "source": [
    "print(codones)"
   ]
  },
  {
   "cell_type": "code",
   "execution_count": 11,
   "metadata": {},
   "outputs": [],
   "source": [
    "codones.append('ATG')"
   ]
  },
  {
   "cell_type": "code",
   "execution_count": 12,
   "metadata": {},
   "outputs": [
    {
     "data": {
      "text/plain": [
       "['ATG', 'CTG', 'ATG', 'TTT', 'ATG', 'ATG']"
      ]
     },
     "execution_count": 12,
     "metadata": {},
     "output_type": "execute_result"
    }
   ],
   "source": [
    "codones"
   ]
  },
  {
   "cell_type": "code",
   "execution_count": 14,
   "metadata": {},
   "outputs": [
    {
     "data": {
      "text/plain": [
       "4"
      ]
     },
     "execution_count": 14,
     "metadata": {},
     "output_type": "execute_result"
    }
   ],
   "source": [
    "codones.count('ATG')"
   ]
  },
  {
   "cell_type": "markdown",
   "metadata": {},
   "source": [
    "#### DICCIONARIOS"
   ]
  },
  {
   "cell_type": "code",
   "execution_count": 16,
   "metadata": {},
   "outputs": [],
   "source": [
    "codigo_genetico = {'coli':[4800,65,'Escherichia Coli','Bacteria'],'human':[30000,45,'Homo Sapies','Mamifero']}"
   ]
  },
  {
   "cell_type": "code",
   "execution_count": 17,
   "metadata": {},
   "outputs": [
    {
     "data": {
      "text/plain": [
       "{'coli': [4800, 65, 'Escherichia Coli', 'Bacteria'],\n",
       " 'human': [30000, 45, 'Homo Sapies', 'Mamifero']}"
      ]
     },
     "execution_count": 17,
     "metadata": {},
     "output_type": "execute_result"
    }
   ],
   "source": [
    "codigo_genetico"
   ]
  },
  {
   "cell_type": "code",
   "execution_count": 18,
   "metadata": {},
   "outputs": [
    {
     "data": {
      "text/plain": [
       "[4800, 65, 'Escherichia Coli', 'Bacteria']"
      ]
     },
     "execution_count": 18,
     "metadata": {},
     "output_type": "execute_result"
    }
   ],
   "source": [
    "codigo_genetico['coli']"
   ]
  },
  {
   "cell_type": "code",
   "execution_count": 19,
   "metadata": {},
   "outputs": [
    {
     "data": {
      "text/plain": [
       "[30000, 45, 'Homo Sapies', 'Mamifero']"
      ]
     },
     "execution_count": 19,
     "metadata": {},
     "output_type": "execute_result"
    }
   ],
   "source": [
    "codigo_genetico['human']"
   ]
  },
  {
   "cell_type": "markdown",
   "metadata": {},
   "source": [
    "# CONDICIONALES"
   ]
  },
  {
   "cell_type": "code",
   "execution_count": 22,
   "metadata": {},
   "outputs": [
    {
     "name": "stdout",
     "output_type": "stream",
     "text": [
      "Codon de elongacion\n",
      "Hola, estoy aprendiendo python\n"
     ]
    }
   ],
   "source": [
    "codon = 'TTT'\n",
    "if codon == 'ATG':\n",
    "    print('Codon de inicio')\n",
    "elif codon == 'TGA':\n",
    "    print('Codon de terminacion')\n",
    "elif codon == 'TTT':\n",
    "    print('Codon de elongacion')\n",
    "    print('Hola, estoy aprendiendo python')\n",
    "else:\n",
    "    print('Hey! Esto no es un codon')"
   ]
  },
  {
   "cell_type": "markdown",
   "metadata": {},
   "source": [
    "# BUCLES (for)"
   ]
  },
  {
   "cell_type": "code",
   "execution_count": 23,
   "metadata": {},
   "outputs": [],
   "source": [
    "# for -> por cada \n",
    "# in  -> en"
   ]
  },
  {
   "cell_type": "code",
   "execution_count": 24,
   "metadata": {},
   "outputs": [],
   "source": [
    "codones = ['ATG','CTG','ATG','TTT','ATG']"
   ]
  },
  {
   "cell_type": "code",
   "execution_count": 27,
   "metadata": {},
   "outputs": [
    {
     "name": "stdout",
     "output_type": "stream",
     "text": [
      "['ATG', 'CTG', 'ATG', 'TTT', 'ATG']\n",
      "['ATG', 'CTG', 'ATG', 'TTT', 'ATG']\n",
      "['ATG', 'CTG', 'ATG', 'TTT', 'ATG']\n",
      "['ATG', 'CTG', 'ATG', 'TTT', 'ATG']\n",
      "['ATG', 'CTG', 'ATG', 'TTT', 'ATG']\n"
     ]
    }
   ],
   "source": [
    "for codon in codones:\n",
    "    print(codones)"
   ]
  },
  {
   "cell_type": "code",
   "execution_count": 28,
   "metadata": {},
   "outputs": [
    {
     "name": "stdout",
     "output_type": "stream",
     "text": [
      "b\n",
      "a\n",
      "s\n",
      "i\n",
      "l\n",
      "i\n",
      "o\n"
     ]
    }
   ],
   "source": [
    "for letra in 'basilio':\n",
    "    print(letra)"
   ]
  },
  {
   "cell_type": "code",
   "execution_count": 29,
   "metadata": {},
   "outputs": [],
   "source": [
    "x = [4,5,8,56]"
   ]
  },
  {
   "cell_type": "code",
   "execution_count": 31,
   "metadata": {},
   "outputs": [
    {
     "name": "stdout",
     "output_type": "stream",
     "text": [
      "hola\n",
      "hola\n",
      "hola\n",
      "hola\n"
     ]
    }
   ],
   "source": [
    "for numero in x:\n",
    "    print('hola')"
   ]
  },
  {
   "cell_type": "code",
   "execution_count": 34,
   "metadata": {},
   "outputs": [
    {
     "name": "stdout",
     "output_type": "stream",
     "text": [
      "0\n",
      "1\n",
      "2\n",
      "3\n",
      "4\n",
      "5\n",
      "6\n",
      "7\n",
      "8\n",
      "9\n"
     ]
    }
   ],
   "source": [
    "for x in range(0,10):\n",
    "    print(x)"
   ]
  },
  {
   "cell_type": "code",
   "execution_count": 37,
   "metadata": {},
   "outputs": [
    {
     "name": "stdout",
     "output_type": "stream",
     "text": [
      "0\n",
      "5\n",
      "10\n"
     ]
    }
   ],
   "source": [
    "for variable_que_me_da_la_gana in range(0,11,5):\n",
    "    print(variable_que_me_da_la_gana)"
   ]
  },
  {
   "cell_type": "code",
   "execution_count": 49,
   "metadata": {},
   "outputs": [],
   "source": [
    "gen = 'AATCGACGACCGAGACGACGACGACGATG'"
   ]
  },
  {
   "cell_type": "code",
   "execution_count": 50,
   "metadata": {},
   "outputs": [],
   "source": [
    "contar = 0\n",
    "for nucleotido in gen:\n",
    "    if nucleotido == 'C':\n",
    "        contar = contar + 1\n",
    "    elif nucleotido == 'G':\n",
    "        contar = contar + 1"
   ]
  },
  {
   "cell_type": "code",
   "execution_count": 51,
   "metadata": {},
   "outputs": [
    {
     "name": "stdout",
     "output_type": "stream",
     "text": [
      "17\n"
     ]
    }
   ],
   "source": [
    "print(contar)"
   ]
  },
  {
   "cell_type": "code",
   "execution_count": 52,
   "metadata": {},
   "outputs": [],
   "source": [
    "# explicacion adicional"
   ]
  },
  {
   "cell_type": "code",
   "execution_count": 53,
   "metadata": {},
   "outputs": [],
   "source": [
    "contar = 0"
   ]
  },
  {
   "cell_type": "code",
   "execution_count": 54,
   "metadata": {},
   "outputs": [],
   "source": [
    "contar = contar +1"
   ]
  },
  {
   "cell_type": "code",
   "execution_count": 55,
   "metadata": {},
   "outputs": [
    {
     "name": "stdout",
     "output_type": "stream",
     "text": [
      "1\n"
     ]
    }
   ],
   "source": [
    "print(contar)"
   ]
  },
  {
   "cell_type": "code",
   "execution_count": 56,
   "metadata": {},
   "outputs": [],
   "source": [
    "contar = contar + 1"
   ]
  },
  {
   "cell_type": "code",
   "execution_count": 57,
   "metadata": {},
   "outputs": [
    {
     "name": "stdout",
     "output_type": "stream",
     "text": [
      "2\n"
     ]
    }
   ],
   "source": [
    "print(contar)"
   ]
  },
  {
   "cell_type": "code",
   "execution_count": 58,
   "metadata": {},
   "outputs": [],
   "source": [
    "contar = contar + 1"
   ]
  },
  {
   "cell_type": "code",
   "execution_count": 59,
   "metadata": {},
   "outputs": [
    {
     "name": "stdout",
     "output_type": "stream",
     "text": [
      "3\n"
     ]
    }
   ],
   "source": [
    "print(contar)"
   ]
  },
  {
   "cell_type": "code",
   "execution_count": 60,
   "metadata": {},
   "outputs": [],
   "source": [
    "contar = 0\n",
    "for nucleotido in gen:\n",
    "    if nucleotido == 'C':\n",
    "        contar = contar + 1\n",
    "    elif nucleotido == 'G':\n",
    "        contar = contar + 1\n",
    "\n",
    "long_gen = len(gen)"
   ]
  },
  {
   "cell_type": "code",
   "execution_count": 61,
   "metadata": {},
   "outputs": [
    {
     "data": {
      "text/plain": [
       "17"
      ]
     },
     "execution_count": 61,
     "metadata": {},
     "output_type": "execute_result"
    }
   ],
   "source": [
    "contar"
   ]
  },
  {
   "cell_type": "code",
   "execution_count": 62,
   "metadata": {},
   "outputs": [
    {
     "data": {
      "text/plain": [
       "29"
      ]
     },
     "execution_count": 62,
     "metadata": {},
     "output_type": "execute_result"
    }
   ],
   "source": [
    "long_gen"
   ]
  },
  {
   "cell_type": "code",
   "execution_count": 63,
   "metadata": {},
   "outputs": [],
   "source": [
    "GC = contar/long_gen"
   ]
  },
  {
   "cell_type": "code",
   "execution_count": 64,
   "metadata": {},
   "outputs": [
    {
     "name": "stdout",
     "output_type": "stream",
     "text": [
      "0.5862068965517241\n"
     ]
    }
   ],
   "source": [
    "print(GC)"
   ]
  },
  {
   "cell_type": "markdown",
   "metadata": {},
   "source": [
    "# FUNCIONES"
   ]
  },
  {
   "cell_type": "code",
   "execution_count": 65,
   "metadata": {},
   "outputs": [
    {
     "name": "stdout",
     "output_type": "stream",
     "text": [
      "12\n"
     ]
    }
   ],
   "source": [
    "x = 5\n",
    "y = 7\n",
    "z = x + y\n",
    "print(z)"
   ]
  },
  {
   "cell_type": "code",
   "execution_count": 66,
   "metadata": {},
   "outputs": [
    {
     "name": "stdout",
     "output_type": "stream",
     "text": [
      "16\n"
     ]
    }
   ],
   "source": [
    "x = 7\n",
    "y = 9\n",
    "z = x + y\n",
    "print(z)"
   ]
  },
  {
   "cell_type": "code",
   "execution_count": 69,
   "metadata": {},
   "outputs": [],
   "source": [
    "def suma(a,b):\n",
    "    resultado = a + b\n",
    "    print(resultado)"
   ]
  },
  {
   "cell_type": "code",
   "execution_count": 71,
   "metadata": {},
   "outputs": [
    {
     "name": "stdout",
     "output_type": "stream",
     "text": [
      "15\n"
     ]
    }
   ],
   "source": [
    "suma(7,8) # he creado una funcion que suma dos numeros"
   ]
  },
  {
   "cell_type": "code",
   "execution_count": 72,
   "metadata": {},
   "outputs": [],
   "source": [
    "def resta(a,b):\n",
    "    resultado = a - b\n",
    "    print(resultado)"
   ]
  },
  {
   "cell_type": "code",
   "execution_count": 73,
   "metadata": {},
   "outputs": [
    {
     "name": "stdout",
     "output_type": "stream",
     "text": [
      "-1\n"
     ]
    }
   ],
   "source": [
    "resta(7,8)"
   ]
  },
  {
   "cell_type": "code",
   "execution_count": 74,
   "metadata": {},
   "outputs": [],
   "source": [
    "gen = 'AATCGACGACCGAGACGACGACGACGATG'"
   ]
  },
  {
   "cell_type": "code",
   "execution_count": 75,
   "metadata": {},
   "outputs": [],
   "source": [
    "def calcula_gc(gen):\n",
    "    contar = 0\n",
    "    for nucleotido in gen:\n",
    "        if nucleotido == 'C':\n",
    "            contar = contar + 1\n",
    "        elif nucleotido == 'G':\n",
    "            contar = contar + 1\n",
    "\n",
    "    long_gen = len(gen)\n",
    "    resultado = contar/long_gen\n",
    "    print(resultado)"
   ]
  },
  {
   "cell_type": "code",
   "execution_count": 80,
   "metadata": {},
   "outputs": [
    {
     "name": "stdout",
     "output_type": "stream",
     "text": [
      "0.5862068965517241\n"
     ]
    }
   ],
   "source": [
    "calcula_gc('AATCGACGACCGAGACGACGACGACGATG')"
   ]
  },
  {
   "cell_type": "code",
   "execution_count": 81,
   "metadata": {},
   "outputs": [],
   "source": [
    "def encuentra_A(gen):\n",
    "    for nucleotido in gen:\n",
    "        if nucleotido == 'A':\n",
    "            print('Encontre una Adenina')"
   ]
  },
  {
   "cell_type": "markdown",
   "metadata": {},
   "source": [
    "# EJEMPLO DE LA VIDA REAL"
   ]
  },
  {
   "cell_type": "code",
   "execution_count": 86,
   "metadata": {},
   "outputs": [],
   "source": [
    "def estadistico_gen(gen):\n",
    "    contar_g = 0\n",
    "    contar_c = 0\n",
    "    contar_a = 0\n",
    "    contar_t = 0\n",
    "    \n",
    "    # Aqui empiezo a contar nucleotidos\n",
    "    for nucleotido in gen:\n",
    "        if nucleotido == 'C':\n",
    "            contar_c = contar_c + 1\n",
    "        elif nucleotido == 'G':\n",
    "            contar_g = contar_g + 1\n",
    "        elif nucleotido == 'A':\n",
    "            contar_a = contar_a + 1\n",
    "        elif nucleotido == 'T':\n",
    "            contar_t = contar_t + 1\n",
    "            \n",
    "    # Aqui calculo la longitud del gen\n",
    "    long_gen = len(gen)\n",
    "    \n",
    "    # Aqui calculo el porcentage de GCs\n",
    "    suma_gc =  contar_c +  contar_g # suma de g y c\n",
    "    porcentage_gc = (suma_gc/long_gen)*100 # fraccion de gc respecto al total (longitud del gen)\n",
    "    \n",
    "    # aqui pongo mis resultados\n",
    "    print('Longitud del gen: ',long_gen)\n",
    "    print('Numero de Adenin: ',contar_a)\n",
    "    print('Numero de Timidi: ',contar_t)\n",
    "    print('Numero de Citoci: ',contar_c)\n",
    "    print('Numero de Guanid: ',contar_g)\n",
    "    print('Porcentage GC   : ',porcentage_gc)"
   ]
  },
  {
   "cell_type": "code",
   "execution_count": 87,
   "metadata": {},
   "outputs": [
    {
     "name": "stdout",
     "output_type": "stream",
     "text": [
      "Longitud del gen:  29\n",
      "Numero de Adenin:  10\n",
      "Numero de Timidi:  2\n",
      "Numero de Citoci:  8\n",
      "Numero de Guanid:  9\n",
      "Porcentage GC   :  58.620689655172406\n"
     ]
    }
   ],
   "source": [
    "estadistico_gen('AATCGACGACCGAGACGACGACGACGATG')"
   ]
  },
  {
   "cell_type": "code",
   "execution_count": 88,
   "metadata": {},
   "outputs": [
    {
     "name": "stdout",
     "output_type": "stream",
     "text": [
      "Longitud del gen:  4\n",
      "Numero de Adenin:  2\n",
      "Numero de Timidi:  1\n",
      "Numero de Citoci:  1\n",
      "Numero de Guanid:  0\n",
      "Porcentage GC   :  25.0\n"
     ]
    }
   ],
   "source": [
    "estadistico_gen('AATC')"
   ]
  },
  {
   "cell_type": "code",
   "execution_count": 89,
   "metadata": {},
   "outputs": [
    {
     "name": "stdout",
     "output_type": "stream",
     "text": [
      "Longitud del gen:  69\n",
      "Numero de Adenin:  22\n",
      "Numero de Timidi:  2\n",
      "Numero de Citoci:  22\n",
      "Numero de Guanid:  23\n",
      "Porcentage GC   :  65.21739130434783\n"
     ]
    }
   ],
   "source": [
    "estadistico_gen('AATCGACGACGACCGAGACGACGACGACGCGACCGAGACGACGACGACGCCGAGACGACGACGACGATG')"
   ]
  },
  {
   "cell_type": "code",
   "execution_count": 90,
   "metadata": {},
   "outputs": [],
   "source": [
    "genx = 'AATCGACGACGACCGAGACGACGACGACGCGACCGAGACGACGACGACGCCGAGACGACAAAAAAAAAGACGACGATG'"
   ]
  },
  {
   "cell_type": "code",
   "execution_count": 91,
   "metadata": {},
   "outputs": [
    {
     "name": "stdout",
     "output_type": "stream",
     "text": [
      "Longitud del gen:  78\n",
      "Numero de Adenin:  31\n",
      "Numero de Timidi:  2\n",
      "Numero de Citoci:  22\n",
      "Numero de Guanid:  23\n",
      "Porcentage GC   :  57.692307692307686\n"
     ]
    }
   ],
   "source": [
    "estadistico_gen(genx)"
   ]
  },
  {
   "cell_type": "code",
   "execution_count": 93,
   "metadata": {},
   "outputs": [
    {
     "name": "stdout",
     "output_type": "stream",
     "text": [
      "Longitud del gen:  4\n",
      "Numero de Adenin:  1\n",
      "Numero de Timidi:  1\n",
      "Numero de Citoci:  0\n",
      "Numero de Guanid:  0\n",
      "Porcentage GC   :  0.0\n"
     ]
    }
   ],
   "source": [
    "estadistico_gen('ATcg')"
   ]
  },
  {
   "cell_type": "code",
   "execution_count": 102,
   "metadata": {},
   "outputs": [],
   "source": [
    "def estadistico_gen_mejorado(gen):\n",
    "    contar_g = 0\n",
    "    contar_c = 0\n",
    "    contar_a = 0\n",
    "    contar_t = 0\n",
    "    \n",
    "    # Aqui empiezo a contar nucleotidos\n",
    "    for nucleotido in gen:\n",
    "        if nucleotido == 'C' or nucleotido == 'c':\n",
    "            contar_c = contar_c + 1\n",
    "        elif nucleotido == 'G' or nucleotido =='g':\n",
    "            contar_g = contar_g + 1\n",
    "        elif nucleotido == 'A' or nucleotido =='a':\n",
    "            contar_a = contar_a + 1\n",
    "        elif nucleotido == 'T' or nucleotido == 't':\n",
    "            contar_t = contar_t + 1\n",
    "        else:\n",
    "            print('Lo que ingresaste no parece ser un gen, trata nuevamente')\n",
    "    # Aqui calculo la longitud del gen\n",
    "    long_gen = len(gen)\n",
    "    \n",
    "    # Aqui calculo el porcentage de GCs\n",
    "    suma_gc =  contar_c +  contar_g # suma de g y c\n",
    "    porcentage_gc = (suma_gc/long_gen)*100 # fraccion de gc respecto al total (longitud del gen)\n",
    "    \n",
    "    # aqui pongo mis resultados\n",
    "    print('Longitud del gen: ',long_gen)\n",
    "    print('Numero de Adenin: ',contar_a)\n",
    "    print('Numero de Timidi: ',contar_t)\n",
    "    print('Numero de Citoci: ',contar_c)\n",
    "    print('Numero de Guanid: ',contar_g)\n",
    "    print('Porcentage GC   : ',porcentage_gc)"
   ]
  },
  {
   "cell_type": "code",
   "execution_count": 104,
   "metadata": {},
   "outputs": [
    {
     "name": "stdout",
     "output_type": "stream",
     "text": [
      "Longitud del gen:  4\n",
      "Numero de Adenin:  1\n",
      "Numero de Timidi:  1\n",
      "Numero de Citoci:  1\n",
      "Numero de Guanid:  1\n",
      "Porcentage GC   :  50.0\n"
     ]
    }
   ],
   "source": [
    "estadistico_gen_mejorado('TAGC')"
   ]
  },
  {
   "cell_type": "markdown",
   "metadata": {},
   "source": [
    "# IMPORTACION Y EXPORTACION DE SECUENCIAS DE DNA"
   ]
  },
  {
   "cell_type": "markdown",
   "metadata": {},
   "source": [
    "#### LA IMPORTACION DE DOCUMENTOS CONSISTE DE TRES PASOS"
   ]
  },
  {
   "cell_type": "code",
   "execution_count": 105,
   "metadata": {},
   "outputs": [],
   "source": [
    "documento = open('C:/Users/bciez/Desktop/data/sequence.fasta','r') # read -> leer ('r') # ESTO SOLO ABRE EL DOCUMENTO\n",
    "data = documento.readlines() # lee el documento y lo guarda en data\n",
    "documento.close() # cierra el documento (si no lo cierras python puede quedarse sin memoria y tendras que reiniciar)"
   ]
  },
  {
   "cell_type": "code",
   "execution_count": 106,
   "metadata": {},
   "outputs": [
    {
     "name": "stdout",
     "output_type": "stream",
     "text": [
      "['>MG995115.1 Mycobacterium tuberculosis strain UKR100 RpoB (rpoB) gene, partial cds\\n', 'TTGGCAGATTCCCGCCAGAGCAAAACAGCCGCTAGTCCTAGTCCGAGTCGCCCGCAAAGTTCCTCGAATA\\n', 'ACTCCGTACCCGGAGCGCCAAACCGGGTCTCCTTCGCTAAGCTGCGCGAACCACTTGAGGTTCCGGGACT\\n', 'CCTTGACGTCCAGACCGATTCGTTCGAGTGGCTGATCGGTTCGCCGCGCTGGCGCGAATCCGCCGCCGAG\\n', 'CGGGGTGATGTCAACCCAGTGGGTGGCCTGGAAGAGGTGCTCTACGAGCTGTCTCCGATCGAGGACTTCT\\n', 'CCGGGTCGATGTCGTTGTCGTTCTCTGACCCTCGTTTCGACGATGTCAAGGCACCCGTCGACGAGTGCAA\\n', 'AGACAAGGACATGACGTACGCGGCTCCACTGTTCGTCACCGCCGAGTTCATCAACAACAACACCGGTGAG\\n', 'ATCAAGAGTCAGACGGTGTTCATGGGTGACTTCCCGATGATGACCGAGAAGGGCACGTTCATCATCAACG\\n', 'GGACCGAGCGTGTGGTGGTCAGCCAGCTGGTGCGGTCGCCCGGGGTGTACTTCGACGAGACCATTGACAA\\n', 'GTCCACCGACAAGACGCTGCACAGCGTCAAGGTGATCCCGAGCCGCGGCGCGTGGCTCGAGTTTGACGTC\\n', 'GACAAGCGCGACACCGTCGGCGTGCGCATCGACCGCAAACGCCGGCAACCGGTCACCGTGCTGCTCAAGG\\n', 'CGCTGGGCTGGACCAGCGAGCAGATTGTCGAGCGGTTCGGGTTCTCCGAGATCATGCGATCGACGCTGGA\\n', 'GAAGGACAACACCGTCGGCACCGACGAGGCGCTGTTGGACATCTACCGCAAGCTGCGTCCGGGCGAGCCC\\n', 'CCGACCAAAGAGTCAGCGCAGACGCTGTTGGAAAACTTGTTCTTCAAGGAGAAGCGCTACGACCTGGCCC\\n', 'GCGTCGGTCGCTATAAGGTCAACAAGAAGCTCGGGCTGCATGTCGGCGAGCCCATCACGTCGTCGACGCT\\n', 'GACCGAAGAAGACGTCGTGGCCACCATCGAATATCTGGTCCGCTTGCACGAGGGTCAGACCACGATGACC\\n', 'GTTCCGGGCGGCGTCGAGGTGCCGGTGGAAACCGACGACATCGACCACTTCGGCAACCGCCGCCTGCGTA\\n', 'CGGTCGGCGAGCTGATCCAAAACCAGATCCGGGTCGGCATGTCGCGGATGGAGCGGGTGGTCCGGGAGCG\\n', 'GATGACCACCCAGGACGTGGAGGCGATCACACCGCAGACGTTGATCAACATCCGGCCGGTGGTCGCCGCG\\n', 'ATCAAGGAGTTCTTCGGCACCAGCCAGCTGAGCCAATTCATGGACCAGAACAACCCGCTGTCGGGGTTGA\\n', 'CCCACAAGCGCCGACTGTTGGCGCTGGGGCCCGGCGGTCTGTCACGTGAGCGTGCCGGGCTGGAGGTCCG\\n', 'CGACGTGCACCCGTCGCACTACGGCCGGATGTGCCCGATCGAAACCCCTGAGGGGCCCAACATCGGTCTG\\n', 'ATCGGCTCGCTGTCGGTGTACGCGCGGGTCAACCCGTTCGGGTTCATCGAAACGCCGTACCGCAAGGTGG\\n', 'TCGACGGCGTGGTTAGCGACGAGATCGTGTACCTGAC\\n', '\\n']\n"
     ]
    }
   ],
   "source": [
    "print(data)"
   ]
  },
  {
   "cell_type": "code",
   "execution_count": 108,
   "metadata": {},
   "outputs": [
    {
     "data": {
      "text/plain": [
       "list"
      ]
     },
     "execution_count": 108,
     "metadata": {},
     "output_type": "execute_result"
    }
   ],
   "source": [
    "type(data) # se importar como lista..."
   ]
  },
  {
   "cell_type": "code",
   "execution_count": 109,
   "metadata": {},
   "outputs": [
    {
     "data": {
      "text/plain": [
       "25"
      ]
     },
     "execution_count": 109,
     "metadata": {},
     "output_type": "execute_result"
    }
   ],
   "source": [
    "len(data)"
   ]
  },
  {
   "cell_type": "code",
   "execution_count": 110,
   "metadata": {},
   "outputs": [
    {
     "data": {
      "text/plain": [
       "'>MG995115.1 Mycobacterium tuberculosis strain UKR100 RpoB (rpoB) gene, partial cds\\n'"
      ]
     },
     "execution_count": 110,
     "metadata": {},
     "output_type": "execute_result"
    }
   ],
   "source": [
    "data[0]"
   ]
  },
  {
   "cell_type": "code",
   "execution_count": 111,
   "metadata": {},
   "outputs": [
    {
     "data": {
      "text/plain": [
       "'TTGGCAGATTCCCGCCAGAGCAAAACAGCCGCTAGTCCTAGTCCGAGTCGCCCGCAAAGTTCCTCGAATA\\n'"
      ]
     },
     "execution_count": 111,
     "metadata": {},
     "output_type": "execute_result"
    }
   ],
   "source": [
    "data[1]"
   ]
  },
  {
   "cell_type": "code",
   "execution_count": 112,
   "metadata": {},
   "outputs": [
    {
     "data": {
      "text/plain": [
       "'ACTCCGTACCCGGAGCGCCAAACCGGGTCTCCTTCGCTAAGCTGCGCGAACCACTTGAGGTTCCGGGACT\\n'"
      ]
     },
     "execution_count": 112,
     "metadata": {},
     "output_type": "execute_result"
    }
   ],
   "source": [
    "data[2]"
   ]
  },
  {
   "cell_type": "code",
   "execution_count": 117,
   "metadata": {},
   "outputs": [
    {
     "data": {
      "text/plain": [
       "'TCGACGGCGTGGTTAGCGACGAGATCGTGTACCTGAC\\n'"
      ]
     },
     "execution_count": 117,
     "metadata": {},
     "output_type": "execute_result"
    }
   ],
   "source": [
    "data[23]"
   ]
  },
  {
   "cell_type": "code",
   "execution_count": 126,
   "metadata": {},
   "outputs": [
    {
     "data": {
      "text/plain": [
       "['>MG995115.1 Mycobacterium tuberculosis strain UKR100 RpoB (rpoB) gene, partial cds\\n',\n",
       " 'TTGGCAGATTCCCGCCAGAGCAAAACAGCCGCTAGTCCTAGTCCGAGTCGCCCGCAAAGTTCCTCGAATA\\n',\n",
       " 'ACTCCGTACCCGGAGCGCCAAACCGGGTCTCCTTCGCTAAGCTGCGCGAACCACTTGAGGTTCCGGGACT\\n',\n",
       " 'CCTTGACGTCCAGACCGATTCGTTCGAGTGGCTGATCGGTTCGCCGCGCTGGCGCGAATCCGCCGCCGAG\\n',\n",
       " 'CGGGGTGATGTCAACCCAGTGGGTGGCCTGGAAGAGGTGCTCTACGAGCTGTCTCCGATCGAGGACTTCT\\n',\n",
       " 'CCGGGTCGATGTCGTTGTCGTTCTCTGACCCTCGTTTCGACGATGTCAAGGCACCCGTCGACGAGTGCAA\\n',\n",
       " 'AGACAAGGACATGACGTACGCGGCTCCACTGTTCGTCACCGCCGAGTTCATCAACAACAACACCGGTGAG\\n',\n",
       " 'ATCAAGAGTCAGACGGTGTTCATGGGTGACTTCCCGATGATGACCGAGAAGGGCACGTTCATCATCAACG\\n',\n",
       " 'GGACCGAGCGTGTGGTGGTCAGCCAGCTGGTGCGGTCGCCCGGGGTGTACTTCGACGAGACCATTGACAA\\n',\n",
       " 'GTCCACCGACAAGACGCTGCACAGCGTCAAGGTGATCCCGAGCCGCGGCGCGTGGCTCGAGTTTGACGTC\\n',\n",
       " 'GACAAGCGCGACACCGTCGGCGTGCGCATCGACCGCAAACGCCGGCAACCGGTCACCGTGCTGCTCAAGG\\n',\n",
       " 'CGCTGGGCTGGACCAGCGAGCAGATTGTCGAGCGGTTCGGGTTCTCCGAGATCATGCGATCGACGCTGGA\\n',\n",
       " 'GAAGGACAACACCGTCGGCACCGACGAGGCGCTGTTGGACATCTACCGCAAGCTGCGTCCGGGCGAGCCC\\n',\n",
       " 'CCGACCAAAGAGTCAGCGCAGACGCTGTTGGAAAACTTGTTCTTCAAGGAGAAGCGCTACGACCTGGCCC\\n',\n",
       " 'GCGTCGGTCGCTATAAGGTCAACAAGAAGCTCGGGCTGCATGTCGGCGAGCCCATCACGTCGTCGACGCT\\n',\n",
       " 'GACCGAAGAAGACGTCGTGGCCACCATCGAATATCTGGTCCGCTTGCACGAGGGTCAGACCACGATGACC\\n',\n",
       " 'GTTCCGGGCGGCGTCGAGGTGCCGGTGGAAACCGACGACATCGACCACTTCGGCAACCGCCGCCTGCGTA\\n',\n",
       " 'CGGTCGGCGAGCTGATCCAAAACCAGATCCGGGTCGGCATGTCGCGGATGGAGCGGGTGGTCCGGGAGCG\\n',\n",
       " 'GATGACCACCCAGGACGTGGAGGCGATCACACCGCAGACGTTGATCAACATCCGGCCGGTGGTCGCCGCG\\n',\n",
       " 'ATCAAGGAGTTCTTCGGCACCAGCCAGCTGAGCCAATTCATGGACCAGAACAACCCGCTGTCGGGGTTGA\\n',\n",
       " 'CCCACAAGCGCCGACTGTTGGCGCTGGGGCCCGGCGGTCTGTCACGTGAGCGTGCCGGGCTGGAGGTCCG\\n',\n",
       " 'CGACGTGCACCCGTCGCACTACGGCCGGATGTGCCCGATCGAAACCCCTGAGGGGCCCAACATCGGTCTG\\n',\n",
       " 'ATCGGCTCGCTGTCGGTGTACGCGCGGGTCAACCCGTTCGGGTTCATCGAAACGCCGTACCGCAAGGTGG\\n',\n",
       " 'TCGACGGCGTGGTTAGCGACGAGATCGTGTACCTGAC\\n']"
      ]
     },
     "execution_count": 126,
     "metadata": {},
     "output_type": "execute_result"
    }
   ],
   "source": [
    "data[0:24] # 0:23 toma del cero al 23.."
   ]
  },
  {
   "cell_type": "code",
   "execution_count": 125,
   "metadata": {},
   "outputs": [
    {
     "data": {
      "text/plain": [
       "['TTGGCAGATTCCCGCCAGAGCAAAACAGCCGCTAGTCCTAGTCCGAGTCGCCCGCAAAGTTCCTCGAATA\\n',\n",
       " 'ACTCCGTACCCGGAGCGCCAAACCGGGTCTCCTTCGCTAAGCTGCGCGAACCACTTGAGGTTCCGGGACT\\n',\n",
       " 'CCTTGACGTCCAGACCGATTCGTTCGAGTGGCTGATCGGTTCGCCGCGCTGGCGCGAATCCGCCGCCGAG\\n',\n",
       " 'CGGGGTGATGTCAACCCAGTGGGTGGCCTGGAAGAGGTGCTCTACGAGCTGTCTCCGATCGAGGACTTCT\\n',\n",
       " 'CCGGGTCGATGTCGTTGTCGTTCTCTGACCCTCGTTTCGACGATGTCAAGGCACCCGTCGACGAGTGCAA\\n',\n",
       " 'AGACAAGGACATGACGTACGCGGCTCCACTGTTCGTCACCGCCGAGTTCATCAACAACAACACCGGTGAG\\n',\n",
       " 'ATCAAGAGTCAGACGGTGTTCATGGGTGACTTCCCGATGATGACCGAGAAGGGCACGTTCATCATCAACG\\n',\n",
       " 'GGACCGAGCGTGTGGTGGTCAGCCAGCTGGTGCGGTCGCCCGGGGTGTACTTCGACGAGACCATTGACAA\\n',\n",
       " 'GTCCACCGACAAGACGCTGCACAGCGTCAAGGTGATCCCGAGCCGCGGCGCGTGGCTCGAGTTTGACGTC\\n',\n",
       " 'GACAAGCGCGACACCGTCGGCGTGCGCATCGACCGCAAACGCCGGCAACCGGTCACCGTGCTGCTCAAGG\\n',\n",
       " 'CGCTGGGCTGGACCAGCGAGCAGATTGTCGAGCGGTTCGGGTTCTCCGAGATCATGCGATCGACGCTGGA\\n',\n",
       " 'GAAGGACAACACCGTCGGCACCGACGAGGCGCTGTTGGACATCTACCGCAAGCTGCGTCCGGGCGAGCCC\\n',\n",
       " 'CCGACCAAAGAGTCAGCGCAGACGCTGTTGGAAAACTTGTTCTTCAAGGAGAAGCGCTACGACCTGGCCC\\n',\n",
       " 'GCGTCGGTCGCTATAAGGTCAACAAGAAGCTCGGGCTGCATGTCGGCGAGCCCATCACGTCGTCGACGCT\\n',\n",
       " 'GACCGAAGAAGACGTCGTGGCCACCATCGAATATCTGGTCCGCTTGCACGAGGGTCAGACCACGATGACC\\n',\n",
       " 'GTTCCGGGCGGCGTCGAGGTGCCGGTGGAAACCGACGACATCGACCACTTCGGCAACCGCCGCCTGCGTA\\n',\n",
       " 'CGGTCGGCGAGCTGATCCAAAACCAGATCCGGGTCGGCATGTCGCGGATGGAGCGGGTGGTCCGGGAGCG\\n',\n",
       " 'GATGACCACCCAGGACGTGGAGGCGATCACACCGCAGACGTTGATCAACATCCGGCCGGTGGTCGCCGCG\\n',\n",
       " 'ATCAAGGAGTTCTTCGGCACCAGCCAGCTGAGCCAATTCATGGACCAGAACAACCCGCTGTCGGGGTTGA\\n',\n",
       " 'CCCACAAGCGCCGACTGTTGGCGCTGGGGCCCGGCGGTCTGTCACGTGAGCGTGCCGGGCTGGAGGTCCG\\n',\n",
       " 'CGACGTGCACCCGTCGCACTACGGCCGGATGTGCCCGATCGAAACCCCTGAGGGGCCCAACATCGGTCTG\\n',\n",
       " 'ATCGGCTCGCTGTCGGTGTACGCGCGGGTCAACCCGTTCGGGTTCATCGAAACGCCGTACCGCAAGGTGG\\n',\n",
       " 'TCGACGGCGTGGTTAGCGACGAGATCGTGTACCTGAC\\n',\n",
       " '\\n']"
      ]
     },
     "execution_count": 125,
     "metadata": {},
     "output_type": "execute_result"
    }
   ],
   "source": [
    "data[1:] # va del uno hasta el final ..."
   ]
  },
  {
   "cell_type": "code",
   "execution_count": 129,
   "metadata": {},
   "outputs": [],
   "source": [
    "pre_dna = data[1:] # elimina el titulo"
   ]
  },
  {
   "cell_type": "code",
   "execution_count": 130,
   "metadata": {},
   "outputs": [
    {
     "data": {
      "text/plain": [
       "['TTGGCAGATTCCCGCCAGAGCAAAACAGCCGCTAGTCCTAGTCCGAGTCGCCCGCAAAGTTCCTCGAATA\\n',\n",
       " 'ACTCCGTACCCGGAGCGCCAAACCGGGTCTCCTTCGCTAAGCTGCGCGAACCACTTGAGGTTCCGGGACT\\n',\n",
       " 'CCTTGACGTCCAGACCGATTCGTTCGAGTGGCTGATCGGTTCGCCGCGCTGGCGCGAATCCGCCGCCGAG\\n',\n",
       " 'CGGGGTGATGTCAACCCAGTGGGTGGCCTGGAAGAGGTGCTCTACGAGCTGTCTCCGATCGAGGACTTCT\\n',\n",
       " 'CCGGGTCGATGTCGTTGTCGTTCTCTGACCCTCGTTTCGACGATGTCAAGGCACCCGTCGACGAGTGCAA\\n',\n",
       " 'AGACAAGGACATGACGTACGCGGCTCCACTGTTCGTCACCGCCGAGTTCATCAACAACAACACCGGTGAG\\n',\n",
       " 'ATCAAGAGTCAGACGGTGTTCATGGGTGACTTCCCGATGATGACCGAGAAGGGCACGTTCATCATCAACG\\n',\n",
       " 'GGACCGAGCGTGTGGTGGTCAGCCAGCTGGTGCGGTCGCCCGGGGTGTACTTCGACGAGACCATTGACAA\\n',\n",
       " 'GTCCACCGACAAGACGCTGCACAGCGTCAAGGTGATCCCGAGCCGCGGCGCGTGGCTCGAGTTTGACGTC\\n',\n",
       " 'GACAAGCGCGACACCGTCGGCGTGCGCATCGACCGCAAACGCCGGCAACCGGTCACCGTGCTGCTCAAGG\\n',\n",
       " 'CGCTGGGCTGGACCAGCGAGCAGATTGTCGAGCGGTTCGGGTTCTCCGAGATCATGCGATCGACGCTGGA\\n',\n",
       " 'GAAGGACAACACCGTCGGCACCGACGAGGCGCTGTTGGACATCTACCGCAAGCTGCGTCCGGGCGAGCCC\\n',\n",
       " 'CCGACCAAAGAGTCAGCGCAGACGCTGTTGGAAAACTTGTTCTTCAAGGAGAAGCGCTACGACCTGGCCC\\n',\n",
       " 'GCGTCGGTCGCTATAAGGTCAACAAGAAGCTCGGGCTGCATGTCGGCGAGCCCATCACGTCGTCGACGCT\\n',\n",
       " 'GACCGAAGAAGACGTCGTGGCCACCATCGAATATCTGGTCCGCTTGCACGAGGGTCAGACCACGATGACC\\n',\n",
       " 'GTTCCGGGCGGCGTCGAGGTGCCGGTGGAAACCGACGACATCGACCACTTCGGCAACCGCCGCCTGCGTA\\n',\n",
       " 'CGGTCGGCGAGCTGATCCAAAACCAGATCCGGGTCGGCATGTCGCGGATGGAGCGGGTGGTCCGGGAGCG\\n',\n",
       " 'GATGACCACCCAGGACGTGGAGGCGATCACACCGCAGACGTTGATCAACATCCGGCCGGTGGTCGCCGCG\\n',\n",
       " 'ATCAAGGAGTTCTTCGGCACCAGCCAGCTGAGCCAATTCATGGACCAGAACAACCCGCTGTCGGGGTTGA\\n',\n",
       " 'CCCACAAGCGCCGACTGTTGGCGCTGGGGCCCGGCGGTCTGTCACGTGAGCGTGCCGGGCTGGAGGTCCG\\n',\n",
       " 'CGACGTGCACCCGTCGCACTACGGCCGGATGTGCCCGATCGAAACCCCTGAGGGGCCCAACATCGGTCTG\\n',\n",
       " 'ATCGGCTCGCTGTCGGTGTACGCGCGGGTCAACCCGTTCGGGTTCATCGAAACGCCGTACCGCAAGGTGG\\n',\n",
       " 'TCGACGGCGTGGTTAGCGACGAGATCGTGTACCTGAC\\n',\n",
       " '\\n']"
      ]
     },
     "execution_count": 130,
     "metadata": {},
     "output_type": "execute_result"
    }
   ],
   "source": [
    "pre_dna"
   ]
  },
  {
   "cell_type": "code",
   "execution_count": 131,
   "metadata": {},
   "outputs": [
    {
     "data": {
      "text/plain": [
       "list"
      ]
     },
     "execution_count": 131,
     "metadata": {},
     "output_type": "execute_result"
    }
   ],
   "source": [
    "type(pre_dna)"
   ]
  },
  {
   "cell_type": "code",
   "execution_count": 132,
   "metadata": {},
   "outputs": [
    {
     "name": "stdout",
     "output_type": "stream",
     "text": [
      "TTGGCAGATTCCCGCCAGAGCAAAACAGCCGCTAGTCCTAGTCCGAGTCGCCCGCAAAGTTCCTCGAATA\n",
      "\n",
      "ACTCCGTACCCGGAGCGCCAAACCGGGTCTCCTTCGCTAAGCTGCGCGAACCACTTGAGGTTCCGGGACT\n",
      "\n",
      "CCTTGACGTCCAGACCGATTCGTTCGAGTGGCTGATCGGTTCGCCGCGCTGGCGCGAATCCGCCGCCGAG\n",
      "\n",
      "CGGGGTGATGTCAACCCAGTGGGTGGCCTGGAAGAGGTGCTCTACGAGCTGTCTCCGATCGAGGACTTCT\n",
      "\n",
      "CCGGGTCGATGTCGTTGTCGTTCTCTGACCCTCGTTTCGACGATGTCAAGGCACCCGTCGACGAGTGCAA\n",
      "\n",
      "AGACAAGGACATGACGTACGCGGCTCCACTGTTCGTCACCGCCGAGTTCATCAACAACAACACCGGTGAG\n",
      "\n",
      "ATCAAGAGTCAGACGGTGTTCATGGGTGACTTCCCGATGATGACCGAGAAGGGCACGTTCATCATCAACG\n",
      "\n",
      "GGACCGAGCGTGTGGTGGTCAGCCAGCTGGTGCGGTCGCCCGGGGTGTACTTCGACGAGACCATTGACAA\n",
      "\n",
      "GTCCACCGACAAGACGCTGCACAGCGTCAAGGTGATCCCGAGCCGCGGCGCGTGGCTCGAGTTTGACGTC\n",
      "\n",
      "GACAAGCGCGACACCGTCGGCGTGCGCATCGACCGCAAACGCCGGCAACCGGTCACCGTGCTGCTCAAGG\n",
      "\n",
      "CGCTGGGCTGGACCAGCGAGCAGATTGTCGAGCGGTTCGGGTTCTCCGAGATCATGCGATCGACGCTGGA\n",
      "\n",
      "GAAGGACAACACCGTCGGCACCGACGAGGCGCTGTTGGACATCTACCGCAAGCTGCGTCCGGGCGAGCCC\n",
      "\n",
      "CCGACCAAAGAGTCAGCGCAGACGCTGTTGGAAAACTTGTTCTTCAAGGAGAAGCGCTACGACCTGGCCC\n",
      "\n",
      "GCGTCGGTCGCTATAAGGTCAACAAGAAGCTCGGGCTGCATGTCGGCGAGCCCATCACGTCGTCGACGCT\n",
      "\n",
      "GACCGAAGAAGACGTCGTGGCCACCATCGAATATCTGGTCCGCTTGCACGAGGGTCAGACCACGATGACC\n",
      "\n",
      "GTTCCGGGCGGCGTCGAGGTGCCGGTGGAAACCGACGACATCGACCACTTCGGCAACCGCCGCCTGCGTA\n",
      "\n",
      "CGGTCGGCGAGCTGATCCAAAACCAGATCCGGGTCGGCATGTCGCGGATGGAGCGGGTGGTCCGGGAGCG\n",
      "\n",
      "GATGACCACCCAGGACGTGGAGGCGATCACACCGCAGACGTTGATCAACATCCGGCCGGTGGTCGCCGCG\n",
      "\n",
      "ATCAAGGAGTTCTTCGGCACCAGCCAGCTGAGCCAATTCATGGACCAGAACAACCCGCTGTCGGGGTTGA\n",
      "\n",
      "CCCACAAGCGCCGACTGTTGGCGCTGGGGCCCGGCGGTCTGTCACGTGAGCGTGCCGGGCTGGAGGTCCG\n",
      "\n",
      "CGACGTGCACCCGTCGCACTACGGCCGGATGTGCCCGATCGAAACCCCTGAGGGGCCCAACATCGGTCTG\n",
      "\n",
      "ATCGGCTCGCTGTCGGTGTACGCGCGGGTCAACCCGTTCGGGTTCATCGAAACGCCGTACCGCAAGGTGG\n",
      "\n",
      "TCGACGGCGTGGTTAGCGACGAGATCGTGTACCTGAC\n",
      "\n",
      "\n",
      "\n"
     ]
    }
   ],
   "source": [
    "for elemento in pre_dna:\n",
    "    print(elemento)"
   ]
  },
  {
   "cell_type": "code",
   "execution_count": 134,
   "metadata": {},
   "outputs": [
    {
     "data": {
      "text/plain": [
       "'ATGTGA'"
      ]
     },
     "execution_count": 134,
     "metadata": {},
     "output_type": "execute_result"
    }
   ],
   "source": [
    "'ATG' + 'TGA' # EN PYTHON LA SUMA DE PALABRAS, LAS CONCATENA"
   ]
  },
  {
   "cell_type": "code",
   "execution_count": 135,
   "metadata": {},
   "outputs": [],
   "source": [
    "dna = 'A'"
   ]
  },
  {
   "cell_type": "code",
   "execution_count": 136,
   "metadata": {},
   "outputs": [
    {
     "data": {
      "text/plain": [
       "'A'"
      ]
     },
     "execution_count": 136,
     "metadata": {},
     "output_type": "execute_result"
    }
   ],
   "source": [
    "dna"
   ]
  },
  {
   "cell_type": "code",
   "execution_count": 137,
   "metadata": {},
   "outputs": [],
   "source": [
    "dna = dna + 'C'"
   ]
  },
  {
   "cell_type": "code",
   "execution_count": 138,
   "metadata": {},
   "outputs": [
    {
     "data": {
      "text/plain": [
       "'AC'"
      ]
     },
     "execution_count": 138,
     "metadata": {},
     "output_type": "execute_result"
    }
   ],
   "source": [
    "dna"
   ]
  },
  {
   "cell_type": "code",
   "execution_count": 140,
   "metadata": {},
   "outputs": [],
   "source": [
    "dna = dna + 'G'"
   ]
  },
  {
   "cell_type": "code",
   "execution_count": 141,
   "metadata": {},
   "outputs": [
    {
     "data": {
      "text/plain": [
       "'ACG'"
      ]
     },
     "execution_count": 141,
     "metadata": {},
     "output_type": "execute_result"
    }
   ],
   "source": [
    "dna"
   ]
  },
  {
   "cell_type": "code",
   "execution_count": 142,
   "metadata": {},
   "outputs": [
    {
     "data": {
      "text/plain": [
       "['TTGGCAGATTCCCGCCAGAGCAAAACAGCCGCTAGTCCTAGTCCGAGTCGCCCGCAAAGTTCCTCGAATA\\n',\n",
       " 'ACTCCGTACCCGGAGCGCCAAACCGGGTCTCCTTCGCTAAGCTGCGCGAACCACTTGAGGTTCCGGGACT\\n',\n",
       " 'CCTTGACGTCCAGACCGATTCGTTCGAGTGGCTGATCGGTTCGCCGCGCTGGCGCGAATCCGCCGCCGAG\\n',\n",
       " 'CGGGGTGATGTCAACCCAGTGGGTGGCCTGGAAGAGGTGCTCTACGAGCTGTCTCCGATCGAGGACTTCT\\n',\n",
       " 'CCGGGTCGATGTCGTTGTCGTTCTCTGACCCTCGTTTCGACGATGTCAAGGCACCCGTCGACGAGTGCAA\\n',\n",
       " 'AGACAAGGACATGACGTACGCGGCTCCACTGTTCGTCACCGCCGAGTTCATCAACAACAACACCGGTGAG\\n',\n",
       " 'ATCAAGAGTCAGACGGTGTTCATGGGTGACTTCCCGATGATGACCGAGAAGGGCACGTTCATCATCAACG\\n',\n",
       " 'GGACCGAGCGTGTGGTGGTCAGCCAGCTGGTGCGGTCGCCCGGGGTGTACTTCGACGAGACCATTGACAA\\n',\n",
       " 'GTCCACCGACAAGACGCTGCACAGCGTCAAGGTGATCCCGAGCCGCGGCGCGTGGCTCGAGTTTGACGTC\\n',\n",
       " 'GACAAGCGCGACACCGTCGGCGTGCGCATCGACCGCAAACGCCGGCAACCGGTCACCGTGCTGCTCAAGG\\n',\n",
       " 'CGCTGGGCTGGACCAGCGAGCAGATTGTCGAGCGGTTCGGGTTCTCCGAGATCATGCGATCGACGCTGGA\\n',\n",
       " 'GAAGGACAACACCGTCGGCACCGACGAGGCGCTGTTGGACATCTACCGCAAGCTGCGTCCGGGCGAGCCC\\n',\n",
       " 'CCGACCAAAGAGTCAGCGCAGACGCTGTTGGAAAACTTGTTCTTCAAGGAGAAGCGCTACGACCTGGCCC\\n',\n",
       " 'GCGTCGGTCGCTATAAGGTCAACAAGAAGCTCGGGCTGCATGTCGGCGAGCCCATCACGTCGTCGACGCT\\n',\n",
       " 'GACCGAAGAAGACGTCGTGGCCACCATCGAATATCTGGTCCGCTTGCACGAGGGTCAGACCACGATGACC\\n',\n",
       " 'GTTCCGGGCGGCGTCGAGGTGCCGGTGGAAACCGACGACATCGACCACTTCGGCAACCGCCGCCTGCGTA\\n',\n",
       " 'CGGTCGGCGAGCTGATCCAAAACCAGATCCGGGTCGGCATGTCGCGGATGGAGCGGGTGGTCCGGGAGCG\\n',\n",
       " 'GATGACCACCCAGGACGTGGAGGCGATCACACCGCAGACGTTGATCAACATCCGGCCGGTGGTCGCCGCG\\n',\n",
       " 'ATCAAGGAGTTCTTCGGCACCAGCCAGCTGAGCCAATTCATGGACCAGAACAACCCGCTGTCGGGGTTGA\\n',\n",
       " 'CCCACAAGCGCCGACTGTTGGCGCTGGGGCCCGGCGGTCTGTCACGTGAGCGTGCCGGGCTGGAGGTCCG\\n',\n",
       " 'CGACGTGCACCCGTCGCACTACGGCCGGATGTGCCCGATCGAAACCCCTGAGGGGCCCAACATCGGTCTG\\n',\n",
       " 'ATCGGCTCGCTGTCGGTGTACGCGCGGGTCAACCCGTTCGGGTTCATCGAAACGCCGTACCGCAAGGTGG\\n',\n",
       " 'TCGACGGCGTGGTTAGCGACGAGATCGTGTACCTGAC\\n',\n",
       " '\\n']"
      ]
     },
     "execution_count": 142,
     "metadata": {},
     "output_type": "execute_result"
    }
   ],
   "source": [
    "pre_dna"
   ]
  },
  {
   "cell_type": "code",
   "execution_count": 161,
   "metadata": {},
   "outputs": [],
   "source": [
    "dna = 'x'\n",
    "for elemento in pre_dna:\n",
    "    dna = dna + elemento"
   ]
  },
  {
   "cell_type": "code",
   "execution_count": 163,
   "metadata": {},
   "outputs": [
    {
     "data": {
      "text/plain": [
       "'xTTGGCAGATTCCCGCCAGAGCAAAACAGCCGCTAGTCCTAGTCCGAGTCGCCCGCAAAGTTCCTCGAATA\\nACTCCGTACCCGGAGCGCCAAACCGGGTCTCCTTCGCTAAGCTGCGCGAACCACTTGAGGTTCCGGGACT\\nCCTTGACGTCCAGACCGATTCGTTCGAGTGGCTGATCGGTTCGCCGCGCTGGCGCGAATCCGCCGCCGAG\\nCGGGGTGATGTCAACCCAGTGGGTGGCCTGGAAGAGGTGCTCTACGAGCTGTCTCCGATCGAGGACTTCT\\nCCGGGTCGATGTCGTTGTCGTTCTCTGACCCTCGTTTCGACGATGTCAAGGCACCCGTCGACGAGTGCAA\\nAGACAAGGACATGACGTACGCGGCTCCACTGTTCGTCACCGCCGAGTTCATCAACAACAACACCGGTGAG\\nATCAAGAGTCAGACGGTGTTCATGGGTGACTTCCCGATGATGACCGAGAAGGGCACGTTCATCATCAACG\\nGGACCGAGCGTGTGGTGGTCAGCCAGCTGGTGCGGTCGCCCGGGGTGTACTTCGACGAGACCATTGACAA\\nGTCCACCGACAAGACGCTGCACAGCGTCAAGGTGATCCCGAGCCGCGGCGCGTGGCTCGAGTTTGACGTC\\nGACAAGCGCGACACCGTCGGCGTGCGCATCGACCGCAAACGCCGGCAACCGGTCACCGTGCTGCTCAAGG\\nCGCTGGGCTGGACCAGCGAGCAGATTGTCGAGCGGTTCGGGTTCTCCGAGATCATGCGATCGACGCTGGA\\nGAAGGACAACACCGTCGGCACCGACGAGGCGCTGTTGGACATCTACCGCAAGCTGCGTCCGGGCGAGCCC\\nCCGACCAAAGAGTCAGCGCAGACGCTGTTGGAAAACTTGTTCTTCAAGGAGAAGCGCTACGACCTGGCCC\\nGCGTCGGTCGCTATAAGGTCAACAAGAAGCTCGGGCTGCATGTCGGCGAGCCCATCACGTCGTCGACGCT\\nGACCGAAGAAGACGTCGTGGCCACCATCGAATATCTGGTCCGCTTGCACGAGGGTCAGACCACGATGACC\\nGTTCCGGGCGGCGTCGAGGTGCCGGTGGAAACCGACGACATCGACCACTTCGGCAACCGCCGCCTGCGTA\\nCGGTCGGCGAGCTGATCCAAAACCAGATCCGGGTCGGCATGTCGCGGATGGAGCGGGTGGTCCGGGAGCG\\nGATGACCACCCAGGACGTGGAGGCGATCACACCGCAGACGTTGATCAACATCCGGCCGGTGGTCGCCGCG\\nATCAAGGAGTTCTTCGGCACCAGCCAGCTGAGCCAATTCATGGACCAGAACAACCCGCTGTCGGGGTTGA\\nCCCACAAGCGCCGACTGTTGGCGCTGGGGCCCGGCGGTCTGTCACGTGAGCGTGCCGGGCTGGAGGTCCG\\nCGACGTGCACCCGTCGCACTACGGCCGGATGTGCCCGATCGAAACCCCTGAGGGGCCCAACATCGGTCTG\\nATCGGCTCGCTGTCGGTGTACGCGCGGGTCAACCCGTTCGGGTTCATCGAAACGCCGTACCGCAAGGTGG\\nTCGACGGCGTGGTTAGCGACGAGATCGTGTACCTGAC\\n\\n'"
      ]
     },
     "execution_count": 163,
     "metadata": {},
     "output_type": "execute_result"
    }
   ],
   "source": [
    "dna"
   ]
  },
  {
   "cell_type": "code",
   "execution_count": 149,
   "metadata": {},
   "outputs": [
    {
     "data": {
      "text/plain": [
       "'TTGGCAGATTCCCGCCAGAGCAAAACAGCCGCTAGTCCTAGTCCGAGTCGCCCGCAAAGTTCCTCGAATAACTCCGTACCCGGAGCGCCAAACCGGGTCTCCTTCGCTAAGCTGCGCGAACCACTTGAGGTTCCGGGACTCCTTGACGTCCAGACCGATTCGTTCGAGTGGCTGATCGGTTCGCCGCGCTGGCGCGAATCCGCCGCCGAGCGGGGTGATGTCAACCCAGTGGGTGGCCTGGAAGAGGTGCTCTACGAGCTGTCTCCGATCGAGGACTTCTCCGGGTCGATGTCGTTGTCGTTCTCTGACCCTCGTTTCGACGATGTCAAGGCACCCGTCGACGAGTGCAAAGACAAGGACATGACGTACGCGGCTCCACTGTTCGTCACCGCCGAGTTCATCAACAACAACACCGGTGAGATCAAGAGTCAGACGGTGTTCATGGGTGACTTCCCGATGATGACCGAGAAGGGCACGTTCATCATCAACGGGACCGAGCGTGTGGTGGTCAGCCAGCTGGTGCGGTCGCCCGGGGTGTACTTCGACGAGACCATTGACAAGTCCACCGACAAGACGCTGCACAGCGTCAAGGTGATCCCGAGCCGCGGCGCGTGGCTCGAGTTTGACGTCGACAAGCGCGACACCGTCGGCGTGCGCATCGACCGCAAACGCCGGCAACCGGTCACCGTGCTGCTCAAGGCGCTGGGCTGGACCAGCGAGCAGATTGTCGAGCGGTTCGGGTTCTCCGAGATCATGCGATCGACGCTGGAGAAGGACAACACCGTCGGCACCGACGAGGCGCTGTTGGACATCTACCGCAAGCTGCGTCCGGGCGAGCCCCCGACCAAAGAGTCAGCGCAGACGCTGTTGGAAAACTTGTTCTTCAAGGAGAAGCGCTACGACCTGGCCCGCGTCGGTCGCTATAAGGTCAACAAGAAGCTCGGGCTGCATGTCGGCGAGCCCATCACGTCGTCGACGCTGACCGAAGAAGACGTCGTGGCCACCATCGAATATCTGGTCCGCTTGCACGAGGGTCAGACCACGATGACCGTTCCGGGCGGCGTCGAGGTGCCGGTGGAAACCGACGACATCGACCACTTCGGCAACCGCCGCCTGCGTACGGTCGGCGAGCTGATCCAAAACCAGATCCGGGTCGGCATGTCGCGGATGGAGCGGGTGGTCCGGGAGCGGATGACCACCCAGGACGTGGAGGCGATCACACCGCAGACGTTGATCAACATCCGGCCGGTGGTCGCCGCGATCAAGGAGTTCTTCGGCACCAGCCAGCTGAGCCAATTCATGGACCAGAACAACCCGCTGTCGGGGTTGACCCACAAGCGCCGACTGTTGGCGCTGGGGCCCGGCGGTCTGTCACGTGAGCGTGCCGGGCTGGAGGTCCGCGACGTGCACCCGTCGCACTACGGCCGGATGTGCCCGATCGAAACCCCTGAGGGGCCCAACATCGGTCTGATCGGCTCGCTGTCGGTGTACGCGCGGGTCAACCCGTTCGGGTTCATCGAAACGCCGTACCGCAAGGTGGTCGACGGCGTGGTTAGCGACGAGATCGTGTACCTGAC'"
      ]
     },
     "execution_count": 149,
     "metadata": {},
     "output_type": "execute_result"
    }
   ],
   "source": [
    "dna.replace('x','').replace('\\n','') # reemplazo la x inicial por nada (eliminio) / reemplazo el \\n por nada"
   ]
  },
  {
   "cell_type": "code",
   "execution_count": 185,
   "metadata": {},
   "outputs": [],
   "source": [
    "def quitar_formato_dna(data):\n",
    "    pre_dna = data[1:]\n",
    "\n",
    "    dna = 'x'\n",
    "    for elemento in pre_dna:\n",
    "        dna = dna + elemento\n",
    "        \n",
    "    seq = dna.replace('x','').replace('\\n','')\n",
    "    return seq"
   ]
  },
  {
   "cell_type": "code",
   "execution_count": 186,
   "metadata": {},
   "outputs": [],
   "source": [
    "documento = open('C:/Users/bciez/Desktop/data/interleukin.fasta','r') # read -> leer ('r') # ESTO SOLO ABRE EL DOCUMENTO\n",
    "data = documento.readlines() # lee el documento y lo guarda en data\n",
    "documento.close() # cierra el documento (si no lo cierras python puede quedarse sin memoria y tendras que reiniciar)"
   ]
  },
  {
   "cell_type": "code",
   "execution_count": 187,
   "metadata": {},
   "outputs": [],
   "source": [
    "dna = quitar_formato_dna(data)"
   ]
  },
  {
   "cell_type": "code",
   "execution_count": 188,
   "metadata": {},
   "outputs": [
    {
     "data": {
      "text/plain": [
       "'AGTGGTTTTTGGAGTCAGTACATTCTCTTTTCAAATCCTTCTCTGCCCCTTACTGGCAATAAGGGCTGAGTGACCTAGAGGCAAATTACTTAACTTCTCTGAGCCTCAGTTTTCTAATCTGCAAAATAGGAGCCATCACTTCACAAGTCTGTAAGACTTATATTAGACTAAGTGCCTGCCTGTACACTGTTCTCTTTTTCTCTCTTTCTATATACCTGAAGGCATTATAGTGCTAGATGTCTGTTTAAAGACCAGACAATATTGTCTTAAAAAAACAAACAAAAACACAGACAATACCATCTTTAAAAAAAAAAAAAAAGTCCAGGTAAGAAATAAATAAGGCCATAGAATGGAAGCTTTACAAGGACTCTCTTTGAGACAGGATCTCCTCAAGTGTCCCCAGGTTAAATTAGAAGTATATATCCGTACAATTGTTCAGCCAGTTTGTGCACTGTACTGAGGATGAATGAACACCTATCCTAAATATCCTAGTCTTCTGACTAAAAACAAGATCATATTTCATAACGATTATTGTTACATTCATAGTGTCCCAGGTGATTTAGAGGATAAATAAAAATCCATTAAAGAGGTAAAGACATAAAAACGAGAAACATGGACTGGTTTACACATAACACATACAAAGTCTATTATAAAACTAGCATCAGTATCCTTGAATCGAAACCTTTTTCTGAGTATTTAACAATCGCACCCTTTAAAAAATGTACATAGACATTAAGAGACTTAAACAGATATATAATCATTTTAAATTAAAATAGCGTTAAACAGTACCTCAAGCTCAATAAGCATTTTAAGTATTCTAATCTTAGTATTTCTCTAGCTGACATGTAAGAAGCAATCTATCTTATTGTATGCAATTAGCTCTTTGTGTGGATAAAAAGGTAAAACCATTCTGAAACAGGAAACCAATACACTTCCTGTTTAATCAACAAATCTAAACATTTATTCTTTTCATCTGTTTACTCTTGCTCTTGTCCACCACAATATGCTATTCACATGTTCAGTGTAGTTTTATGACAAAGAAAATTTTCTGAGTTACTTTTGTATCCCCACCCCCTTAAAGAAAGGAGGAAAAACTGTTTCATACAGAAGGCGTTAATTGCATGAATTAGAGCTATCACCTAAGTGTGGGCTAATGTAACAAAGAGGGATTTCACCTACATCCATTCAGTCAGTCTTTGGGGGTTTAAAGAAATTCCAAAGAGTCATCAGAAGAGGAAAAATGAAGGTAATGTTTTTTCAGACTGGTAAAGTCTTTGAAAATATGTGTAATATGTAAAACATTTTGACACCCCCATAATATTTTTCCAGAATTAACAGTATAAATTGCATCTCTTGTTCAAGAGTTCCCTATCACTCTTTAATCACTACTCACAGTAACCTCAACTCCTGCCACAATGTACAGGATGCAACTCCTGTCTTGCATTGCACTAAGTCTTGCACTTGTCACAAACAGTGCACCTACTTCAAGTTCTACAAAGAAAACACAGCTACAACTGGAGCATTTACTGCTGGATTTACAGATGATTTTGAATGGAATTAATGTAAGTATATTTCCTTTCTTACTAAAATTATTACATTTAGTAATCTAGCTGGAGATCATTTCTTAATAACAATGCATTATACTTTCTTAGAATTACAAGAATCCCAAACTCACCAGGATGCTCACATTTAAGTTTTACATGCCCAAGAAGGTAAGTACAATATTTTATGTTCAATTTCTGTTTTAATAAAATTCAAAGTAATATGAAAATTTGCACAGATGGGACTAATAGCAGCTCATCTGAGGTAAAGAGTAACTTTAATTTGTTTTTTTGAAAACCCAAGTTTGATAATGAAGCCTCTATTAAAACAGTTTTACCTATATTTTTAATATATATTTGTGTGTTGGTGGGGGTGGGAGAAAACATAAAAATAATATTCTCTCACTTTATCGATAAGACAATTCTAAACAAAAATGTTCATTTATGGTTTCATTTAAAAATGTAAAACTCTAAAATATTTGATTATGTCATTTTAGTATGTAAAATACCAAAATCTATTTCCAAGGAGCCCACTTTTAAAAATCTTTTCTTGTTTTAGGAAAGGTTTCTAAGTGAGAGGCAGCATAACACTAATAGCACAGAGTCTGGGGCCAGATATCTGAAGTGAAATCTCAGCTCTGCCATGTCCTAGCTTTCATGATCTTTGGCAAATTACCTACTCTGTTTGTGATTCAGTTTCATGTCTACTTAAATGAATAACTGTATATACTTAATATGGCTTTGTGAGAATTAGTAAGTAAATGTAAAGCACTCAGAACCGTGTCTGGCATAAGGTAAATACCATACAAGCATTAGCTATTATTAGTAGTATTAAAGATAAAATTTTCACTGAGAAATACAAAGTAAAATTTTGGACTTTATCTTTTTACCAATAGAACTTGAGATTTATAATGCTATATGACTTATTTTCCAAGATTAAAAGCTTCATTAGGTTGTTTTTGGATTCAGATAGAGCATAAGCATAATCATCCAAGCTCCTAGGCTACATTAGGTGTGTAAAGCTACCTAGTAGCTGTGCCAGTTAAGAGAGAATGAACAAAATCTGGTGCCAGAAAGAGCTTGTGCCAGGGTGAATCCAAGCCCAGAAAATAATAGGATTTAAGGGGACACAGATGCAATCCCATTGACTCAAATTCTATTAATTCAAGACAAATCTGCTTCTAACTACCCTTCTGAAAGATGTAAAGGAGACAGCTTACAGATGTTACTCTAGTTTAATCAGAGCCACATAATGCAACTCCAGCAACATAAAGATACTAGATGCTGTTTTCTGAAGAAAATTTCTCCACATTGTTCATGCCAAAAACTTAAACCCGAATTTGTAGAATTTGTAGTGGTGAATTGAAAGCGCAATAGATGGACATATCAGGGGATTGGTATTGTCTTGACCTACCTTTCCCACTAAAGAGTGTTAGAAAGATGAGATTATGTGCATAATTTAGGGGTGGTAGAATTCATGGAAATCTAAGTTTGAAACCAAAAGTAATGATAAACTCTATTCATTTGTTCATTTAACCCTCATTGCACATTTACAAAAGATTTTAGAAACTAATAAAAATATTTGATTCCAAGGATGCTATGTTAATGCTATAATGAGAAAGAAATGAAATCTAATTCTGGCTCTACCTACTTATGTGGTCAAATTCTGAGATTTAGTGTGCTTATTTATAAAGTGGAGATGATACTTCACTGCCTACTTCAAAAGATGACTGTGAGAAGTAAATGGGCCTATTTTGGAGAAAATTCTTTTAAATTGTAATATACCATAGAAATATGAAATATTATATATAATATAGAATCAAGAGGCCTGTCCAAAAGTCCTCCCAAAGTATTATAATCTTTTATTTCACTGGGACAAACATTTTTAAAATGCATCTTAATGTAGTGATTGTAGAAAAGTAAAAATTTAAGACATATTTAAAAATGTGTCTTGCTCAAGGCTATATTGAGAGCCACTACTACATGATTATTGTTACCTAGTGTAAAATGTTGGGATTGTGATAGATGGCATCCAAGAGTTCCTTCTCTCTCAACATTCTGTGATTCTTAACTCTTAGACTATCAAATATTATAATCATAGAATGTGATTTTTATGCCTTCCACATTCTAATCTCATCTGGTTCTAATGATTTTCTATGCAGATTGGAAAAGTAATCAGCCTACATCTGTAATAGGCATTTAGATGCAGAAAGTCTAACATTTTGCAAAGCCAAATTAAGCTAAAACCAGTGAGTCAACTATCACTTAACGCTAGTCATAGGTACTTGAGCCCTAGTTTTTCCAGTTTTATAATGTAAACTCTACTGGTCCATCTTTACAGTGACATTGAGAACAGAGAGAATGGTAAAAACTACATACTGCTACTCCAAATAAAATAAATTGGAAATTAATTTCTGATTCTGACCTCTATGTAAACTGAGCTGATGATAATTATTATTCTAGGCCACAGAACTGAAACATCTTCAGTGTCTAGAAGAAGAACTCAAACCTCTGGAGGAAGTGCTAAATTTAGCTCAAAGCAAAAACTTTCACTTAAGACCCAGGGACTTAATCAGCAATATCAACGTAATAGTTCTGGAACTAAAGGTAAGGCATTACTTTATTTGCTCTCCTGGAAATAAAAAAAAAAAAGTAGGGGGAAAAGTACCACATTTTAAAGTGACATAACATTTTTGGTATTTGTAAAGTACCCATGCATGTAATTAGCCTACATTTTAAGTACACTGTGAACATGAATCATTTCTAATGTTAAATGATTAACTGGGGAGTATAAGCTACTGAGTTTGCACCTACCATCTACTAATGGACAAGCCTCATCCCAAACTCCATCACCTTTCATATTAACACAAAACTGGGAGTGAGAGAGAAGTGACTGAGTTGAGTTTCACAGAAACGCAGGCAAGATTTTATTATATATTTTTCAAGTTCCTTCACAGATCATTTACTGGAATAGCCAATACTGAGTTACCTGAAAGGCTTTTCAAATGGTGTTTCCTTATCATTTGATGGAAGGACTACCCATAAGAGATTTGTCTTAAAAAAAAAAACTGGAGCCATTAAAATGGCCAGTGGACTAAACAAACAACAATCTTTTTAGAGGCAATCCCACTTTCAGAATCTTAAGTATTTTTAAATGCACAGGAAGCATAAAATATGCAAGGGACTCAGGTGATGTAAAAGAGATTCACTTTTGTCTTTTTATATCCCGTCTCCTAAGGTATAAAATTCATGAGTTAATAGGTATCCTAAATAAGCAGCATAAGTATAGTAGTAAAAGACATTCCTAAAAGTAACTCCAGTTGTGTCCAAATGAATCACTTATTAGTGGACTGTTTCAGTTGAATTAAAAAAATACATTGAGATCAATGTCATCTAGACATTGACAGATTCAGTTCCTTATCTATGGCAAGAGTTTTACTCTAAAATAATTAACATCAGAAAACTCATTCTTAACTCTTGATACAAATTTAAGACAAAACCATGCAAAAATCTGAAAACTGTGTTTCAAAAGCCAAACACTTTTTAAAATAAAAAAATCCCAAGATATGACAATATTTAAACAATTATGCTTAAGAGGATACAGAACACTGCAACAGTTTTTTAAAAGAGAATACTTATTTAAAGGGAACACTCTATCTCACCTGCTTTTGTTCCCAGGGTAGGAATCACTTCAAATTTGAAAAGCTCTCTTTTAAATCTCACTATATATCAAAATAGTTGCCTCCTTAGCTTATCAACTAGAGGAAGCGTTTAAATAGCTCCTTTCAGCAGAGAAGCCTAATTTCTAAAAAGCCAGTCCACAGAACAAAATTTCTAATGTTTAAAGCTTTTAAAAGTTGGCAAATTCACCTGCATTGATACTATGATGGGGTAGGGATAGGTGTAAGTATTTATGAAGATGTTCATTCACACAAATTTACCCAAACAGGAAGCATGTCCTACCTAGCTTACTCTAGTGTAGCTCGTTTCGTCTTTGGGGAAAATATAAGGAGATTCACTTAAGTAGAAAAATAGGAGACTCTAATCAAGATTTAGAAAAGAAGAAAGTATAATGTGCATATCAATTCATACATTTAACTTACACAAATATAGGTGTACATTCAGAGGAAAAGCGATCAAGTTTATTTCACATCCAGCATTTAATATTTGTCTAGATCTATTTTTATTTAAATCTTTATTTGCACCCAATTTAGGGAAAAAATTTTTGTGTTCATTGACTGAATTAACAAATGAGGAAAATCTCAGCTTCTGTGTTACTATCATTTGGTATCATAACAAAATACGCAATTTTGGCATTCATTTTGATCATTTCAAGAAAATGTGAATAATTAATATGTTTGGTAAGCTTGAAAATAAAGGCAACAGGCCTATAAGACTTCAATTGGGAATAACTGTATATAAGGTAAACTACTCTGTACTTTAAAAAATTAACATTTTTCTTTTATAGGGATCTGAAACAACATTCATGTGTGAATATGCTGATGAGACAGCAACCATTGTAGAATTTCTGAACAGATGGATTACCTTTTGTCAAAGCATCATCTCAACACTGACTTGATAATTAAGTGCTTCCCACTTAAAACATATCAGGCCTTCTATTTATTTAAATATTTAAATTTTATATTTATTGTTGAATGTATGGTTTGCTACCTATTGTAACTATTATTCTTAATCTTAAAACTATAAATATGGATCTTTTATGATTCTTTTTGTAAGCCCTAGGGGCTCTAAAATGGTTTCACTTATTTATCCCAAAATATTTATTATTATGTTGAATGTTAAATATAGTATCTATGTAGATTGGTTAGTAAAACTATTTAATAAATTTGATAAATATAAACAAGCCTGGATATTTGTTATTTTGGAAACAGCACAGAGTAAGCATTTAAATATTTCTTAGTTACTTGTGTGAACTGTAGGATGGTTAAAATGCTTACAAAAGTCACTCTTTCTCTGAAGAAATATGTAGAACAGAGATGTAGACTTCTCAAAAGCCCTTGCTTTGTCCTTTCAAGGGCTGATCAGACCCTTAGTTCTGGCATCTCTTAGCAGATTATATTTTCCTTCTTCTTAAAATGCCAAACACAAACACTCTTGAAACTCTTCATAGATTTGGTGTGGC'"
      ]
     },
     "execution_count": 188,
     "metadata": {},
     "output_type": "execute_result"
    }
   ],
   "source": [
    "dna"
   ]
  },
  {
   "cell_type": "code",
   "execution_count": 189,
   "metadata": {},
   "outputs": [
    {
     "name": "stdout",
     "output_type": "stream",
     "text": [
      "Longitud del gen:  6684\n",
      "Numero de Adenin:  2342\n",
      "Numero de Timidi:  2165\n",
      "Numero de Citoci:  1113\n",
      "Numero de Guanid:  1064\n",
      "Porcentage GC   :  32.5703171753441\n"
     ]
    }
   ],
   "source": [
    "estadistico_gen_mejorado(dna)"
   ]
  },
  {
   "cell_type": "code",
   "execution_count": 190,
   "metadata": {},
   "outputs": [],
   "source": [
    "documento = open('C:/Users/bciez/Desktop/data/interleukin.fasta','r') # read -> leer ('r') # ESTO SOLO ABRE EL DOCUMENTO\n",
    "data = documento.readlines() # lee el documento y lo guarda en data\n",
    "documento.close()"
   ]
  },
  {
   "cell_type": "code",
   "execution_count": 191,
   "metadata": {},
   "outputs": [
    {
     "data": {
      "text/plain": [
       "[\">X00695.1 Human interleukin-2 (IL-2) gene and 5'-flanking region\\n\",\n",
       " 'AGTGGTTTTTGGAGTCAGTACATTCTCTTTTCAAATCCTTCTCTGCCCCTTACTGGCAATAAGGGCTGAG\\n',\n",
       " 'TGACCTAGAGGCAAATTACTTAACTTCTCTGAGCCTCAGTTTTCTAATCTGCAAAATAGGAGCCATCACT\\n',\n",
       " 'TCACAAGTCTGTAAGACTTATATTAGACTAAGTGCCTGCCTGTACACTGTTCTCTTTTTCTCTCTTTCTA\\n',\n",
       " 'TATACCTGAAGGCATTATAGTGCTAGATGTCTGTTTAAAGACCAGACAATATTGTCTTAAAAAAACAAAC\\n',\n",
       " 'AAAAACACAGACAATACCATCTTTAAAAAAAAAAAAAAAGTCCAGGTAAGAAATAAATAAGGCCATAGAA\\n',\n",
       " 'TGGAAGCTTTACAAGGACTCTCTTTGAGACAGGATCTCCTCAAGTGTCCCCAGGTTAAATTAGAAGTATA\\n',\n",
       " 'TATCCGTACAATTGTTCAGCCAGTTTGTGCACTGTACTGAGGATGAATGAACACCTATCCTAAATATCCT\\n',\n",
       " 'AGTCTTCTGACTAAAAACAAGATCATATTTCATAACGATTATTGTTACATTCATAGTGTCCCAGGTGATT\\n',\n",
       " 'TAGAGGATAAATAAAAATCCATTAAAGAGGTAAAGACATAAAAACGAGAAACATGGACTGGTTTACACAT\\n',\n",
       " 'AACACATACAAAGTCTATTATAAAACTAGCATCAGTATCCTTGAATCGAAACCTTTTTCTGAGTATTTAA\\n',\n",
       " 'CAATCGCACCCTTTAAAAAATGTACATAGACATTAAGAGACTTAAACAGATATATAATCATTTTAAATTA\\n',\n",
       " 'AAATAGCGTTAAACAGTACCTCAAGCTCAATAAGCATTTTAAGTATTCTAATCTTAGTATTTCTCTAGCT\\n',\n",
       " 'GACATGTAAGAAGCAATCTATCTTATTGTATGCAATTAGCTCTTTGTGTGGATAAAAAGGTAAAACCATT\\n',\n",
       " 'CTGAAACAGGAAACCAATACACTTCCTGTTTAATCAACAAATCTAAACATTTATTCTTTTCATCTGTTTA\\n',\n",
       " 'CTCTTGCTCTTGTCCACCACAATATGCTATTCACATGTTCAGTGTAGTTTTATGACAAAGAAAATTTTCT\\n',\n",
       " 'GAGTTACTTTTGTATCCCCACCCCCTTAAAGAAAGGAGGAAAAACTGTTTCATACAGAAGGCGTTAATTG\\n',\n",
       " 'CATGAATTAGAGCTATCACCTAAGTGTGGGCTAATGTAACAAAGAGGGATTTCACCTACATCCATTCAGT\\n',\n",
       " 'CAGTCTTTGGGGGTTTAAAGAAATTCCAAAGAGTCATCAGAAGAGGAAAAATGAAGGTAATGTTTTTTCA\\n',\n",
       " 'GACTGGTAAAGTCTTTGAAAATATGTGTAATATGTAAAACATTTTGACACCCCCATAATATTTTTCCAGA\\n',\n",
       " 'ATTAACAGTATAAATTGCATCTCTTGTTCAAGAGTTCCCTATCACTCTTTAATCACTACTCACAGTAACC\\n',\n",
       " 'TCAACTCCTGCCACAATGTACAGGATGCAACTCCTGTCTTGCATTGCACTAAGTCTTGCACTTGTCACAA\\n',\n",
       " 'ACAGTGCACCTACTTCAAGTTCTACAAAGAAAACACAGCTACAACTGGAGCATTTACTGCTGGATTTACA\\n',\n",
       " 'GATGATTTTGAATGGAATTAATGTAAGTATATTTCCTTTCTTACTAAAATTATTACATTTAGTAATCTAG\\n',\n",
       " 'CTGGAGATCATTTCTTAATAACAATGCATTATACTTTCTTAGAATTACAAGAATCCCAAACTCACCAGGA\\n',\n",
       " 'TGCTCACATTTAAGTTTTACATGCCCAAGAAGGTAAGTACAATATTTTATGTTCAATTTCTGTTTTAATA\\n',\n",
       " 'AAATTCAAAGTAATATGAAAATTTGCACAGATGGGACTAATAGCAGCTCATCTGAGGTAAAGAGTAACTT\\n',\n",
       " 'TAATTTGTTTTTTTGAAAACCCAAGTTTGATAATGAAGCCTCTATTAAAACAGTTTTACCTATATTTTTA\\n',\n",
       " 'ATATATATTTGTGTGTTGGTGGGGGTGGGAGAAAACATAAAAATAATATTCTCTCACTTTATCGATAAGA\\n',\n",
       " 'CAATTCTAAACAAAAATGTTCATTTATGGTTTCATTTAAAAATGTAAAACTCTAAAATATTTGATTATGT\\n',\n",
       " 'CATTTTAGTATGTAAAATACCAAAATCTATTTCCAAGGAGCCCACTTTTAAAAATCTTTTCTTGTTTTAG\\n',\n",
       " 'GAAAGGTTTCTAAGTGAGAGGCAGCATAACACTAATAGCACAGAGTCTGGGGCCAGATATCTGAAGTGAA\\n',\n",
       " 'ATCTCAGCTCTGCCATGTCCTAGCTTTCATGATCTTTGGCAAATTACCTACTCTGTTTGTGATTCAGTTT\\n',\n",
       " 'CATGTCTACTTAAATGAATAACTGTATATACTTAATATGGCTTTGTGAGAATTAGTAAGTAAATGTAAAG\\n',\n",
       " 'CACTCAGAACCGTGTCTGGCATAAGGTAAATACCATACAAGCATTAGCTATTATTAGTAGTATTAAAGAT\\n',\n",
       " 'AAAATTTTCACTGAGAAATACAAAGTAAAATTTTGGACTTTATCTTTTTACCAATAGAACTTGAGATTTA\\n',\n",
       " 'TAATGCTATATGACTTATTTTCCAAGATTAAAAGCTTCATTAGGTTGTTTTTGGATTCAGATAGAGCATA\\n',\n",
       " 'AGCATAATCATCCAAGCTCCTAGGCTACATTAGGTGTGTAAAGCTACCTAGTAGCTGTGCCAGTTAAGAG\\n',\n",
       " 'AGAATGAACAAAATCTGGTGCCAGAAAGAGCTTGTGCCAGGGTGAATCCAAGCCCAGAAAATAATAGGAT\\n',\n",
       " 'TTAAGGGGACACAGATGCAATCCCATTGACTCAAATTCTATTAATTCAAGACAAATCTGCTTCTAACTAC\\n',\n",
       " 'CCTTCTGAAAGATGTAAAGGAGACAGCTTACAGATGTTACTCTAGTTTAATCAGAGCCACATAATGCAAC\\n',\n",
       " 'TCCAGCAACATAAAGATACTAGATGCTGTTTTCTGAAGAAAATTTCTCCACATTGTTCATGCCAAAAACT\\n',\n",
       " 'TAAACCCGAATTTGTAGAATTTGTAGTGGTGAATTGAAAGCGCAATAGATGGACATATCAGGGGATTGGT\\n',\n",
       " 'ATTGTCTTGACCTACCTTTCCCACTAAAGAGTGTTAGAAAGATGAGATTATGTGCATAATTTAGGGGTGG\\n',\n",
       " 'TAGAATTCATGGAAATCTAAGTTTGAAACCAAAAGTAATGATAAACTCTATTCATTTGTTCATTTAACCC\\n',\n",
       " 'TCATTGCACATTTACAAAAGATTTTAGAAACTAATAAAAATATTTGATTCCAAGGATGCTATGTTAATGC\\n',\n",
       " 'TATAATGAGAAAGAAATGAAATCTAATTCTGGCTCTACCTACTTATGTGGTCAAATTCTGAGATTTAGTG\\n',\n",
       " 'TGCTTATTTATAAAGTGGAGATGATACTTCACTGCCTACTTCAAAAGATGACTGTGAGAAGTAAATGGGC\\n',\n",
       " 'CTATTTTGGAGAAAATTCTTTTAAATTGTAATATACCATAGAAATATGAAATATTATATATAATATAGAA\\n',\n",
       " 'TCAAGAGGCCTGTCCAAAAGTCCTCCCAAAGTATTATAATCTTTTATTTCACTGGGACAAACATTTTTAA\\n',\n",
       " 'AATGCATCTTAATGTAGTGATTGTAGAAAAGTAAAAATTTAAGACATATTTAAAAATGTGTCTTGCTCAA\\n',\n",
       " 'GGCTATATTGAGAGCCACTACTACATGATTATTGTTACCTAGTGTAAAATGTTGGGATTGTGATAGATGG\\n',\n",
       " 'CATCCAAGAGTTCCTTCTCTCTCAACATTCTGTGATTCTTAACTCTTAGACTATCAAATATTATAATCAT\\n',\n",
       " 'AGAATGTGATTTTTATGCCTTCCACATTCTAATCTCATCTGGTTCTAATGATTTTCTATGCAGATTGGAA\\n',\n",
       " 'AAGTAATCAGCCTACATCTGTAATAGGCATTTAGATGCAGAAAGTCTAACATTTTGCAAAGCCAAATTAA\\n',\n",
       " 'GCTAAAACCAGTGAGTCAACTATCACTTAACGCTAGTCATAGGTACTTGAGCCCTAGTTTTTCCAGTTTT\\n',\n",
       " 'ATAATGTAAACTCTACTGGTCCATCTTTACAGTGACATTGAGAACAGAGAGAATGGTAAAAACTACATAC\\n',\n",
       " 'TGCTACTCCAAATAAAATAAATTGGAAATTAATTTCTGATTCTGACCTCTATGTAAACTGAGCTGATGAT\\n',\n",
       " 'AATTATTATTCTAGGCCACAGAACTGAAACATCTTCAGTGTCTAGAAGAAGAACTCAAACCTCTGGAGGA\\n',\n",
       " 'AGTGCTAAATTTAGCTCAAAGCAAAAACTTTCACTTAAGACCCAGGGACTTAATCAGCAATATCAACGTA\\n',\n",
       " 'ATAGTTCTGGAACTAAAGGTAAGGCATTACTTTATTTGCTCTCCTGGAAATAAAAAAAAAAAAGTAGGGG\\n',\n",
       " 'GAAAAGTACCACATTTTAAAGTGACATAACATTTTTGGTATTTGTAAAGTACCCATGCATGTAATTAGCC\\n',\n",
       " 'TACATTTTAAGTACACTGTGAACATGAATCATTTCTAATGTTAAATGATTAACTGGGGAGTATAAGCTAC\\n',\n",
       " 'TGAGTTTGCACCTACCATCTACTAATGGACAAGCCTCATCCCAAACTCCATCACCTTTCATATTAACACA\\n',\n",
       " 'AAACTGGGAGTGAGAGAGAAGTGACTGAGTTGAGTTTCACAGAAACGCAGGCAAGATTTTATTATATATT\\n',\n",
       " 'TTTCAAGTTCCTTCACAGATCATTTACTGGAATAGCCAATACTGAGTTACCTGAAAGGCTTTTCAAATGG\\n',\n",
       " 'TGTTTCCTTATCATTTGATGGAAGGACTACCCATAAGAGATTTGTCTTAAAAAAAAAAACTGGAGCCATT\\n',\n",
       " 'AAAATGGCCAGTGGACTAAACAAACAACAATCTTTTTAGAGGCAATCCCACTTTCAGAATCTTAAGTATT\\n',\n",
       " 'TTTAAATGCACAGGAAGCATAAAATATGCAAGGGACTCAGGTGATGTAAAAGAGATTCACTTTTGTCTTT\\n',\n",
       " 'TTATATCCCGTCTCCTAAGGTATAAAATTCATGAGTTAATAGGTATCCTAAATAAGCAGCATAAGTATAG\\n',\n",
       " 'TAGTAAAAGACATTCCTAAAAGTAACTCCAGTTGTGTCCAAATGAATCACTTATTAGTGGACTGTTTCAG\\n',\n",
       " 'TTGAATTAAAAAAATACATTGAGATCAATGTCATCTAGACATTGACAGATTCAGTTCCTTATCTATGGCA\\n',\n",
       " 'AGAGTTTTACTCTAAAATAATTAACATCAGAAAACTCATTCTTAACTCTTGATACAAATTTAAGACAAAA\\n',\n",
       " 'CCATGCAAAAATCTGAAAACTGTGTTTCAAAAGCCAAACACTTTTTAAAATAAAAAAATCCCAAGATATG\\n',\n",
       " 'ACAATATTTAAACAATTATGCTTAAGAGGATACAGAACACTGCAACAGTTTTTTAAAAGAGAATACTTAT\\n',\n",
       " 'TTAAAGGGAACACTCTATCTCACCTGCTTTTGTTCCCAGGGTAGGAATCACTTCAAATTTGAAAAGCTCT\\n',\n",
       " 'CTTTTAAATCTCACTATATATCAAAATAGTTGCCTCCTTAGCTTATCAACTAGAGGAAGCGTTTAAATAG\\n',\n",
       " 'CTCCTTTCAGCAGAGAAGCCTAATTTCTAAAAAGCCAGTCCACAGAACAAAATTTCTAATGTTTAAAGCT\\n',\n",
       " 'TTTAAAAGTTGGCAAATTCACCTGCATTGATACTATGATGGGGTAGGGATAGGTGTAAGTATTTATGAAG\\n',\n",
       " 'ATGTTCATTCACACAAATTTACCCAAACAGGAAGCATGTCCTACCTAGCTTACTCTAGTGTAGCTCGTTT\\n',\n",
       " 'CGTCTTTGGGGAAAATATAAGGAGATTCACTTAAGTAGAAAAATAGGAGACTCTAATCAAGATTTAGAAA\\n',\n",
       " 'AGAAGAAAGTATAATGTGCATATCAATTCATACATTTAACTTACACAAATATAGGTGTACATTCAGAGGA\\n',\n",
       " 'AAAGCGATCAAGTTTATTTCACATCCAGCATTTAATATTTGTCTAGATCTATTTTTATTTAAATCTTTAT\\n',\n",
       " 'TTGCACCCAATTTAGGGAAAAAATTTTTGTGTTCATTGACTGAATTAACAAATGAGGAAAATCTCAGCTT\\n',\n",
       " 'CTGTGTTACTATCATTTGGTATCATAACAAAATACGCAATTTTGGCATTCATTTTGATCATTTCAAGAAA\\n',\n",
       " 'ATGTGAATAATTAATATGTTTGGTAAGCTTGAAAATAAAGGCAACAGGCCTATAAGACTTCAATTGGGAA\\n',\n",
       " 'TAACTGTATATAAGGTAAACTACTCTGTACTTTAAAAAATTAACATTTTTCTTTTATAGGGATCTGAAAC\\n',\n",
       " 'AACATTCATGTGTGAATATGCTGATGAGACAGCAACCATTGTAGAATTTCTGAACAGATGGATTACCTTT\\n',\n",
       " 'TGTCAAAGCATCATCTCAACACTGACTTGATAATTAAGTGCTTCCCACTTAAAACATATCAGGCCTTCTA\\n',\n",
       " 'TTTATTTAAATATTTAAATTTTATATTTATTGTTGAATGTATGGTTTGCTACCTATTGTAACTATTATTC\\n',\n",
       " 'TTAATCTTAAAACTATAAATATGGATCTTTTATGATTCTTTTTGTAAGCCCTAGGGGCTCTAAAATGGTT\\n',\n",
       " 'TCACTTATTTATCCCAAAATATTTATTATTATGTTGAATGTTAAATATAGTATCTATGTAGATTGGTTAG\\n',\n",
       " 'TAAAACTATTTAATAAATTTGATAAATATAAACAAGCCTGGATATTTGTTATTTTGGAAACAGCACAGAG\\n',\n",
       " 'TAAGCATTTAAATATTTCTTAGTTACTTGTGTGAACTGTAGGATGGTTAAAATGCTTACAAAAGTCACTC\\n',\n",
       " 'TTTCTCTGAAGAAATATGTAGAACAGAGATGTAGACTTCTCAAAAGCCCTTGCTTTGTCCTTTCAAGGGC\\n',\n",
       " 'TGATCAGACCCTTAGTTCTGGCATCTCTTAGCAGATTATATTTTCCTTCTTCTTAAAATGCCAAACACAA\\n',\n",
       " 'ACACTCTTGAAACTCTTCATAGATTTGGTGTGGC\\n',\n",
       " '\\n']"
      ]
     },
     "execution_count": 191,
     "metadata": {},
     "output_type": "execute_result"
    }
   ],
   "source": [
    "data"
   ]
  },
  {
   "cell_type": "code",
   "execution_count": 192,
   "metadata": {},
   "outputs": [],
   "source": [
    "pre_dna = data[1:]"
   ]
  },
  {
   "cell_type": "code",
   "execution_count": 193,
   "metadata": {},
   "outputs": [
    {
     "data": {
      "text/plain": [
       "['AGTGGTTTTTGGAGTCAGTACATTCTCTTTTCAAATCCTTCTCTGCCCCTTACTGGCAATAAGGGCTGAG\\n',\n",
       " 'TGACCTAGAGGCAAATTACTTAACTTCTCTGAGCCTCAGTTTTCTAATCTGCAAAATAGGAGCCATCACT\\n',\n",
       " 'TCACAAGTCTGTAAGACTTATATTAGACTAAGTGCCTGCCTGTACACTGTTCTCTTTTTCTCTCTTTCTA\\n',\n",
       " 'TATACCTGAAGGCATTATAGTGCTAGATGTCTGTTTAAAGACCAGACAATATTGTCTTAAAAAAACAAAC\\n',\n",
       " 'AAAAACACAGACAATACCATCTTTAAAAAAAAAAAAAAAGTCCAGGTAAGAAATAAATAAGGCCATAGAA\\n',\n",
       " 'TGGAAGCTTTACAAGGACTCTCTTTGAGACAGGATCTCCTCAAGTGTCCCCAGGTTAAATTAGAAGTATA\\n',\n",
       " 'TATCCGTACAATTGTTCAGCCAGTTTGTGCACTGTACTGAGGATGAATGAACACCTATCCTAAATATCCT\\n',\n",
       " 'AGTCTTCTGACTAAAAACAAGATCATATTTCATAACGATTATTGTTACATTCATAGTGTCCCAGGTGATT\\n',\n",
       " 'TAGAGGATAAATAAAAATCCATTAAAGAGGTAAAGACATAAAAACGAGAAACATGGACTGGTTTACACAT\\n',\n",
       " 'AACACATACAAAGTCTATTATAAAACTAGCATCAGTATCCTTGAATCGAAACCTTTTTCTGAGTATTTAA\\n',\n",
       " 'CAATCGCACCCTTTAAAAAATGTACATAGACATTAAGAGACTTAAACAGATATATAATCATTTTAAATTA\\n',\n",
       " 'AAATAGCGTTAAACAGTACCTCAAGCTCAATAAGCATTTTAAGTATTCTAATCTTAGTATTTCTCTAGCT\\n',\n",
       " 'GACATGTAAGAAGCAATCTATCTTATTGTATGCAATTAGCTCTTTGTGTGGATAAAAAGGTAAAACCATT\\n',\n",
       " 'CTGAAACAGGAAACCAATACACTTCCTGTTTAATCAACAAATCTAAACATTTATTCTTTTCATCTGTTTA\\n',\n",
       " 'CTCTTGCTCTTGTCCACCACAATATGCTATTCACATGTTCAGTGTAGTTTTATGACAAAGAAAATTTTCT\\n',\n",
       " 'GAGTTACTTTTGTATCCCCACCCCCTTAAAGAAAGGAGGAAAAACTGTTTCATACAGAAGGCGTTAATTG\\n',\n",
       " 'CATGAATTAGAGCTATCACCTAAGTGTGGGCTAATGTAACAAAGAGGGATTTCACCTACATCCATTCAGT\\n',\n",
       " 'CAGTCTTTGGGGGTTTAAAGAAATTCCAAAGAGTCATCAGAAGAGGAAAAATGAAGGTAATGTTTTTTCA\\n',\n",
       " 'GACTGGTAAAGTCTTTGAAAATATGTGTAATATGTAAAACATTTTGACACCCCCATAATATTTTTCCAGA\\n',\n",
       " 'ATTAACAGTATAAATTGCATCTCTTGTTCAAGAGTTCCCTATCACTCTTTAATCACTACTCACAGTAACC\\n',\n",
       " 'TCAACTCCTGCCACAATGTACAGGATGCAACTCCTGTCTTGCATTGCACTAAGTCTTGCACTTGTCACAA\\n',\n",
       " 'ACAGTGCACCTACTTCAAGTTCTACAAAGAAAACACAGCTACAACTGGAGCATTTACTGCTGGATTTACA\\n',\n",
       " 'GATGATTTTGAATGGAATTAATGTAAGTATATTTCCTTTCTTACTAAAATTATTACATTTAGTAATCTAG\\n',\n",
       " 'CTGGAGATCATTTCTTAATAACAATGCATTATACTTTCTTAGAATTACAAGAATCCCAAACTCACCAGGA\\n',\n",
       " 'TGCTCACATTTAAGTTTTACATGCCCAAGAAGGTAAGTACAATATTTTATGTTCAATTTCTGTTTTAATA\\n',\n",
       " 'AAATTCAAAGTAATATGAAAATTTGCACAGATGGGACTAATAGCAGCTCATCTGAGGTAAAGAGTAACTT\\n',\n",
       " 'TAATTTGTTTTTTTGAAAACCCAAGTTTGATAATGAAGCCTCTATTAAAACAGTTTTACCTATATTTTTA\\n',\n",
       " 'ATATATATTTGTGTGTTGGTGGGGGTGGGAGAAAACATAAAAATAATATTCTCTCACTTTATCGATAAGA\\n',\n",
       " 'CAATTCTAAACAAAAATGTTCATTTATGGTTTCATTTAAAAATGTAAAACTCTAAAATATTTGATTATGT\\n',\n",
       " 'CATTTTAGTATGTAAAATACCAAAATCTATTTCCAAGGAGCCCACTTTTAAAAATCTTTTCTTGTTTTAG\\n',\n",
       " 'GAAAGGTTTCTAAGTGAGAGGCAGCATAACACTAATAGCACAGAGTCTGGGGCCAGATATCTGAAGTGAA\\n',\n",
       " 'ATCTCAGCTCTGCCATGTCCTAGCTTTCATGATCTTTGGCAAATTACCTACTCTGTTTGTGATTCAGTTT\\n',\n",
       " 'CATGTCTACTTAAATGAATAACTGTATATACTTAATATGGCTTTGTGAGAATTAGTAAGTAAATGTAAAG\\n',\n",
       " 'CACTCAGAACCGTGTCTGGCATAAGGTAAATACCATACAAGCATTAGCTATTATTAGTAGTATTAAAGAT\\n',\n",
       " 'AAAATTTTCACTGAGAAATACAAAGTAAAATTTTGGACTTTATCTTTTTACCAATAGAACTTGAGATTTA\\n',\n",
       " 'TAATGCTATATGACTTATTTTCCAAGATTAAAAGCTTCATTAGGTTGTTTTTGGATTCAGATAGAGCATA\\n',\n",
       " 'AGCATAATCATCCAAGCTCCTAGGCTACATTAGGTGTGTAAAGCTACCTAGTAGCTGTGCCAGTTAAGAG\\n',\n",
       " 'AGAATGAACAAAATCTGGTGCCAGAAAGAGCTTGTGCCAGGGTGAATCCAAGCCCAGAAAATAATAGGAT\\n',\n",
       " 'TTAAGGGGACACAGATGCAATCCCATTGACTCAAATTCTATTAATTCAAGACAAATCTGCTTCTAACTAC\\n',\n",
       " 'CCTTCTGAAAGATGTAAAGGAGACAGCTTACAGATGTTACTCTAGTTTAATCAGAGCCACATAATGCAAC\\n',\n",
       " 'TCCAGCAACATAAAGATACTAGATGCTGTTTTCTGAAGAAAATTTCTCCACATTGTTCATGCCAAAAACT\\n',\n",
       " 'TAAACCCGAATTTGTAGAATTTGTAGTGGTGAATTGAAAGCGCAATAGATGGACATATCAGGGGATTGGT\\n',\n",
       " 'ATTGTCTTGACCTACCTTTCCCACTAAAGAGTGTTAGAAAGATGAGATTATGTGCATAATTTAGGGGTGG\\n',\n",
       " 'TAGAATTCATGGAAATCTAAGTTTGAAACCAAAAGTAATGATAAACTCTATTCATTTGTTCATTTAACCC\\n',\n",
       " 'TCATTGCACATTTACAAAAGATTTTAGAAACTAATAAAAATATTTGATTCCAAGGATGCTATGTTAATGC\\n',\n",
       " 'TATAATGAGAAAGAAATGAAATCTAATTCTGGCTCTACCTACTTATGTGGTCAAATTCTGAGATTTAGTG\\n',\n",
       " 'TGCTTATTTATAAAGTGGAGATGATACTTCACTGCCTACTTCAAAAGATGACTGTGAGAAGTAAATGGGC\\n',\n",
       " 'CTATTTTGGAGAAAATTCTTTTAAATTGTAATATACCATAGAAATATGAAATATTATATATAATATAGAA\\n',\n",
       " 'TCAAGAGGCCTGTCCAAAAGTCCTCCCAAAGTATTATAATCTTTTATTTCACTGGGACAAACATTTTTAA\\n',\n",
       " 'AATGCATCTTAATGTAGTGATTGTAGAAAAGTAAAAATTTAAGACATATTTAAAAATGTGTCTTGCTCAA\\n',\n",
       " 'GGCTATATTGAGAGCCACTACTACATGATTATTGTTACCTAGTGTAAAATGTTGGGATTGTGATAGATGG\\n',\n",
       " 'CATCCAAGAGTTCCTTCTCTCTCAACATTCTGTGATTCTTAACTCTTAGACTATCAAATATTATAATCAT\\n',\n",
       " 'AGAATGTGATTTTTATGCCTTCCACATTCTAATCTCATCTGGTTCTAATGATTTTCTATGCAGATTGGAA\\n',\n",
       " 'AAGTAATCAGCCTACATCTGTAATAGGCATTTAGATGCAGAAAGTCTAACATTTTGCAAAGCCAAATTAA\\n',\n",
       " 'GCTAAAACCAGTGAGTCAACTATCACTTAACGCTAGTCATAGGTACTTGAGCCCTAGTTTTTCCAGTTTT\\n',\n",
       " 'ATAATGTAAACTCTACTGGTCCATCTTTACAGTGACATTGAGAACAGAGAGAATGGTAAAAACTACATAC\\n',\n",
       " 'TGCTACTCCAAATAAAATAAATTGGAAATTAATTTCTGATTCTGACCTCTATGTAAACTGAGCTGATGAT\\n',\n",
       " 'AATTATTATTCTAGGCCACAGAACTGAAACATCTTCAGTGTCTAGAAGAAGAACTCAAACCTCTGGAGGA\\n',\n",
       " 'AGTGCTAAATTTAGCTCAAAGCAAAAACTTTCACTTAAGACCCAGGGACTTAATCAGCAATATCAACGTA\\n',\n",
       " 'ATAGTTCTGGAACTAAAGGTAAGGCATTACTTTATTTGCTCTCCTGGAAATAAAAAAAAAAAAGTAGGGG\\n',\n",
       " 'GAAAAGTACCACATTTTAAAGTGACATAACATTTTTGGTATTTGTAAAGTACCCATGCATGTAATTAGCC\\n',\n",
       " 'TACATTTTAAGTACACTGTGAACATGAATCATTTCTAATGTTAAATGATTAACTGGGGAGTATAAGCTAC\\n',\n",
       " 'TGAGTTTGCACCTACCATCTACTAATGGACAAGCCTCATCCCAAACTCCATCACCTTTCATATTAACACA\\n',\n",
       " 'AAACTGGGAGTGAGAGAGAAGTGACTGAGTTGAGTTTCACAGAAACGCAGGCAAGATTTTATTATATATT\\n',\n",
       " 'TTTCAAGTTCCTTCACAGATCATTTACTGGAATAGCCAATACTGAGTTACCTGAAAGGCTTTTCAAATGG\\n',\n",
       " 'TGTTTCCTTATCATTTGATGGAAGGACTACCCATAAGAGATTTGTCTTAAAAAAAAAAACTGGAGCCATT\\n',\n",
       " 'AAAATGGCCAGTGGACTAAACAAACAACAATCTTTTTAGAGGCAATCCCACTTTCAGAATCTTAAGTATT\\n',\n",
       " 'TTTAAATGCACAGGAAGCATAAAATATGCAAGGGACTCAGGTGATGTAAAAGAGATTCACTTTTGTCTTT\\n',\n",
       " 'TTATATCCCGTCTCCTAAGGTATAAAATTCATGAGTTAATAGGTATCCTAAATAAGCAGCATAAGTATAG\\n',\n",
       " 'TAGTAAAAGACATTCCTAAAAGTAACTCCAGTTGTGTCCAAATGAATCACTTATTAGTGGACTGTTTCAG\\n',\n",
       " 'TTGAATTAAAAAAATACATTGAGATCAATGTCATCTAGACATTGACAGATTCAGTTCCTTATCTATGGCA\\n',\n",
       " 'AGAGTTTTACTCTAAAATAATTAACATCAGAAAACTCATTCTTAACTCTTGATACAAATTTAAGACAAAA\\n',\n",
       " 'CCATGCAAAAATCTGAAAACTGTGTTTCAAAAGCCAAACACTTTTTAAAATAAAAAAATCCCAAGATATG\\n',\n",
       " 'ACAATATTTAAACAATTATGCTTAAGAGGATACAGAACACTGCAACAGTTTTTTAAAAGAGAATACTTAT\\n',\n",
       " 'TTAAAGGGAACACTCTATCTCACCTGCTTTTGTTCCCAGGGTAGGAATCACTTCAAATTTGAAAAGCTCT\\n',\n",
       " 'CTTTTAAATCTCACTATATATCAAAATAGTTGCCTCCTTAGCTTATCAACTAGAGGAAGCGTTTAAATAG\\n',\n",
       " 'CTCCTTTCAGCAGAGAAGCCTAATTTCTAAAAAGCCAGTCCACAGAACAAAATTTCTAATGTTTAAAGCT\\n',\n",
       " 'TTTAAAAGTTGGCAAATTCACCTGCATTGATACTATGATGGGGTAGGGATAGGTGTAAGTATTTATGAAG\\n',\n",
       " 'ATGTTCATTCACACAAATTTACCCAAACAGGAAGCATGTCCTACCTAGCTTACTCTAGTGTAGCTCGTTT\\n',\n",
       " 'CGTCTTTGGGGAAAATATAAGGAGATTCACTTAAGTAGAAAAATAGGAGACTCTAATCAAGATTTAGAAA\\n',\n",
       " 'AGAAGAAAGTATAATGTGCATATCAATTCATACATTTAACTTACACAAATATAGGTGTACATTCAGAGGA\\n',\n",
       " 'AAAGCGATCAAGTTTATTTCACATCCAGCATTTAATATTTGTCTAGATCTATTTTTATTTAAATCTTTAT\\n',\n",
       " 'TTGCACCCAATTTAGGGAAAAAATTTTTGTGTTCATTGACTGAATTAACAAATGAGGAAAATCTCAGCTT\\n',\n",
       " 'CTGTGTTACTATCATTTGGTATCATAACAAAATACGCAATTTTGGCATTCATTTTGATCATTTCAAGAAA\\n',\n",
       " 'ATGTGAATAATTAATATGTTTGGTAAGCTTGAAAATAAAGGCAACAGGCCTATAAGACTTCAATTGGGAA\\n',\n",
       " 'TAACTGTATATAAGGTAAACTACTCTGTACTTTAAAAAATTAACATTTTTCTTTTATAGGGATCTGAAAC\\n',\n",
       " 'AACATTCATGTGTGAATATGCTGATGAGACAGCAACCATTGTAGAATTTCTGAACAGATGGATTACCTTT\\n',\n",
       " 'TGTCAAAGCATCATCTCAACACTGACTTGATAATTAAGTGCTTCCCACTTAAAACATATCAGGCCTTCTA\\n',\n",
       " 'TTTATTTAAATATTTAAATTTTATATTTATTGTTGAATGTATGGTTTGCTACCTATTGTAACTATTATTC\\n',\n",
       " 'TTAATCTTAAAACTATAAATATGGATCTTTTATGATTCTTTTTGTAAGCCCTAGGGGCTCTAAAATGGTT\\n',\n",
       " 'TCACTTATTTATCCCAAAATATTTATTATTATGTTGAATGTTAAATATAGTATCTATGTAGATTGGTTAG\\n',\n",
       " 'TAAAACTATTTAATAAATTTGATAAATATAAACAAGCCTGGATATTTGTTATTTTGGAAACAGCACAGAG\\n',\n",
       " 'TAAGCATTTAAATATTTCTTAGTTACTTGTGTGAACTGTAGGATGGTTAAAATGCTTACAAAAGTCACTC\\n',\n",
       " 'TTTCTCTGAAGAAATATGTAGAACAGAGATGTAGACTTCTCAAAAGCCCTTGCTTTGTCCTTTCAAGGGC\\n',\n",
       " 'TGATCAGACCCTTAGTTCTGGCATCTCTTAGCAGATTATATTTTCCTTCTTCTTAAAATGCCAAACACAA\\n',\n",
       " 'ACACTCTTGAAACTCTTCATAGATTTGGTGTGGC\\n',\n",
       " '\\n']"
      ]
     },
     "execution_count": 193,
     "metadata": {},
     "output_type": "execute_result"
    }
   ],
   "source": [
    "pre_dna"
   ]
  },
  {
   "cell_type": "code",
   "execution_count": 194,
   "metadata": {},
   "outputs": [],
   "source": [
    "dna = 'x'\n",
    "for elemento in pre_dna:\n",
    "    dna = dna + elemento\n",
    "    #print(elemento)"
   ]
  },
  {
   "cell_type": "code",
   "execution_count": 195,
   "metadata": {},
   "outputs": [],
   "source": [
    "temp1 =dna.replace('x','')"
   ]
  },
  {
   "cell_type": "code",
   "execution_count": 196,
   "metadata": {},
   "outputs": [
    {
     "data": {
      "text/plain": [
       "'AGTGGTTTTTGGAGTCAGTACATTCTCTTTTCAAATCCTTCTCTGCCCCTTACTGGCAATAAGGGCTGAG\\nTGACCTAGAGGCAAATTACTTAACTTCTCTGAGCCTCAGTTTTCTAATCTGCAAAATAGGAGCCATCACT\\nTCACAAGTCTGTAAGACTTATATTAGACTAAGTGCCTGCCTGTACACTGTTCTCTTTTTCTCTCTTTCTA\\nTATACCTGAAGGCATTATAGTGCTAGATGTCTGTTTAAAGACCAGACAATATTGTCTTAAAAAAACAAAC\\nAAAAACACAGACAATACCATCTTTAAAAAAAAAAAAAAAGTCCAGGTAAGAAATAAATAAGGCCATAGAA\\nTGGAAGCTTTACAAGGACTCTCTTTGAGACAGGATCTCCTCAAGTGTCCCCAGGTTAAATTAGAAGTATA\\nTATCCGTACAATTGTTCAGCCAGTTTGTGCACTGTACTGAGGATGAATGAACACCTATCCTAAATATCCT\\nAGTCTTCTGACTAAAAACAAGATCATATTTCATAACGATTATTGTTACATTCATAGTGTCCCAGGTGATT\\nTAGAGGATAAATAAAAATCCATTAAAGAGGTAAAGACATAAAAACGAGAAACATGGACTGGTTTACACAT\\nAACACATACAAAGTCTATTATAAAACTAGCATCAGTATCCTTGAATCGAAACCTTTTTCTGAGTATTTAA\\nCAATCGCACCCTTTAAAAAATGTACATAGACATTAAGAGACTTAAACAGATATATAATCATTTTAAATTA\\nAAATAGCGTTAAACAGTACCTCAAGCTCAATAAGCATTTTAAGTATTCTAATCTTAGTATTTCTCTAGCT\\nGACATGTAAGAAGCAATCTATCTTATTGTATGCAATTAGCTCTTTGTGTGGATAAAAAGGTAAAACCATT\\nCTGAAACAGGAAACCAATACACTTCCTGTTTAATCAACAAATCTAAACATTTATTCTTTTCATCTGTTTA\\nCTCTTGCTCTTGTCCACCACAATATGCTATTCACATGTTCAGTGTAGTTTTATGACAAAGAAAATTTTCT\\nGAGTTACTTTTGTATCCCCACCCCCTTAAAGAAAGGAGGAAAAACTGTTTCATACAGAAGGCGTTAATTG\\nCATGAATTAGAGCTATCACCTAAGTGTGGGCTAATGTAACAAAGAGGGATTTCACCTACATCCATTCAGT\\nCAGTCTTTGGGGGTTTAAAGAAATTCCAAAGAGTCATCAGAAGAGGAAAAATGAAGGTAATGTTTTTTCA\\nGACTGGTAAAGTCTTTGAAAATATGTGTAATATGTAAAACATTTTGACACCCCCATAATATTTTTCCAGA\\nATTAACAGTATAAATTGCATCTCTTGTTCAAGAGTTCCCTATCACTCTTTAATCACTACTCACAGTAACC\\nTCAACTCCTGCCACAATGTACAGGATGCAACTCCTGTCTTGCATTGCACTAAGTCTTGCACTTGTCACAA\\nACAGTGCACCTACTTCAAGTTCTACAAAGAAAACACAGCTACAACTGGAGCATTTACTGCTGGATTTACA\\nGATGATTTTGAATGGAATTAATGTAAGTATATTTCCTTTCTTACTAAAATTATTACATTTAGTAATCTAG\\nCTGGAGATCATTTCTTAATAACAATGCATTATACTTTCTTAGAATTACAAGAATCCCAAACTCACCAGGA\\nTGCTCACATTTAAGTTTTACATGCCCAAGAAGGTAAGTACAATATTTTATGTTCAATTTCTGTTTTAATA\\nAAATTCAAAGTAATATGAAAATTTGCACAGATGGGACTAATAGCAGCTCATCTGAGGTAAAGAGTAACTT\\nTAATTTGTTTTTTTGAAAACCCAAGTTTGATAATGAAGCCTCTATTAAAACAGTTTTACCTATATTTTTA\\nATATATATTTGTGTGTTGGTGGGGGTGGGAGAAAACATAAAAATAATATTCTCTCACTTTATCGATAAGA\\nCAATTCTAAACAAAAATGTTCATTTATGGTTTCATTTAAAAATGTAAAACTCTAAAATATTTGATTATGT\\nCATTTTAGTATGTAAAATACCAAAATCTATTTCCAAGGAGCCCACTTTTAAAAATCTTTTCTTGTTTTAG\\nGAAAGGTTTCTAAGTGAGAGGCAGCATAACACTAATAGCACAGAGTCTGGGGCCAGATATCTGAAGTGAA\\nATCTCAGCTCTGCCATGTCCTAGCTTTCATGATCTTTGGCAAATTACCTACTCTGTTTGTGATTCAGTTT\\nCATGTCTACTTAAATGAATAACTGTATATACTTAATATGGCTTTGTGAGAATTAGTAAGTAAATGTAAAG\\nCACTCAGAACCGTGTCTGGCATAAGGTAAATACCATACAAGCATTAGCTATTATTAGTAGTATTAAAGAT\\nAAAATTTTCACTGAGAAATACAAAGTAAAATTTTGGACTTTATCTTTTTACCAATAGAACTTGAGATTTA\\nTAATGCTATATGACTTATTTTCCAAGATTAAAAGCTTCATTAGGTTGTTTTTGGATTCAGATAGAGCATA\\nAGCATAATCATCCAAGCTCCTAGGCTACATTAGGTGTGTAAAGCTACCTAGTAGCTGTGCCAGTTAAGAG\\nAGAATGAACAAAATCTGGTGCCAGAAAGAGCTTGTGCCAGGGTGAATCCAAGCCCAGAAAATAATAGGAT\\nTTAAGGGGACACAGATGCAATCCCATTGACTCAAATTCTATTAATTCAAGACAAATCTGCTTCTAACTAC\\nCCTTCTGAAAGATGTAAAGGAGACAGCTTACAGATGTTACTCTAGTTTAATCAGAGCCACATAATGCAAC\\nTCCAGCAACATAAAGATACTAGATGCTGTTTTCTGAAGAAAATTTCTCCACATTGTTCATGCCAAAAACT\\nTAAACCCGAATTTGTAGAATTTGTAGTGGTGAATTGAAAGCGCAATAGATGGACATATCAGGGGATTGGT\\nATTGTCTTGACCTACCTTTCCCACTAAAGAGTGTTAGAAAGATGAGATTATGTGCATAATTTAGGGGTGG\\nTAGAATTCATGGAAATCTAAGTTTGAAACCAAAAGTAATGATAAACTCTATTCATTTGTTCATTTAACCC\\nTCATTGCACATTTACAAAAGATTTTAGAAACTAATAAAAATATTTGATTCCAAGGATGCTATGTTAATGC\\nTATAATGAGAAAGAAATGAAATCTAATTCTGGCTCTACCTACTTATGTGGTCAAATTCTGAGATTTAGTG\\nTGCTTATTTATAAAGTGGAGATGATACTTCACTGCCTACTTCAAAAGATGACTGTGAGAAGTAAATGGGC\\nCTATTTTGGAGAAAATTCTTTTAAATTGTAATATACCATAGAAATATGAAATATTATATATAATATAGAA\\nTCAAGAGGCCTGTCCAAAAGTCCTCCCAAAGTATTATAATCTTTTATTTCACTGGGACAAACATTTTTAA\\nAATGCATCTTAATGTAGTGATTGTAGAAAAGTAAAAATTTAAGACATATTTAAAAATGTGTCTTGCTCAA\\nGGCTATATTGAGAGCCACTACTACATGATTATTGTTACCTAGTGTAAAATGTTGGGATTGTGATAGATGG\\nCATCCAAGAGTTCCTTCTCTCTCAACATTCTGTGATTCTTAACTCTTAGACTATCAAATATTATAATCAT\\nAGAATGTGATTTTTATGCCTTCCACATTCTAATCTCATCTGGTTCTAATGATTTTCTATGCAGATTGGAA\\nAAGTAATCAGCCTACATCTGTAATAGGCATTTAGATGCAGAAAGTCTAACATTTTGCAAAGCCAAATTAA\\nGCTAAAACCAGTGAGTCAACTATCACTTAACGCTAGTCATAGGTACTTGAGCCCTAGTTTTTCCAGTTTT\\nATAATGTAAACTCTACTGGTCCATCTTTACAGTGACATTGAGAACAGAGAGAATGGTAAAAACTACATAC\\nTGCTACTCCAAATAAAATAAATTGGAAATTAATTTCTGATTCTGACCTCTATGTAAACTGAGCTGATGAT\\nAATTATTATTCTAGGCCACAGAACTGAAACATCTTCAGTGTCTAGAAGAAGAACTCAAACCTCTGGAGGA\\nAGTGCTAAATTTAGCTCAAAGCAAAAACTTTCACTTAAGACCCAGGGACTTAATCAGCAATATCAACGTA\\nATAGTTCTGGAACTAAAGGTAAGGCATTACTTTATTTGCTCTCCTGGAAATAAAAAAAAAAAAGTAGGGG\\nGAAAAGTACCACATTTTAAAGTGACATAACATTTTTGGTATTTGTAAAGTACCCATGCATGTAATTAGCC\\nTACATTTTAAGTACACTGTGAACATGAATCATTTCTAATGTTAAATGATTAACTGGGGAGTATAAGCTAC\\nTGAGTTTGCACCTACCATCTACTAATGGACAAGCCTCATCCCAAACTCCATCACCTTTCATATTAACACA\\nAAACTGGGAGTGAGAGAGAAGTGACTGAGTTGAGTTTCACAGAAACGCAGGCAAGATTTTATTATATATT\\nTTTCAAGTTCCTTCACAGATCATTTACTGGAATAGCCAATACTGAGTTACCTGAAAGGCTTTTCAAATGG\\nTGTTTCCTTATCATTTGATGGAAGGACTACCCATAAGAGATTTGTCTTAAAAAAAAAAACTGGAGCCATT\\nAAAATGGCCAGTGGACTAAACAAACAACAATCTTTTTAGAGGCAATCCCACTTTCAGAATCTTAAGTATT\\nTTTAAATGCACAGGAAGCATAAAATATGCAAGGGACTCAGGTGATGTAAAAGAGATTCACTTTTGTCTTT\\nTTATATCCCGTCTCCTAAGGTATAAAATTCATGAGTTAATAGGTATCCTAAATAAGCAGCATAAGTATAG\\nTAGTAAAAGACATTCCTAAAAGTAACTCCAGTTGTGTCCAAATGAATCACTTATTAGTGGACTGTTTCAG\\nTTGAATTAAAAAAATACATTGAGATCAATGTCATCTAGACATTGACAGATTCAGTTCCTTATCTATGGCA\\nAGAGTTTTACTCTAAAATAATTAACATCAGAAAACTCATTCTTAACTCTTGATACAAATTTAAGACAAAA\\nCCATGCAAAAATCTGAAAACTGTGTTTCAAAAGCCAAACACTTTTTAAAATAAAAAAATCCCAAGATATG\\nACAATATTTAAACAATTATGCTTAAGAGGATACAGAACACTGCAACAGTTTTTTAAAAGAGAATACTTAT\\nTTAAAGGGAACACTCTATCTCACCTGCTTTTGTTCCCAGGGTAGGAATCACTTCAAATTTGAAAAGCTCT\\nCTTTTAAATCTCACTATATATCAAAATAGTTGCCTCCTTAGCTTATCAACTAGAGGAAGCGTTTAAATAG\\nCTCCTTTCAGCAGAGAAGCCTAATTTCTAAAAAGCCAGTCCACAGAACAAAATTTCTAATGTTTAAAGCT\\nTTTAAAAGTTGGCAAATTCACCTGCATTGATACTATGATGGGGTAGGGATAGGTGTAAGTATTTATGAAG\\nATGTTCATTCACACAAATTTACCCAAACAGGAAGCATGTCCTACCTAGCTTACTCTAGTGTAGCTCGTTT\\nCGTCTTTGGGGAAAATATAAGGAGATTCACTTAAGTAGAAAAATAGGAGACTCTAATCAAGATTTAGAAA\\nAGAAGAAAGTATAATGTGCATATCAATTCATACATTTAACTTACACAAATATAGGTGTACATTCAGAGGA\\nAAAGCGATCAAGTTTATTTCACATCCAGCATTTAATATTTGTCTAGATCTATTTTTATTTAAATCTTTAT\\nTTGCACCCAATTTAGGGAAAAAATTTTTGTGTTCATTGACTGAATTAACAAATGAGGAAAATCTCAGCTT\\nCTGTGTTACTATCATTTGGTATCATAACAAAATACGCAATTTTGGCATTCATTTTGATCATTTCAAGAAA\\nATGTGAATAATTAATATGTTTGGTAAGCTTGAAAATAAAGGCAACAGGCCTATAAGACTTCAATTGGGAA\\nTAACTGTATATAAGGTAAACTACTCTGTACTTTAAAAAATTAACATTTTTCTTTTATAGGGATCTGAAAC\\nAACATTCATGTGTGAATATGCTGATGAGACAGCAACCATTGTAGAATTTCTGAACAGATGGATTACCTTT\\nTGTCAAAGCATCATCTCAACACTGACTTGATAATTAAGTGCTTCCCACTTAAAACATATCAGGCCTTCTA\\nTTTATTTAAATATTTAAATTTTATATTTATTGTTGAATGTATGGTTTGCTACCTATTGTAACTATTATTC\\nTTAATCTTAAAACTATAAATATGGATCTTTTATGATTCTTTTTGTAAGCCCTAGGGGCTCTAAAATGGTT\\nTCACTTATTTATCCCAAAATATTTATTATTATGTTGAATGTTAAATATAGTATCTATGTAGATTGGTTAG\\nTAAAACTATTTAATAAATTTGATAAATATAAACAAGCCTGGATATTTGTTATTTTGGAAACAGCACAGAG\\nTAAGCATTTAAATATTTCTTAGTTACTTGTGTGAACTGTAGGATGGTTAAAATGCTTACAAAAGTCACTC\\nTTTCTCTGAAGAAATATGTAGAACAGAGATGTAGACTTCTCAAAAGCCCTTGCTTTGTCCTTTCAAGGGC\\nTGATCAGACCCTTAGTTCTGGCATCTCTTAGCAGATTATATTTTCCTTCTTCTTAAAATGCCAAACACAA\\nACACTCTTGAAACTCTTCATAGATTTGGTGTGGC\\n\\n'"
      ]
     },
     "execution_count": 196,
     "metadata": {},
     "output_type": "execute_result"
    }
   ],
   "source": [
    "temp1"
   ]
  },
  {
   "cell_type": "code",
   "execution_count": 197,
   "metadata": {},
   "outputs": [
    {
     "data": {
      "text/plain": [
       "'AGTGGTTTTTGGAGTCAGTACATTCTCTTTTCAAATCCTTCTCTGCCCCTTACTGGCAATAAGGGCTGAGTGACCTAGAGGCAAATTACTTAACTTCTCTGAGCCTCAGTTTTCTAATCTGCAAAATAGGAGCCATCACTTCACAAGTCTGTAAGACTTATATTAGACTAAGTGCCTGCCTGTACACTGTTCTCTTTTTCTCTCTTTCTATATACCTGAAGGCATTATAGTGCTAGATGTCTGTTTAAAGACCAGACAATATTGTCTTAAAAAAACAAACAAAAACACAGACAATACCATCTTTAAAAAAAAAAAAAAAGTCCAGGTAAGAAATAAATAAGGCCATAGAATGGAAGCTTTACAAGGACTCTCTTTGAGACAGGATCTCCTCAAGTGTCCCCAGGTTAAATTAGAAGTATATATCCGTACAATTGTTCAGCCAGTTTGTGCACTGTACTGAGGATGAATGAACACCTATCCTAAATATCCTAGTCTTCTGACTAAAAACAAGATCATATTTCATAACGATTATTGTTACATTCATAGTGTCCCAGGTGATTTAGAGGATAAATAAAAATCCATTAAAGAGGTAAAGACATAAAAACGAGAAACATGGACTGGTTTACACATAACACATACAAAGTCTATTATAAAACTAGCATCAGTATCCTTGAATCGAAACCTTTTTCTGAGTATTTAACAATCGCACCCTTTAAAAAATGTACATAGACATTAAGAGACTTAAACAGATATATAATCATTTTAAATTAAAATAGCGTTAAACAGTACCTCAAGCTCAATAAGCATTTTAAGTATTCTAATCTTAGTATTTCTCTAGCTGACATGTAAGAAGCAATCTATCTTATTGTATGCAATTAGCTCTTTGTGTGGATAAAAAGGTAAAACCATTCTGAAACAGGAAACCAATACACTTCCTGTTTAATCAACAAATCTAAACATTTATTCTTTTCATCTGTTTACTCTTGCTCTTGTCCACCACAATATGCTATTCACATGTTCAGTGTAGTTTTATGACAAAGAAAATTTTCTGAGTTACTTTTGTATCCCCACCCCCTTAAAGAAAGGAGGAAAAACTGTTTCATACAGAAGGCGTTAATTGCATGAATTAGAGCTATCACCTAAGTGTGGGCTAATGTAACAAAGAGGGATTTCACCTACATCCATTCAGTCAGTCTTTGGGGGTTTAAAGAAATTCCAAAGAGTCATCAGAAGAGGAAAAATGAAGGTAATGTTTTTTCAGACTGGTAAAGTCTTTGAAAATATGTGTAATATGTAAAACATTTTGACACCCCCATAATATTTTTCCAGAATTAACAGTATAAATTGCATCTCTTGTTCAAGAGTTCCCTATCACTCTTTAATCACTACTCACAGTAACCTCAACTCCTGCCACAATGTACAGGATGCAACTCCTGTCTTGCATTGCACTAAGTCTTGCACTTGTCACAAACAGTGCACCTACTTCAAGTTCTACAAAGAAAACACAGCTACAACTGGAGCATTTACTGCTGGATTTACAGATGATTTTGAATGGAATTAATGTAAGTATATTTCCTTTCTTACTAAAATTATTACATTTAGTAATCTAGCTGGAGATCATTTCTTAATAACAATGCATTATACTTTCTTAGAATTACAAGAATCCCAAACTCACCAGGATGCTCACATTTAAGTTTTACATGCCCAAGAAGGTAAGTACAATATTTTATGTTCAATTTCTGTTTTAATAAAATTCAAAGTAATATGAAAATTTGCACAGATGGGACTAATAGCAGCTCATCTGAGGTAAAGAGTAACTTTAATTTGTTTTTTTGAAAACCCAAGTTTGATAATGAAGCCTCTATTAAAACAGTTTTACCTATATTTTTAATATATATTTGTGTGTTGGTGGGGGTGGGAGAAAACATAAAAATAATATTCTCTCACTTTATCGATAAGACAATTCTAAACAAAAATGTTCATTTATGGTTTCATTTAAAAATGTAAAACTCTAAAATATTTGATTATGTCATTTTAGTATGTAAAATACCAAAATCTATTTCCAAGGAGCCCACTTTTAAAAATCTTTTCTTGTTTTAGGAAAGGTTTCTAAGTGAGAGGCAGCATAACACTAATAGCACAGAGTCTGGGGCCAGATATCTGAAGTGAAATCTCAGCTCTGCCATGTCCTAGCTTTCATGATCTTTGGCAAATTACCTACTCTGTTTGTGATTCAGTTTCATGTCTACTTAAATGAATAACTGTATATACTTAATATGGCTTTGTGAGAATTAGTAAGTAAATGTAAAGCACTCAGAACCGTGTCTGGCATAAGGTAAATACCATACAAGCATTAGCTATTATTAGTAGTATTAAAGATAAAATTTTCACTGAGAAATACAAAGTAAAATTTTGGACTTTATCTTTTTACCAATAGAACTTGAGATTTATAATGCTATATGACTTATTTTCCAAGATTAAAAGCTTCATTAGGTTGTTTTTGGATTCAGATAGAGCATAAGCATAATCATCCAAGCTCCTAGGCTACATTAGGTGTGTAAAGCTACCTAGTAGCTGTGCCAGTTAAGAGAGAATGAACAAAATCTGGTGCCAGAAAGAGCTTGTGCCAGGGTGAATCCAAGCCCAGAAAATAATAGGATTTAAGGGGACACAGATGCAATCCCATTGACTCAAATTCTATTAATTCAAGACAAATCTGCTTCTAACTACCCTTCTGAAAGATGTAAAGGAGACAGCTTACAGATGTTACTCTAGTTTAATCAGAGCCACATAATGCAACTCCAGCAACATAAAGATACTAGATGCTGTTTTCTGAAGAAAATTTCTCCACATTGTTCATGCCAAAAACTTAAACCCGAATTTGTAGAATTTGTAGTGGTGAATTGAAAGCGCAATAGATGGACATATCAGGGGATTGGTATTGTCTTGACCTACCTTTCCCACTAAAGAGTGTTAGAAAGATGAGATTATGTGCATAATTTAGGGGTGGTAGAATTCATGGAAATCTAAGTTTGAAACCAAAAGTAATGATAAACTCTATTCATTTGTTCATTTAACCCTCATTGCACATTTACAAAAGATTTTAGAAACTAATAAAAATATTTGATTCCAAGGATGCTATGTTAATGCTATAATGAGAAAGAAATGAAATCTAATTCTGGCTCTACCTACTTATGTGGTCAAATTCTGAGATTTAGTGTGCTTATTTATAAAGTGGAGATGATACTTCACTGCCTACTTCAAAAGATGACTGTGAGAAGTAAATGGGCCTATTTTGGAGAAAATTCTTTTAAATTGTAATATACCATAGAAATATGAAATATTATATATAATATAGAATCAAGAGGCCTGTCCAAAAGTCCTCCCAAAGTATTATAATCTTTTATTTCACTGGGACAAACATTTTTAAAATGCATCTTAATGTAGTGATTGTAGAAAAGTAAAAATTTAAGACATATTTAAAAATGTGTCTTGCTCAAGGCTATATTGAGAGCCACTACTACATGATTATTGTTACCTAGTGTAAAATGTTGGGATTGTGATAGATGGCATCCAAGAGTTCCTTCTCTCTCAACATTCTGTGATTCTTAACTCTTAGACTATCAAATATTATAATCATAGAATGTGATTTTTATGCCTTCCACATTCTAATCTCATCTGGTTCTAATGATTTTCTATGCAGATTGGAAAAGTAATCAGCCTACATCTGTAATAGGCATTTAGATGCAGAAAGTCTAACATTTTGCAAAGCCAAATTAAGCTAAAACCAGTGAGTCAACTATCACTTAACGCTAGTCATAGGTACTTGAGCCCTAGTTTTTCCAGTTTTATAATGTAAACTCTACTGGTCCATCTTTACAGTGACATTGAGAACAGAGAGAATGGTAAAAACTACATACTGCTACTCCAAATAAAATAAATTGGAAATTAATTTCTGATTCTGACCTCTATGTAAACTGAGCTGATGATAATTATTATTCTAGGCCACAGAACTGAAACATCTTCAGTGTCTAGAAGAAGAACTCAAACCTCTGGAGGAAGTGCTAAATTTAGCTCAAAGCAAAAACTTTCACTTAAGACCCAGGGACTTAATCAGCAATATCAACGTAATAGTTCTGGAACTAAAGGTAAGGCATTACTTTATTTGCTCTCCTGGAAATAAAAAAAAAAAAGTAGGGGGAAAAGTACCACATTTTAAAGTGACATAACATTTTTGGTATTTGTAAAGTACCCATGCATGTAATTAGCCTACATTTTAAGTACACTGTGAACATGAATCATTTCTAATGTTAAATGATTAACTGGGGAGTATAAGCTACTGAGTTTGCACCTACCATCTACTAATGGACAAGCCTCATCCCAAACTCCATCACCTTTCATATTAACACAAAACTGGGAGTGAGAGAGAAGTGACTGAGTTGAGTTTCACAGAAACGCAGGCAAGATTTTATTATATATTTTTCAAGTTCCTTCACAGATCATTTACTGGAATAGCCAATACTGAGTTACCTGAAAGGCTTTTCAAATGGTGTTTCCTTATCATTTGATGGAAGGACTACCCATAAGAGATTTGTCTTAAAAAAAAAAACTGGAGCCATTAAAATGGCCAGTGGACTAAACAAACAACAATCTTTTTAGAGGCAATCCCACTTTCAGAATCTTAAGTATTTTTAAATGCACAGGAAGCATAAAATATGCAAGGGACTCAGGTGATGTAAAAGAGATTCACTTTTGTCTTTTTATATCCCGTCTCCTAAGGTATAAAATTCATGAGTTAATAGGTATCCTAAATAAGCAGCATAAGTATAGTAGTAAAAGACATTCCTAAAAGTAACTCCAGTTGTGTCCAAATGAATCACTTATTAGTGGACTGTTTCAGTTGAATTAAAAAAATACATTGAGATCAATGTCATCTAGACATTGACAGATTCAGTTCCTTATCTATGGCAAGAGTTTTACTCTAAAATAATTAACATCAGAAAACTCATTCTTAACTCTTGATACAAATTTAAGACAAAACCATGCAAAAATCTGAAAACTGTGTTTCAAAAGCCAAACACTTTTTAAAATAAAAAAATCCCAAGATATGACAATATTTAAACAATTATGCTTAAGAGGATACAGAACACTGCAACAGTTTTTTAAAAGAGAATACTTATTTAAAGGGAACACTCTATCTCACCTGCTTTTGTTCCCAGGGTAGGAATCACTTCAAATTTGAAAAGCTCTCTTTTAAATCTCACTATATATCAAAATAGTTGCCTCCTTAGCTTATCAACTAGAGGAAGCGTTTAAATAGCTCCTTTCAGCAGAGAAGCCTAATTTCTAAAAAGCCAGTCCACAGAACAAAATTTCTAATGTTTAAAGCTTTTAAAAGTTGGCAAATTCACCTGCATTGATACTATGATGGGGTAGGGATAGGTGTAAGTATTTATGAAGATGTTCATTCACACAAATTTACCCAAACAGGAAGCATGTCCTACCTAGCTTACTCTAGTGTAGCTCGTTTCGTCTTTGGGGAAAATATAAGGAGATTCACTTAAGTAGAAAAATAGGAGACTCTAATCAAGATTTAGAAAAGAAGAAAGTATAATGTGCATATCAATTCATACATTTAACTTACACAAATATAGGTGTACATTCAGAGGAAAAGCGATCAAGTTTATTTCACATCCAGCATTTAATATTTGTCTAGATCTATTTTTATTTAAATCTTTATTTGCACCCAATTTAGGGAAAAAATTTTTGTGTTCATTGACTGAATTAACAAATGAGGAAAATCTCAGCTTCTGTGTTACTATCATTTGGTATCATAACAAAATACGCAATTTTGGCATTCATTTTGATCATTTCAAGAAAATGTGAATAATTAATATGTTTGGTAAGCTTGAAAATAAAGGCAACAGGCCTATAAGACTTCAATTGGGAATAACTGTATATAAGGTAAACTACTCTGTACTTTAAAAAATTAACATTTTTCTTTTATAGGGATCTGAAACAACATTCATGTGTGAATATGCTGATGAGACAGCAACCATTGTAGAATTTCTGAACAGATGGATTACCTTTTGTCAAAGCATCATCTCAACACTGACTTGATAATTAAGTGCTTCCCACTTAAAACATATCAGGCCTTCTATTTATTTAAATATTTAAATTTTATATTTATTGTTGAATGTATGGTTTGCTACCTATTGTAACTATTATTCTTAATCTTAAAACTATAAATATGGATCTTTTATGATTCTTTTTGTAAGCCCTAGGGGCTCTAAAATGGTTTCACTTATTTATCCCAAAATATTTATTATTATGTTGAATGTTAAATATAGTATCTATGTAGATTGGTTAGTAAAACTATTTAATAAATTTGATAAATATAAACAAGCCTGGATATTTGTTATTTTGGAAACAGCACAGAGTAAGCATTTAAATATTTCTTAGTTACTTGTGTGAACTGTAGGATGGTTAAAATGCTTACAAAAGTCACTCTTTCTCTGAAGAAATATGTAGAACAGAGATGTAGACTTCTCAAAAGCCCTTGCTTTGTCCTTTCAAGGGCTGATCAGACCCTTAGTTCTGGCATCTCTTAGCAGATTATATTTTCCTTCTTCTTAAAATGCCAAACACAAACACTCTTGAAACTCTTCATAGATTTGGTGTGGC'"
      ]
     },
     "execution_count": 197,
     "metadata": {},
     "output_type": "execute_result"
    }
   ],
   "source": [
    "temp1.replace('\\n','')"
   ]
  },
  {
   "cell_type": "code",
   "execution_count": 198,
   "metadata": {},
   "outputs": [
    {
     "data": {
      "text/plain": [
       "[\">X00695.1 Human interleukin-2 (IL-2) gene and 5'-flanking region\\n\",\n",
       " 'AGTGGTTTTTGGAGTCAGTACATTCTCTTTTCAAATCCTTCTCTGCCCCTTACTGGCAATAAGGGCTGAG\\n',\n",
       " 'TGACCTAGAGGCAAATTACTTAACTTCTCTGAGCCTCAGTTTTCTAATCTGCAAAATAGGAGCCATCACT\\n',\n",
       " 'TCACAAGTCTGTAAGACTTATATTAGACTAAGTGCCTGCCTGTACACTGTTCTCTTTTTCTCTCTTTCTA\\n',\n",
       " 'TATACCTGAAGGCATTATAGTGCTAGATGTCTGTTTAAAGACCAGACAATATTGTCTTAAAAAAACAAAC\\n',\n",
       " 'AAAAACACAGACAATACCATCTTTAAAAAAAAAAAAAAAGTCCAGGTAAGAAATAAATAAGGCCATAGAA\\n',\n",
       " 'TGGAAGCTTTACAAGGACTCTCTTTGAGACAGGATCTCCTCAAGTGTCCCCAGGTTAAATTAGAAGTATA\\n',\n",
       " 'TATCCGTACAATTGTTCAGCCAGTTTGTGCACTGTACTGAGGATGAATGAACACCTATCCTAAATATCCT\\n',\n",
       " 'AGTCTTCTGACTAAAAACAAGATCATATTTCATAACGATTATTGTTACATTCATAGTGTCCCAGGTGATT\\n',\n",
       " 'TAGAGGATAAATAAAAATCCATTAAAGAGGTAAAGACATAAAAACGAGAAACATGGACTGGTTTACACAT\\n',\n",
       " 'AACACATACAAAGTCTATTATAAAACTAGCATCAGTATCCTTGAATCGAAACCTTTTTCTGAGTATTTAA\\n',\n",
       " 'CAATCGCACCCTTTAAAAAATGTACATAGACATTAAGAGACTTAAACAGATATATAATCATTTTAAATTA\\n',\n",
       " 'AAATAGCGTTAAACAGTACCTCAAGCTCAATAAGCATTTTAAGTATTCTAATCTTAGTATTTCTCTAGCT\\n',\n",
       " 'GACATGTAAGAAGCAATCTATCTTATTGTATGCAATTAGCTCTTTGTGTGGATAAAAAGGTAAAACCATT\\n',\n",
       " 'CTGAAACAGGAAACCAATACACTTCCTGTTTAATCAACAAATCTAAACATTTATTCTTTTCATCTGTTTA\\n',\n",
       " 'CTCTTGCTCTTGTCCACCACAATATGCTATTCACATGTTCAGTGTAGTTTTATGACAAAGAAAATTTTCT\\n',\n",
       " 'GAGTTACTTTTGTATCCCCACCCCCTTAAAGAAAGGAGGAAAAACTGTTTCATACAGAAGGCGTTAATTG\\n',\n",
       " 'CATGAATTAGAGCTATCACCTAAGTGTGGGCTAATGTAACAAAGAGGGATTTCACCTACATCCATTCAGT\\n',\n",
       " 'CAGTCTTTGGGGGTTTAAAGAAATTCCAAAGAGTCATCAGAAGAGGAAAAATGAAGGTAATGTTTTTTCA\\n',\n",
       " 'GACTGGTAAAGTCTTTGAAAATATGTGTAATATGTAAAACATTTTGACACCCCCATAATATTTTTCCAGA\\n',\n",
       " 'ATTAACAGTATAAATTGCATCTCTTGTTCAAGAGTTCCCTATCACTCTTTAATCACTACTCACAGTAACC\\n',\n",
       " 'TCAACTCCTGCCACAATGTACAGGATGCAACTCCTGTCTTGCATTGCACTAAGTCTTGCACTTGTCACAA\\n',\n",
       " 'ACAGTGCACCTACTTCAAGTTCTACAAAGAAAACACAGCTACAACTGGAGCATTTACTGCTGGATTTACA\\n',\n",
       " 'GATGATTTTGAATGGAATTAATGTAAGTATATTTCCTTTCTTACTAAAATTATTACATTTAGTAATCTAG\\n',\n",
       " 'CTGGAGATCATTTCTTAATAACAATGCATTATACTTTCTTAGAATTACAAGAATCCCAAACTCACCAGGA\\n',\n",
       " 'TGCTCACATTTAAGTTTTACATGCCCAAGAAGGTAAGTACAATATTTTATGTTCAATTTCTGTTTTAATA\\n',\n",
       " 'AAATTCAAAGTAATATGAAAATTTGCACAGATGGGACTAATAGCAGCTCATCTGAGGTAAAGAGTAACTT\\n',\n",
       " 'TAATTTGTTTTTTTGAAAACCCAAGTTTGATAATGAAGCCTCTATTAAAACAGTTTTACCTATATTTTTA\\n',\n",
       " 'ATATATATTTGTGTGTTGGTGGGGGTGGGAGAAAACATAAAAATAATATTCTCTCACTTTATCGATAAGA\\n',\n",
       " 'CAATTCTAAACAAAAATGTTCATTTATGGTTTCATTTAAAAATGTAAAACTCTAAAATATTTGATTATGT\\n',\n",
       " 'CATTTTAGTATGTAAAATACCAAAATCTATTTCCAAGGAGCCCACTTTTAAAAATCTTTTCTTGTTTTAG\\n',\n",
       " 'GAAAGGTTTCTAAGTGAGAGGCAGCATAACACTAATAGCACAGAGTCTGGGGCCAGATATCTGAAGTGAA\\n',\n",
       " 'ATCTCAGCTCTGCCATGTCCTAGCTTTCATGATCTTTGGCAAATTACCTACTCTGTTTGTGATTCAGTTT\\n',\n",
       " 'CATGTCTACTTAAATGAATAACTGTATATACTTAATATGGCTTTGTGAGAATTAGTAAGTAAATGTAAAG\\n',\n",
       " 'CACTCAGAACCGTGTCTGGCATAAGGTAAATACCATACAAGCATTAGCTATTATTAGTAGTATTAAAGAT\\n',\n",
       " 'AAAATTTTCACTGAGAAATACAAAGTAAAATTTTGGACTTTATCTTTTTACCAATAGAACTTGAGATTTA\\n',\n",
       " 'TAATGCTATATGACTTATTTTCCAAGATTAAAAGCTTCATTAGGTTGTTTTTGGATTCAGATAGAGCATA\\n',\n",
       " 'AGCATAATCATCCAAGCTCCTAGGCTACATTAGGTGTGTAAAGCTACCTAGTAGCTGTGCCAGTTAAGAG\\n',\n",
       " 'AGAATGAACAAAATCTGGTGCCAGAAAGAGCTTGTGCCAGGGTGAATCCAAGCCCAGAAAATAATAGGAT\\n',\n",
       " 'TTAAGGGGACACAGATGCAATCCCATTGACTCAAATTCTATTAATTCAAGACAAATCTGCTTCTAACTAC\\n',\n",
       " 'CCTTCTGAAAGATGTAAAGGAGACAGCTTACAGATGTTACTCTAGTTTAATCAGAGCCACATAATGCAAC\\n',\n",
       " 'TCCAGCAACATAAAGATACTAGATGCTGTTTTCTGAAGAAAATTTCTCCACATTGTTCATGCCAAAAACT\\n',\n",
       " 'TAAACCCGAATTTGTAGAATTTGTAGTGGTGAATTGAAAGCGCAATAGATGGACATATCAGGGGATTGGT\\n',\n",
       " 'ATTGTCTTGACCTACCTTTCCCACTAAAGAGTGTTAGAAAGATGAGATTATGTGCATAATTTAGGGGTGG\\n',\n",
       " 'TAGAATTCATGGAAATCTAAGTTTGAAACCAAAAGTAATGATAAACTCTATTCATTTGTTCATTTAACCC\\n',\n",
       " 'TCATTGCACATTTACAAAAGATTTTAGAAACTAATAAAAATATTTGATTCCAAGGATGCTATGTTAATGC\\n',\n",
       " 'TATAATGAGAAAGAAATGAAATCTAATTCTGGCTCTACCTACTTATGTGGTCAAATTCTGAGATTTAGTG\\n',\n",
       " 'TGCTTATTTATAAAGTGGAGATGATACTTCACTGCCTACTTCAAAAGATGACTGTGAGAAGTAAATGGGC\\n',\n",
       " 'CTATTTTGGAGAAAATTCTTTTAAATTGTAATATACCATAGAAATATGAAATATTATATATAATATAGAA\\n',\n",
       " 'TCAAGAGGCCTGTCCAAAAGTCCTCCCAAAGTATTATAATCTTTTATTTCACTGGGACAAACATTTTTAA\\n',\n",
       " 'AATGCATCTTAATGTAGTGATTGTAGAAAAGTAAAAATTTAAGACATATTTAAAAATGTGTCTTGCTCAA\\n',\n",
       " 'GGCTATATTGAGAGCCACTACTACATGATTATTGTTACCTAGTGTAAAATGTTGGGATTGTGATAGATGG\\n',\n",
       " 'CATCCAAGAGTTCCTTCTCTCTCAACATTCTGTGATTCTTAACTCTTAGACTATCAAATATTATAATCAT\\n',\n",
       " 'AGAATGTGATTTTTATGCCTTCCACATTCTAATCTCATCTGGTTCTAATGATTTTCTATGCAGATTGGAA\\n',\n",
       " 'AAGTAATCAGCCTACATCTGTAATAGGCATTTAGATGCAGAAAGTCTAACATTTTGCAAAGCCAAATTAA\\n',\n",
       " 'GCTAAAACCAGTGAGTCAACTATCACTTAACGCTAGTCATAGGTACTTGAGCCCTAGTTTTTCCAGTTTT\\n',\n",
       " 'ATAATGTAAACTCTACTGGTCCATCTTTACAGTGACATTGAGAACAGAGAGAATGGTAAAAACTACATAC\\n',\n",
       " 'TGCTACTCCAAATAAAATAAATTGGAAATTAATTTCTGATTCTGACCTCTATGTAAACTGAGCTGATGAT\\n',\n",
       " 'AATTATTATTCTAGGCCACAGAACTGAAACATCTTCAGTGTCTAGAAGAAGAACTCAAACCTCTGGAGGA\\n',\n",
       " 'AGTGCTAAATTTAGCTCAAAGCAAAAACTTTCACTTAAGACCCAGGGACTTAATCAGCAATATCAACGTA\\n',\n",
       " 'ATAGTTCTGGAACTAAAGGTAAGGCATTACTTTATTTGCTCTCCTGGAAATAAAAAAAAAAAAGTAGGGG\\n',\n",
       " 'GAAAAGTACCACATTTTAAAGTGACATAACATTTTTGGTATTTGTAAAGTACCCATGCATGTAATTAGCC\\n',\n",
       " 'TACATTTTAAGTACACTGTGAACATGAATCATTTCTAATGTTAAATGATTAACTGGGGAGTATAAGCTAC\\n',\n",
       " 'TGAGTTTGCACCTACCATCTACTAATGGACAAGCCTCATCCCAAACTCCATCACCTTTCATATTAACACA\\n',\n",
       " 'AAACTGGGAGTGAGAGAGAAGTGACTGAGTTGAGTTTCACAGAAACGCAGGCAAGATTTTATTATATATT\\n',\n",
       " 'TTTCAAGTTCCTTCACAGATCATTTACTGGAATAGCCAATACTGAGTTACCTGAAAGGCTTTTCAAATGG\\n',\n",
       " 'TGTTTCCTTATCATTTGATGGAAGGACTACCCATAAGAGATTTGTCTTAAAAAAAAAAACTGGAGCCATT\\n',\n",
       " 'AAAATGGCCAGTGGACTAAACAAACAACAATCTTTTTAGAGGCAATCCCACTTTCAGAATCTTAAGTATT\\n',\n",
       " 'TTTAAATGCACAGGAAGCATAAAATATGCAAGGGACTCAGGTGATGTAAAAGAGATTCACTTTTGTCTTT\\n',\n",
       " 'TTATATCCCGTCTCCTAAGGTATAAAATTCATGAGTTAATAGGTATCCTAAATAAGCAGCATAAGTATAG\\n',\n",
       " 'TAGTAAAAGACATTCCTAAAAGTAACTCCAGTTGTGTCCAAATGAATCACTTATTAGTGGACTGTTTCAG\\n',\n",
       " 'TTGAATTAAAAAAATACATTGAGATCAATGTCATCTAGACATTGACAGATTCAGTTCCTTATCTATGGCA\\n',\n",
       " 'AGAGTTTTACTCTAAAATAATTAACATCAGAAAACTCATTCTTAACTCTTGATACAAATTTAAGACAAAA\\n',\n",
       " 'CCATGCAAAAATCTGAAAACTGTGTTTCAAAAGCCAAACACTTTTTAAAATAAAAAAATCCCAAGATATG\\n',\n",
       " 'ACAATATTTAAACAATTATGCTTAAGAGGATACAGAACACTGCAACAGTTTTTTAAAAGAGAATACTTAT\\n',\n",
       " 'TTAAAGGGAACACTCTATCTCACCTGCTTTTGTTCCCAGGGTAGGAATCACTTCAAATTTGAAAAGCTCT\\n',\n",
       " 'CTTTTAAATCTCACTATATATCAAAATAGTTGCCTCCTTAGCTTATCAACTAGAGGAAGCGTTTAAATAG\\n',\n",
       " 'CTCCTTTCAGCAGAGAAGCCTAATTTCTAAAAAGCCAGTCCACAGAACAAAATTTCTAATGTTTAAAGCT\\n',\n",
       " 'TTTAAAAGTTGGCAAATTCACCTGCATTGATACTATGATGGGGTAGGGATAGGTGTAAGTATTTATGAAG\\n',\n",
       " 'ATGTTCATTCACACAAATTTACCCAAACAGGAAGCATGTCCTACCTAGCTTACTCTAGTGTAGCTCGTTT\\n',\n",
       " 'CGTCTTTGGGGAAAATATAAGGAGATTCACTTAAGTAGAAAAATAGGAGACTCTAATCAAGATTTAGAAA\\n',\n",
       " 'AGAAGAAAGTATAATGTGCATATCAATTCATACATTTAACTTACACAAATATAGGTGTACATTCAGAGGA\\n',\n",
       " 'AAAGCGATCAAGTTTATTTCACATCCAGCATTTAATATTTGTCTAGATCTATTTTTATTTAAATCTTTAT\\n',\n",
       " 'TTGCACCCAATTTAGGGAAAAAATTTTTGTGTTCATTGACTGAATTAACAAATGAGGAAAATCTCAGCTT\\n',\n",
       " 'CTGTGTTACTATCATTTGGTATCATAACAAAATACGCAATTTTGGCATTCATTTTGATCATTTCAAGAAA\\n',\n",
       " 'ATGTGAATAATTAATATGTTTGGTAAGCTTGAAAATAAAGGCAACAGGCCTATAAGACTTCAATTGGGAA\\n',\n",
       " 'TAACTGTATATAAGGTAAACTACTCTGTACTTTAAAAAATTAACATTTTTCTTTTATAGGGATCTGAAAC\\n',\n",
       " 'AACATTCATGTGTGAATATGCTGATGAGACAGCAACCATTGTAGAATTTCTGAACAGATGGATTACCTTT\\n',\n",
       " 'TGTCAAAGCATCATCTCAACACTGACTTGATAATTAAGTGCTTCCCACTTAAAACATATCAGGCCTTCTA\\n',\n",
       " 'TTTATTTAAATATTTAAATTTTATATTTATTGTTGAATGTATGGTTTGCTACCTATTGTAACTATTATTC\\n',\n",
       " 'TTAATCTTAAAACTATAAATATGGATCTTTTATGATTCTTTTTGTAAGCCCTAGGGGCTCTAAAATGGTT\\n',\n",
       " 'TCACTTATTTATCCCAAAATATTTATTATTATGTTGAATGTTAAATATAGTATCTATGTAGATTGGTTAG\\n',\n",
       " 'TAAAACTATTTAATAAATTTGATAAATATAAACAAGCCTGGATATTTGTTATTTTGGAAACAGCACAGAG\\n',\n",
       " 'TAAGCATTTAAATATTTCTTAGTTACTTGTGTGAACTGTAGGATGGTTAAAATGCTTACAAAAGTCACTC\\n',\n",
       " 'TTTCTCTGAAGAAATATGTAGAACAGAGATGTAGACTTCTCAAAAGCCCTTGCTTTGTCCTTTCAAGGGC\\n',\n",
       " 'TGATCAGACCCTTAGTTCTGGCATCTCTTAGCAGATTATATTTTCCTTCTTCTTAAAATGCCAAACACAA\\n',\n",
       " 'ACACTCTTGAAACTCTTCATAGATTTGGTGTGGC\\n',\n",
       " '\\n']"
      ]
     },
     "execution_count": 198,
     "metadata": {},
     "output_type": "execute_result"
    }
   ],
   "source": [
    "data"
   ]
  },
  {
   "cell_type": "code",
   "execution_count": 199,
   "metadata": {},
   "outputs": [
    {
     "name": "stdout",
     "output_type": "stream",
     "text": [
      "Lo que ingresaste no parece ser un gen, trata nuevamente\n",
      "Lo que ingresaste no parece ser un gen, trata nuevamente\n",
      "Lo que ingresaste no parece ser un gen, trata nuevamente\n",
      "Lo que ingresaste no parece ser un gen, trata nuevamente\n",
      "Lo que ingresaste no parece ser un gen, trata nuevamente\n",
      "Lo que ingresaste no parece ser un gen, trata nuevamente\n",
      "Lo que ingresaste no parece ser un gen, trata nuevamente\n",
      "Lo que ingresaste no parece ser un gen, trata nuevamente\n",
      "Lo que ingresaste no parece ser un gen, trata nuevamente\n",
      "Lo que ingresaste no parece ser un gen, trata nuevamente\n",
      "Lo que ingresaste no parece ser un gen, trata nuevamente\n",
      "Lo que ingresaste no parece ser un gen, trata nuevamente\n",
      "Lo que ingresaste no parece ser un gen, trata nuevamente\n",
      "Lo que ingresaste no parece ser un gen, trata nuevamente\n",
      "Lo que ingresaste no parece ser un gen, trata nuevamente\n",
      "Lo que ingresaste no parece ser un gen, trata nuevamente\n",
      "Lo que ingresaste no parece ser un gen, trata nuevamente\n",
      "Lo que ingresaste no parece ser un gen, trata nuevamente\n",
      "Lo que ingresaste no parece ser un gen, trata nuevamente\n",
      "Lo que ingresaste no parece ser un gen, trata nuevamente\n",
      "Lo que ingresaste no parece ser un gen, trata nuevamente\n",
      "Lo que ingresaste no parece ser un gen, trata nuevamente\n",
      "Lo que ingresaste no parece ser un gen, trata nuevamente\n",
      "Lo que ingresaste no parece ser un gen, trata nuevamente\n",
      "Lo que ingresaste no parece ser un gen, trata nuevamente\n",
      "Lo que ingresaste no parece ser un gen, trata nuevamente\n",
      "Lo que ingresaste no parece ser un gen, trata nuevamente\n",
      "Lo que ingresaste no parece ser un gen, trata nuevamente\n",
      "Lo que ingresaste no parece ser un gen, trata nuevamente\n",
      "Lo que ingresaste no parece ser un gen, trata nuevamente\n",
      "Lo que ingresaste no parece ser un gen, trata nuevamente\n",
      "Lo que ingresaste no parece ser un gen, trata nuevamente\n",
      "Lo que ingresaste no parece ser un gen, trata nuevamente\n",
      "Lo que ingresaste no parece ser un gen, trata nuevamente\n",
      "Lo que ingresaste no parece ser un gen, trata nuevamente\n",
      "Lo que ingresaste no parece ser un gen, trata nuevamente\n",
      "Lo que ingresaste no parece ser un gen, trata nuevamente\n",
      "Lo que ingresaste no parece ser un gen, trata nuevamente\n",
      "Lo que ingresaste no parece ser un gen, trata nuevamente\n",
      "Lo que ingresaste no parece ser un gen, trata nuevamente\n",
      "Lo que ingresaste no parece ser un gen, trata nuevamente\n",
      "Lo que ingresaste no parece ser un gen, trata nuevamente\n",
      "Lo que ingresaste no parece ser un gen, trata nuevamente\n",
      "Lo que ingresaste no parece ser un gen, trata nuevamente\n",
      "Lo que ingresaste no parece ser un gen, trata nuevamente\n",
      "Lo que ingresaste no parece ser un gen, trata nuevamente\n",
      "Lo que ingresaste no parece ser un gen, trata nuevamente\n",
      "Lo que ingresaste no parece ser un gen, trata nuevamente\n",
      "Lo que ingresaste no parece ser un gen, trata nuevamente\n",
      "Lo que ingresaste no parece ser un gen, trata nuevamente\n",
      "Lo que ingresaste no parece ser un gen, trata nuevamente\n",
      "Lo que ingresaste no parece ser un gen, trata nuevamente\n",
      "Lo que ingresaste no parece ser un gen, trata nuevamente\n",
      "Lo que ingresaste no parece ser un gen, trata nuevamente\n",
      "Lo que ingresaste no parece ser un gen, trata nuevamente\n",
      "Lo que ingresaste no parece ser un gen, trata nuevamente\n",
      "Lo que ingresaste no parece ser un gen, trata nuevamente\n",
      "Lo que ingresaste no parece ser un gen, trata nuevamente\n",
      "Lo que ingresaste no parece ser un gen, trata nuevamente\n",
      "Lo que ingresaste no parece ser un gen, trata nuevamente\n",
      "Lo que ingresaste no parece ser un gen, trata nuevamente\n",
      "Lo que ingresaste no parece ser un gen, trata nuevamente\n",
      "Lo que ingresaste no parece ser un gen, trata nuevamente\n",
      "Lo que ingresaste no parece ser un gen, trata nuevamente\n",
      "Lo que ingresaste no parece ser un gen, trata nuevamente\n",
      "Lo que ingresaste no parece ser un gen, trata nuevamente\n",
      "Lo que ingresaste no parece ser un gen, trata nuevamente\n",
      "Lo que ingresaste no parece ser un gen, trata nuevamente\n",
      "Lo que ingresaste no parece ser un gen, trata nuevamente\n",
      "Lo que ingresaste no parece ser un gen, trata nuevamente\n",
      "Lo que ingresaste no parece ser un gen, trata nuevamente\n",
      "Lo que ingresaste no parece ser un gen, trata nuevamente\n",
      "Lo que ingresaste no parece ser un gen, trata nuevamente\n",
      "Lo que ingresaste no parece ser un gen, trata nuevamente\n",
      "Lo que ingresaste no parece ser un gen, trata nuevamente\n",
      "Lo que ingresaste no parece ser un gen, trata nuevamente\n",
      "Lo que ingresaste no parece ser un gen, trata nuevamente\n",
      "Lo que ingresaste no parece ser un gen, trata nuevamente\n",
      "Lo que ingresaste no parece ser un gen, trata nuevamente\n",
      "Lo que ingresaste no parece ser un gen, trata nuevamente\n",
      "Lo que ingresaste no parece ser un gen, trata nuevamente\n",
      "Lo que ingresaste no parece ser un gen, trata nuevamente\n",
      "Lo que ingresaste no parece ser un gen, trata nuevamente\n",
      "Lo que ingresaste no parece ser un gen, trata nuevamente\n",
      "Lo que ingresaste no parece ser un gen, trata nuevamente\n",
      "Lo que ingresaste no parece ser un gen, trata nuevamente\n",
      "Lo que ingresaste no parece ser un gen, trata nuevamente\n",
      "Lo que ingresaste no parece ser un gen, trata nuevamente\n",
      "Lo que ingresaste no parece ser un gen, trata nuevamente\n",
      "Lo que ingresaste no parece ser un gen, trata nuevamente\n",
      "Lo que ingresaste no parece ser un gen, trata nuevamente\n",
      "Lo que ingresaste no parece ser un gen, trata nuevamente\n",
      "Lo que ingresaste no parece ser un gen, trata nuevamente\n",
      "Lo que ingresaste no parece ser un gen, trata nuevamente\n",
      "Lo que ingresaste no parece ser un gen, trata nuevamente\n",
      "Lo que ingresaste no parece ser un gen, trata nuevamente\n",
      "Lo que ingresaste no parece ser un gen, trata nuevamente\n",
      "Lo que ingresaste no parece ser un gen, trata nuevamente\n",
      "Longitud del gen:  98\n",
      "Numero de Adenin:  0\n",
      "Numero de Timidi:  0\n",
      "Numero de Citoci:  0\n",
      "Numero de Guanid:  0\n",
      "Porcentage GC   :  0.0\n"
     ]
    }
   ],
   "source": [
    "estadistico_gen_mejorado(data) # esta es la razon por la cual se tiene que limpiar data"
   ]
  },
  {
   "cell_type": "markdown",
   "metadata": {},
   "source": [
    "### exportacion de documentos"
   ]
  },
  {
   "cell_type": "code",
   "execution_count": 214,
   "metadata": {},
   "outputs": [],
   "source": [
    "def calcula_gc(gen):\n",
    "    contar = 0\n",
    "    for nucleotido in gen:\n",
    "        if nucleotido == 'C':\n",
    "            contar = contar + 1\n",
    "        elif nucleotido == 'G':\n",
    "            contar = contar + 1\n",
    "\n",
    "    long_gen = len(gen)\n",
    "    resultado = contar/long_gen\n",
    "    return resultado"
   ]
  },
  {
   "cell_type": "code",
   "execution_count": 215,
   "metadata": {},
   "outputs": [],
   "source": [
    "documento = open('C:/Users/bciez/Desktop/data/interleukin.fasta','r') # read -> leer ('r') # ESTO SOLO ABRE EL DOCUMENTO\n",
    "file = documento.readlines() # lee el documento y lo guarda en data\n",
    "documento.close()"
   ]
  },
  {
   "cell_type": "code",
   "execution_count": 216,
   "metadata": {},
   "outputs": [],
   "source": [
    "pre_dna = file[1:]"
   ]
  },
  {
   "cell_type": "code",
   "execution_count": 219,
   "metadata": {},
   "outputs": [
    {
     "name": "stdout",
     "output_type": "stream",
     "text": [
      "AGTGGTTTTTGGAGTCAGTACATTCTCTTTTCAAATCCTTCTCTGCCCCTTACTGGCAATAAGGGCTGAG\n",
      " 0.43661971830985913\n",
      "TGACCTAGAGGCAAATTACTTAACTTCTCTGAGCCTCAGTTTTCTAATCTGCAAAATAGGAGCCATCACT\n",
      " 0.39436619718309857\n",
      "TCACAAGTCTGTAAGACTTATATTAGACTAAGTGCCTGCCTGTACACTGTTCTCTTTTTCTCTCTTTCTA\n",
      " 0.36619718309859156\n",
      "TATACCTGAAGGCATTATAGTGCTAGATGTCTGTTTAAAGACCAGACAATATTGTCTTAAAAAAACAAAC\n",
      " 0.30985915492957744\n",
      "AAAAACACAGACAATACCATCTTTAAAAAAAAAAAAAAAGTCCAGGTAAGAAATAAATAAGGCCATAGAA\n",
      " 0.2535211267605634\n",
      "TGGAAGCTTTACAAGGACTCTCTTTGAGACAGGATCTCCTCAAGTGTCCCCAGGTTAAATTAGAAGTATA\n",
      " 0.4084507042253521\n",
      "TATCCGTACAATTGTTCAGCCAGTTTGTGCACTGTACTGAGGATGAATGAACACCTATCCTAAATATCCT\n",
      " 0.39436619718309857\n",
      "AGTCTTCTGACTAAAAACAAGATCATATTTCATAACGATTATTGTTACATTCATAGTGTCCCAGGTGATT\n",
      " 0.30985915492957744\n",
      "TAGAGGATAAATAAAAATCCATTAAAGAGGTAAAGACATAAAAACGAGAAACATGGACTGGTTTACACAT\n",
      " 0.29577464788732394\n",
      "AACACATACAAAGTCTATTATAAAACTAGCATCAGTATCCTTGAATCGAAACCTTTTTCTGAGTATTTAA\n",
      " 0.28169014084507044\n",
      "CAATCGCACCCTTTAAAAAATGTACATAGACATTAAGAGACTTAAACAGATATATAATCATTTTAAATTA\n",
      " 0.23943661971830985\n",
      "AAATAGCGTTAAACAGTACCTCAAGCTCAATAAGCATTTTAAGTATTCTAATCTTAGTATTTCTCTAGCT\n",
      " 0.29577464788732394\n",
      "GACATGTAAGAAGCAATCTATCTTATTGTATGCAATTAGCTCTTTGTGTGGATAAAAAGGTAAAACCATT\n",
      " 0.30985915492957744\n",
      "CTGAAACAGGAAACCAATACACTTCCTGTTTAATCAACAAATCTAAACATTTATTCTTTTCATCTGTTTA\n",
      " 0.28169014084507044\n",
      "CTCTTGCTCTTGTCCACCACAATATGCTATTCACATGTTCAGTGTAGTTTTATGACAAAGAAAATTTTCT\n",
      " 0.3380281690140845\n",
      "GAGTTACTTTTGTATCCCCACCCCCTTAAAGAAAGGAGGAAAAACTGTTTCATACAGAAGGCGTTAATTG\n",
      " 0.39436619718309857\n",
      "CATGAATTAGAGCTATCACCTAAGTGTGGGCTAATGTAACAAAGAGGGATTTCACCTACATCCATTCAGT\n",
      " 0.39436619718309857\n",
      "CAGTCTTTGGGGGTTTAAAGAAATTCCAAAGAGTCATCAGAAGAGGAAAAATGAAGGTAATGTTTTTTCA\n",
      " 0.3380281690140845\n",
      "GACTGGTAAAGTCTTTGAAAATATGTGTAATATGTAAAACATTTTGACACCCCCATAATATTTTTCCAGA\n",
      " 0.29577464788732394\n",
      "ATTAACAGTATAAATTGCATCTCTTGTTCAAGAGTTCCCTATCACTCTTTAATCACTACTCACAGTAACC\n",
      " 0.3380281690140845\n",
      "TCAACTCCTGCCACAATGTACAGGATGCAACTCCTGTCTTGCATTGCACTAAGTCTTGCACTTGTCACAA\n",
      " 0.4507042253521127\n",
      "ACAGTGCACCTACTTCAAGTTCTACAAAGAAAACACAGCTACAACTGGAGCATTTACTGCTGGATTTACA\n",
      " 0.39436619718309857\n",
      "GATGATTTTGAATGGAATTAATGTAAGTATATTTCCTTTCTTACTAAAATTATTACATTTAGTAATCTAG\n",
      " 0.2112676056338028\n",
      "CTGGAGATCATTTCTTAATAACAATGCATTATACTTTCTTAGAATTACAAGAATCCCAAACTCACCAGGA\n",
      " 0.323943661971831\n",
      "TGCTCACATTTAAGTTTTACATGCCCAAGAAGGTAAGTACAATATTTTATGTTCAATTTCTGTTTTAATA\n",
      " 0.2676056338028169\n",
      "AAATTCAAAGTAATATGAAAATTTGCACAGATGGGACTAATAGCAGCTCATCTGAGGTAAAGAGTAACTT\n",
      " 0.323943661971831\n",
      "TAATTTGTTTTTTTGAAAACCCAAGTTTGATAATGAAGCCTCTATTAAAACAGTTTTACCTATATTTTTA\n",
      " 0.22535211267605634\n",
      "ATATATATTTGTGTGTTGGTGGGGGTGGGAGAAAACATAAAAATAATATTCTCTCACTTTATCGATAAGA\n",
      " 0.30985915492957744\n",
      "CAATTCTAAACAAAAATGTTCATTTATGGTTTCATTTAAAAATGTAAAACTCTAAAATATTTGATTATGT\n",
      " 0.18309859154929578\n",
      "CATTTTAGTATGTAAAATACCAAAATCTATTTCCAAGGAGCCCACTTTTAAAAATCTTTTCTTGTTTTAG\n",
      " 0.2676056338028169\n",
      "GAAAGGTTTCTAAGTGAGAGGCAGCATAACACTAATAGCACAGAGTCTGGGGCCAGATATCTGAAGTGAA\n",
      " 0.43661971830985913\n",
      "ATCTCAGCTCTGCCATGTCCTAGCTTTCATGATCTTTGGCAAATTACCTACTCTGTTTGTGATTCAGTTT\n",
      " 0.39436619718309857\n",
      "CATGTCTACTTAAATGAATAACTGTATATACTTAATATGGCTTTGTGAGAATTAGTAAGTAAATGTAAAG\n",
      " 0.2535211267605634\n",
      "CACTCAGAACCGTGTCTGGCATAAGGTAAATACCATACAAGCATTAGCTATTATTAGTAGTATTAAAGAT\n",
      " 0.3380281690140845\n",
      "AAAATTTTCACTGAGAAATACAAAGTAAAATTTTGGACTTTATCTTTTTACCAATAGAACTTGAGATTTA\n",
      " 0.22535211267605634\n",
      "TAATGCTATATGACTTATTTTCCAAGATTAAAAGCTTCATTAGGTTGTTTTTGGATTCAGATAGAGCATA\n",
      " 0.28169014084507044\n",
      "AGCATAATCATCCAAGCTCCTAGGCTACATTAGGTGTGTAAAGCTACCTAGTAGCTGTGCCAGTTAAGAG\n",
      " 0.43661971830985913\n",
      "AGAATGAACAAAATCTGGTGCCAGAAAGAGCTTGTGCCAGGGTGAATCCAAGCCCAGAAAATAATAGGAT\n",
      " 0.4225352112676056\n",
      "TTAAGGGGACACAGATGCAATCCCATTGACTCAAATTCTATTAATTCAAGACAAATCTGCTTCTAACTAC\n",
      " 0.352112676056338\n",
      "CCTTCTGAAAGATGTAAAGGAGACAGCTTACAGATGTTACTCTAGTTTAATCAGAGCCACATAATGCAAC\n",
      " 0.38028169014084506\n",
      "TCCAGCAACATAAAGATACTAGATGCTGTTTTCTGAAGAAAATTTCTCCACATTGTTCATGCCAAAAACT\n",
      " 0.3380281690140845\n",
      "TAAACCCGAATTTGTAGAATTTGTAGTGGTGAATTGAAAGCGCAATAGATGGACATATCAGGGGATTGGT\n",
      " 0.38028169014084506\n",
      "ATTGTCTTGACCTACCTTTCCCACTAAAGAGTGTTAGAAAGATGAGATTATGTGCATAATTTAGGGGTGG\n",
      " 0.38028169014084506\n",
      "TAGAATTCATGGAAATCTAAGTTTGAAACCAAAAGTAATGATAAACTCTATTCATTTGTTCATTTAACCC\n",
      " 0.2676056338028169\n",
      "TCATTGCACATTTACAAAAGATTTTAGAAACTAATAAAAATATTTGATTCCAAGGATGCTATGTTAATGC\n",
      " 0.2535211267605634\n",
      "TATAATGAGAAAGAAATGAAATCTAATTCTGGCTCTACCTACTTATGTGGTCAAATTCTGAGATTTAGTG\n",
      " 0.30985915492957744\n",
      "TGCTTATTTATAAAGTGGAGATGATACTTCACTGCCTACTTCAAAAGATGACTGTGAGAAGTAAATGGGC\n",
      " 0.36619718309859156\n",
      "CTATTTTGGAGAAAATTCTTTTAAATTGTAATATACCATAGAAATATGAAATATTATATATAATATAGAA\n",
      " 0.15492957746478872\n",
      "TCAAGAGGCCTGTCCAAAAGTCCTCCCAAAGTATTATAATCTTTTATTTCACTGGGACAAACATTTTTAA\n",
      " 0.3380281690140845\n",
      "AATGCATCTTAATGTAGTGATTGTAGAAAAGTAAAAATTTAAGACATATTTAAAAATGTGTCTTGCTCAA\n",
      " 0.23943661971830985\n",
      "GGCTATATTGAGAGCCACTACTACATGATTATTGTTACCTAGTGTAAAATGTTGGGATTGTGATAGATGG\n",
      " 0.36619718309859156\n",
      "CATCCAAGAGTTCCTTCTCTCTCAACATTCTGTGATTCTTAACTCTTAGACTATCAAATATTATAATCAT\n",
      " 0.30985915492957744\n",
      "AGAATGTGATTTTTATGCCTTCCACATTCTAATCTCATCTGGTTCTAATGATTTTCTATGCAGATTGGAA\n",
      " 0.323943661971831\n",
      "AAGTAATCAGCCTACATCTGTAATAGGCATTTAGATGCAGAAAGTCTAACATTTTGCAAAGCCAAATTAA\n",
      " 0.323943661971831\n",
      "GCTAAAACCAGTGAGTCAACTATCACTTAACGCTAGTCATAGGTACTTGAGCCCTAGTTTTTCCAGTTTT\n",
      " 0.39436619718309857\n",
      "ATAATGTAAACTCTACTGGTCCATCTTTACAGTGACATTGAGAACAGAGAGAATGGTAAAAACTACATAC\n",
      " 0.3380281690140845\n",
      "TGCTACTCCAAATAAAATAAATTGGAAATTAATTTCTGATTCTGACCTCTATGTAAACTGAGCTGATGAT\n",
      " 0.29577464788732394\n",
      "AATTATTATTCTAGGCCACAGAACTGAAACATCTTCAGTGTCTAGAAGAAGAACTCAAACCTCTGGAGGA\n",
      " 0.38028169014084506\n",
      "AGTGCTAAATTTAGCTCAAAGCAAAAACTTTCACTTAAGACCCAGGGACTTAATCAGCAATATCAACGTA\n",
      " 0.352112676056338\n",
      "ATAGTTCTGGAACTAAAGGTAAGGCATTACTTTATTTGCTCTCCTGGAAATAAAAAAAAAAAAGTAGGGG\n",
      " 0.323943661971831\n",
      "GAAAAGTACCACATTTTAAAGTGACATAACATTTTTGGTATTTGTAAAGTACCCATGCATGTAATTAGCC\n",
      " 0.30985915492957744\n",
      "TACATTTTAAGTACACTGTGAACATGAATCATTTCTAATGTTAAATGATTAACTGGGGAGTATAAGCTAC\n",
      " 0.29577464788732394\n",
      "TGAGTTTGCACCTACCATCTACTAATGGACAAGCCTCATCCCAAACTCCATCACCTTTCATATTAACACA\n",
      " 0.4084507042253521\n",
      "AAACTGGGAGTGAGAGAGAAGTGACTGAGTTGAGTTTCACAGAAACGCAGGCAAGATTTTATTATATATT\n",
      " 0.36619718309859156\n",
      "TTTCAAGTTCCTTCACAGATCATTTACTGGAATAGCCAATACTGAGTTACCTGAAAGGCTTTTCAAATGG\n",
      " 0.36619718309859156\n",
      "TGTTTCCTTATCATTTGATGGAAGGACTACCCATAAGAGATTTGTCTTAAAAAAAAAAACTGGAGCCATT\n",
      " 0.323943661971831\n",
      "AAAATGGCCAGTGGACTAAACAAACAACAATCTTTTTAGAGGCAATCCCACTTTCAGAATCTTAAGTATT\n",
      " 0.3380281690140845\n",
      "TTTAAATGCACAGGAAGCATAAAATATGCAAGGGACTCAGGTGATGTAAAAGAGATTCACTTTTGTCTTT\n",
      " 0.3380281690140845\n",
      "TTATATCCCGTCTCCTAAGGTATAAAATTCATGAGTTAATAGGTATCCTAAATAAGCAGCATAAGTATAG\n",
      " 0.30985915492957744\n",
      "TAGTAAAAGACATTCCTAAAAGTAACTCCAGTTGTGTCCAAATGAATCACTTATTAGTGGACTGTTTCAG\n",
      " 0.3380281690140845\n",
      "TTGAATTAAAAAAATACATTGAGATCAATGTCATCTAGACATTGACAGATTCAGTTCCTTATCTATGGCA\n",
      " 0.29577464788732394\n",
      "AGAGTTTTACTCTAAAATAATTAACATCAGAAAACTCATTCTTAACTCTTGATACAAATTTAAGACAAAA\n",
      " 0.22535211267605634\n",
      "CCATGCAAAAATCTGAAAACTGTGTTTCAAAAGCCAAACACTTTTTAAAATAAAAAAATCCCAAGATATG\n",
      " 0.28169014084507044\n",
      "ACAATATTTAAACAATTATGCTTAAGAGGATACAGAACACTGCAACAGTTTTTTAAAAGAGAATACTTAT\n",
      " 0.2535211267605634\n",
      "TTAAAGGGAACACTCTATCTCACCTGCTTTTGTTCCCAGGGTAGGAATCACTTCAAATTTGAAAAGCTCT\n",
      " 0.39436619718309857\n",
      "CTTTTAAATCTCACTATATATCAAAATAGTTGCCTCCTTAGCTTATCAACTAGAGGAAGCGTTTAAATAG\n",
      " 0.30985915492957744\n",
      "CTCCTTTCAGCAGAGAAGCCTAATTTCTAAAAAGCCAGTCCACAGAACAAAATTTCTAATGTTTAAAGCT\n",
      " 0.352112676056338\n",
      "TTTAAAAGTTGGCAAATTCACCTGCATTGATACTATGATGGGGTAGGGATAGGTGTAAGTATTTATGAAG\n",
      " 0.352112676056338\n",
      "ATGTTCATTCACACAAATTTACCCAAACAGGAAGCATGTCCTACCTAGCTTACTCTAGTGTAGCTCGTTT\n",
      " 0.39436619718309857\n",
      "CGTCTTTGGGGAAAATATAAGGAGATTCACTTAAGTAGAAAAATAGGAGACTCTAATCAAGATTTAGAAA\n",
      " 0.30985915492957744\n",
      "AGAAGAAAGTATAATGTGCATATCAATTCATACATTTAACTTACACAAATATAGGTGTACATTCAGAGGA\n",
      " 0.28169014084507044\n",
      "AAAGCGATCAAGTTTATTTCACATCCAGCATTTAATATTTGTCTAGATCTATTTTTATTTAAATCTTTAT\n",
      " 0.22535211267605634\n",
      "TTGCACCCAATTTAGGGAAAAAATTTTTGTGTTCATTGACTGAATTAACAAATGAGGAAAATCTCAGCTT\n",
      " 0.30985915492957744\n",
      "CTGTGTTACTATCATTTGGTATCATAACAAAATACGCAATTTTGGCATTCATTTTGATCATTTCAAGAAA\n",
      " 0.28169014084507044\n",
      "ATGTGAATAATTAATATGTTTGGTAAGCTTGAAAATAAAGGCAACAGGCCTATAAGACTTCAATTGGGAA\n",
      " 0.30985915492957744\n",
      "TAACTGTATATAAGGTAAACTACTCTGTACTTTAAAAAATTAACATTTTTCTTTTATAGGGATCTGAAAC\n",
      " 0.23943661971830985\n",
      "AACATTCATGTGTGAATATGCTGATGAGACAGCAACCATTGTAGAATTTCTGAACAGATGGATTACCTTT\n",
      " 0.352112676056338\n",
      "TGTCAAAGCATCATCTCAACACTGACTTGATAATTAAGTGCTTCCCACTTAAAACATATCAGGCCTTCTA\n",
      " 0.36619718309859156\n",
      "TTTATTTAAATATTTAAATTTTATATTTATTGTTGAATGTATGGTTTGCTACCTATTGTAACTATTATTC\n",
      " 0.16901408450704225\n",
      "TTAATCTTAAAACTATAAATATGGATCTTTTATGATTCTTTTTGTAAGCCCTAGGGGCTCTAAAATGGTT\n",
      " 0.28169014084507044\n",
      "TCACTTATTTATCCCAAAATATTTATTATTATGTTGAATGTTAAATATAGTATCTATGTAGATTGGTTAG\n",
      " 0.2112676056338028\n",
      "TAAAACTATTTAATAAATTTGATAAATATAAACAAGCCTGGATATTTGTTATTTTGGAAACAGCACAGAG\n",
      " 0.23943661971830985\n",
      "TAAGCATTTAAATATTTCTTAGTTACTTGTGTGAACTGTAGGATGGTTAAAATGCTTACAAAAGTCACTC\n",
      " 0.29577464788732394\n",
      "TTTCTCTGAAGAAATATGTAGAACAGAGATGTAGACTTCTCAAAAGCCCTTGCTTTGTCCTTTCAAGGGC\n",
      " 0.39436619718309857\n",
      "TGATCAGACCCTTAGTTCTGGCATCTCTTAGCAGATTATATTTTCCTTCTTCTTAAAATGCCAAACACAA\n",
      " 0.352112676056338\n",
      "ACACTCTTGAAACTCTTCATAGATTTGGTGTGGC\n",
      " 0.4\n",
      "\n",
      " 0.0\n"
     ]
    }
   ],
   "source": [
    "for elemento in pre_dna:\n",
    "    gc = calcula_gc(elemento)\n",
    "    print(elemento, gc)"
   ]
  },
  {
   "cell_type": "code",
   "execution_count": 222,
   "metadata": {},
   "outputs": [],
   "source": [
    "documento = open('C:/Users/bciez/Desktop/data/GCs.txt','w') # w -> write (escribir)\n",
    "documento.write('Hola basilio')\n",
    "documento.write('\\n')\n",
    "documento.write('Por que los chicos estan tan callados')\n",
    "documento.close()"
   ]
  },
  {
   "cell_type": "markdown",
   "metadata": {},
   "source": [
    "# voy a calcular el porcentage de gcs de cada fila del fasta y exportarlo"
   ]
  },
  {
   "cell_type": "code",
   "execution_count": 228,
   "metadata": {},
   "outputs": [],
   "source": [
    "documento = open('C:/Users/bciez/Desktop/data/GCs.txt','w') # w -> write (escribir)\n",
    "for elemento in pre_dna:\n",
    "    gc = calcula_gc(elemento)\n",
    "    documento.write(elemento)\n",
    "    documento.write('   ')\n",
    "    documento.write(str(gc)) # str() convierte el numero en cada porque write solo acepta cadenas\n",
    "    documento.write('\\n')\n",
    "documento.close()"
   ]
  },
  {
   "cell_type": "markdown",
   "metadata": {},
   "source": [
    "# Y SI TENGO UN MULTIFASTA???"
   ]
  },
  {
   "cell_type": "code",
   "execution_count": 262,
   "metadata": {},
   "outputs": [],
   "source": [
    "# se lee un file en 3 pasos\n",
    "documento = open('C:/Users/bciez/Desktop/data/multi_sequence.fasta','r')\n",
    "multi_fasta = documento.readlines()\n",
    "documento.close()"
   ]
  },
  {
   "cell_type": "code",
   "execution_count": 263,
   "metadata": {},
   "outputs": [
    {
     "data": {
      "text/plain": [
       "['>MG995115.1 Mycobacterium tuberculosis strain UKR100 RpoB (rpoB) gene, partial cds\\n',\n",
       " 'TTGGCAGATTCCCGCCAGAGCAAAACAGCCGCTAGTCCTAGTCCGAGTCGCCCGCAAAGTTCCTCGAATA\\n',\n",
       " 'ACTCCGTACCCGGAGCGCCAAACCGGGTCTCCTTCGCTAAGCTGCGCGAACCACTTGAGGTTCCGGGACT\\n',\n",
       " 'CCTTGACGTCCAGACCGATTCGTTCGAGTGGCTGATCGGTTCGCCGCGCTGGCGCGAATCCGCCGCCGAG\\n',\n",
       " 'CGGGGTGATGTCAACCCAGTGGGTGGCCTGGAAGAGGTGCTCTACGAGCTGTCTCCGATCGAGGACTTCT\\n',\n",
       " 'CCGGGTCGATGTCGTTGTCGTTCTCTGACCCTCGTTTCGACGATGTCAAGGCACCCGTCGACGAGTGCAA\\n',\n",
       " 'AGACAAGGACATGACGTACGCGGCTCCACTGTTCGTCACCGCCGAGTTCATCAACAACAACACCGGTGAG\\n',\n",
       " '\\n',\n",
       " '>MG995115.1 Mycobacterium tuberculosis strain UKR100 RpoB (rpoB) gene, partial cds\\n',\n",
       " 'TTGGCAGATTCCCGCCAGAGCAAAACAGCCGCTAGTCCTAGTCCGAGTCGCCCGCAAAGTTCCTCGAATA\\n',\n",
       " 'ACTCCGTACCCGGAGCGCCAAACCGGGTCTCCTTCGCTAAGCTGCGCGAACCACTTGAGGTTCCGGGACT\\n',\n",
       " 'CCTTGACGTCCAGACCGATTCGTTCGAGTGGCTGATCGGTTCGCCGCGCTGGCGCGAATCCGCCGCCGAG\\n',\n",
       " 'CGGGGTGATGTCAACCCAGTGGGTGGCCTGGAAGAGGTGCTCTACGAGCTGTCTCCGATCGAGGACTTCT\\n',\n",
       " 'CCGGGTCGATGTCGTTGTCGTTCTCTGACCCTCGTTTCGACGATGTCAAGGCACCCGTCGACGAGTGCAA\\n',\n",
       " 'AGACAAGGACATGACGTACGCGGCTCCACTGTTCGTCACCGCCGAGTTCATCAACAACAACACCGGTGAG\\n',\n",
       " '\\n',\n",
       " '>MG995115.1 Mycobacterium tuberculosis strain UKR100 RpoB (rpoB) gene, partial cds\\n',\n",
       " 'TTGGCAGATTCCCGCCAGAGCAAAACAGCCGCTAGTCCTAGTCCGAGTCGCCCGCAAAGTTCCTCGAATA\\n',\n",
       " 'ACTCCGTACCCGGAGCGCCAAACCGGGTCTCCTTCGCTAAGCTGCGCGAACCACTTGAGGTTCCGGGACT\\n',\n",
       " 'CCTTGACGTCCAGACCGATTCGTTCGAGTGGCTGATCGGTTCGCCGCGCTGGCGCGAATCCGCCGCCGAG\\n',\n",
       " 'CGGGGTGATGTCAACCCAGTGGGTGGCCTGGAAGAGGTGCTCTACGAGCTGTCTCCGATCGAGGACTTCT\\n',\n",
       " 'CCGGGTCGATGTCGTTGTCGTTCTCTGACCCTCGTTTCGACGATGTCAAGGCACCCGTCGACGAGTGCAA\\n',\n",
       " 'AGACAAGGACATGACGTACGCGGCTCCACTGTTCGTCACCGCCGAGTTCATCAACAACAACACCGGTGAG\\n',\n",
       " '\\n',\n",
       " '>MG995115.1 Mycobacterium tuberculosis strain UKR100 RpoB (rpoB) gene, partial cds\\n',\n",
       " 'TTGGCAGATTCCCGCCAGAGCAAAACAGCCGCTAGTCCTAGTCCGAGTCGCCCGCAAAGTTCCTCGAATA\\n',\n",
       " 'ACTCCGTACCCGGAGCGCCAAACCGGGTCTCCTTCGCTAAGCTGCGCGAACCACTTGAGGTTCCGGGACT\\n',\n",
       " 'CCTTGACGTCCAGACCGATTCGTTCGAGTGGCTGATCGGTTCGCCGCGCTGGCGCGAATCCGCCGCCGAG\\n',\n",
       " 'CGGGGTGATGTCAACCCAGTGGGTGGCCTGGAAGAGGTGCTCTACGAGCTGTCTCCGATCGAGGACTTCT\\n',\n",
       " 'CCGGGTCGATGTCGTTGTCGTTCTCTGACCCTCGTTTCGACGATGTCAAGGCACCCGTCGACGAGTGCAA\\n',\n",
       " 'AGACAAGGACATGACGTACGCGGCTCCACTGTTCGTCACCGCCGAGTTCATCAACAACAACACCGGTGAG\\n',\n",
       " '\\n']"
      ]
     },
     "execution_count": 263,
     "metadata": {},
     "output_type": "execute_result"
    }
   ],
   "source": [
    "multi_fasta"
   ]
  },
  {
   "cell_type": "code",
   "execution_count": 264,
   "metadata": {},
   "outputs": [
    {
     "data": {
      "text/plain": [
       "'TTGGCAGATTCCCGCCAGAGCAAAACAGCCGCTAGTCCTAGTCCGAGTCGCCCGCAAAGTTCCTCGAATAACTCCGTACCCGGAGCGCCAAACCGGGTCTCCTTCGCTAAGCTGCGCGAACCACTTGAGGTTCCGGGACTCCTTGACGTCCAGACCGATTCGTTCGAGTGGCTGATCGGTTCGCCGCGCTGGCGCGAATCCGCCGCCGAGCGGGGTGATGTCAACCCAGTGGGTGGCCTGGAAGAGGTGCTCTACGAGCTGTCTCCGATCGAGGACTTCTCCGGGTCGATGTCGTTGTCGTTCTCTGACCCTCGTTTCGACGATGTCAAGGCACCCGTCGACGAGTGCAAAGACAAGGACATGACGTACGCGGCTCCACTGTTCGTCACCGCCGAGTTCATCAACAACAACACCGGTGAG>MG995115.1 Mycobacterium tuberculosis strain UKR100 RpoB (rpoB) gene, partial cdsTTGGCAGATTCCCGCCAGAGCAAAACAGCCGCTAGTCCTAGTCCGAGTCGCCCGCAAAGTTCCTCGAATAACTCCGTACCCGGAGCGCCAAACCGGGTCTCCTTCGCTAAGCTGCGCGAACCACTTGAGGTTCCGGGACTCCTTGACGTCCAGACCGATTCGTTCGAGTGGCTGATCGGTTCGCCGCGCTGGCGCGAATCCGCCGCCGAGCGGGGTGATGTCAACCCAGTGGGTGGCCTGGAAGAGGTGCTCTACGAGCTGTCTCCGATCGAGGACTTCTCCGGGTCGATGTCGTTGTCGTTCTCTGACCCTCGTTTCGACGATGTCAAGGCACCCGTCGACGAGTGCAAAGACAAGGACATGACGTACGCGGCTCCACTGTTCGTCACCGCCGAGTTCATCAACAACAACACCGGTGAG>MG995115.1 Mycobacterium tuberculosis strain UKR100 RpoB (rpoB) gene, partial cdsTTGGCAGATTCCCGCCAGAGCAAAACAGCCGCTAGTCCTAGTCCGAGTCGCCCGCAAAGTTCCTCGAATAACTCCGTACCCGGAGCGCCAAACCGGGTCTCCTTCGCTAAGCTGCGCGAACCACTTGAGGTTCCGGGACTCCTTGACGTCCAGACCGATTCGTTCGAGTGGCTGATCGGTTCGCCGCGCTGGCGCGAATCCGCCGCCGAGCGGGGTGATGTCAACCCAGTGGGTGGCCTGGAAGAGGTGCTCTACGAGCTGTCTCCGATCGAGGACTTCTCCGGGTCGATGTCGTTGTCGTTCTCTGACCCTCGTTTCGACGATGTCAAGGCACCCGTCGACGAGTGCAAAGACAAGGACATGACGTACGCGGCTCCACTGTTCGTCACCGCCGAGTTCATCAACAACAACACCGGTGAG>MG995115.1 Mycobacterium tuberculosis strain UKR100 RpoB (rpoB) gene, partial cdsTTGGCAGATTCCCGCCAGAGCAAAACAGCCGCTAGTCCTAGTCCGAGTCGCCCGCAAAGTTCCTCGAATAACTCCGTACCCGGAGCGCCAAACCGGGTCTCCTTCGCTAAGCTGCGCGAACCACTTGAGGTTCCGGGACTCCTTGACGTCCAGACCGATTCGTTCGAGTGGCTGATCGGTTCGCCGCGCTGGCGCGAATCCGCCGCCGAGCGGGGTGATGTCAACCCAGTGGGTGGCCTGGAAGAGGTGCTCTACGAGCTGTCTCCGATCGAGGACTTCTCCGGGTCGATGTCGTTGTCGTTCTCTGACCCTCGTTTCGACGATGTCAAGGCACCCGTCGACGAGTGCAAAGACAAGGACATGACGTACGCGGCTCCACTGTTCGTCACCGCCGAGTTCATCAACAACAACACCGGTGAG'"
      ]
     },
     "execution_count": 264,
     "metadata": {},
     "output_type": "execute_result"
    }
   ],
   "source": [
    "quitar_formato_dna(multi_fasta)"
   ]
  },
  {
   "cell_type": "code",
   "execution_count": null,
   "metadata": {},
   "outputs": [],
   "source": []
  },
  {
   "cell_type": "code",
   "execution_count": 266,
   "metadata": {},
   "outputs": [
    {
     "name": "stdout",
     "output_type": "stream",
     "text": [
      "\n",
      "TTGGCAGATTCCCGCCAGAGCAAAACAGCCGCTAGTCCTAGTCCGAGTCGCCCGCAAAGTTCCTCGAATA\n",
      "ACTCCGTACCCGGAGCGCCAAACCGGGTCTCCTTCGCTAAGCTGCGCGAACCACTTGAGGTTCCGGGACT\n",
      "CCTTGACGTCCAGACCGATTCGTTCGAGTGGCTGATCGGTTCGCCGCGCTGGCGCGAATCCGCCGCCGAG\n",
      "CGGGGTGATGTCAACCCAGTGGGTGGCCTGGAAGAGGTGCTCTACGAGCTGTCTCCGATCGAGGACTTCT\n",
      "CCGGGTCGATGTCGTTGTCGTTCTCTGACCCTCGTTTCGACGATGTCAAGGCACCCGTCGACGAGTGCAA\n",
      "AGACAAGGACATGACGTACGCGGCTCCACTGTTCGTCACCGCCGAGTTCATCAACAACAACACCGGTGAG\n",
      "\n",
      "\n",
      "TTGGCAGATTCCCGCCAGAGCAAAACAGCCGCTAGTCCTAGTCCGAGTCGCCCGCAAAGTTCCTCGAATA\n",
      "ACTCCGTACCCGGAGCGCCAAACCGGGTCTCCTTCGCTAAGCTGCGCGAACCACTTGAGGTTCCGGGACT\n",
      "CCTTGACGTCCAGACCGATTCGTTCGAGTGGCTGATCGGTTCGCCGCGCTGGCGCGAATCCGCCGCCGAG\n",
      "CGGGGTGATGTCAACCCAGTGGGTGGCCTGGAAGAGGTGCTCTACGAGCTGTCTCCGATCGAGGACTTCT\n",
      "CCGGGTCGATGTCGTTGTCGTTCTCTGACCCTCGTTTCGACGATGTCAAGGCACCCGTCGACGAGTGCAA\n",
      "AGACAAGGACATGACGTACGCGGCTCCACTGTTCGTCACCGCCGAGTTCATCAACAACAACACCGGTGAG\n",
      "\n",
      "\n",
      "TTGGCAGATTCCCGCCAGAGCAAAACAGCCGCTAGTCCTAGTCCGAGTCGCCCGCAAAGTTCCTCGAATA\n",
      "ACTCCGTACCCGGAGCGCCAAACCGGGTCTCCTTCGCTAAGCTGCGCGAACCACTTGAGGTTCCGGGACT\n",
      "CCTTGACGTCCAGACCGATTCGTTCGAGTGGCTGATCGGTTCGCCGCGCTGGCGCGAATCCGCCGCCGAG\n",
      "CGGGGTGATGTCAACCCAGTGGGTGGCCTGGAAGAGGTGCTCTACGAGCTGTCTCCGATCGAGGACTTCT\n",
      "CCGGGTCGATGTCGTTGTCGTTCTCTGACCCTCGTTTCGACGATGTCAAGGCACCCGTCGACGAGTGCAA\n",
      "AGACAAGGACATGACGTACGCGGCTCCACTGTTCGTCACCGCCGAGTTCATCAACAACAACACCGGTGAG\n",
      "\n",
      "\n"
     ]
    },
    {
     "data": {
      "text/plain": [
       "'xTTGGCAGATTCCCGCCAGAGCAAAACAGCCGCTAGTCCTAGTCCGAGTCGCCCGCAAAGTTCCTCGAATA\\nACTCCGTACCCGGAGCGCCAAACCGGGTCTCCTTCGCTAAGCTGCGCGAACCACTTGAGGTTCCGGGACT\\nCCTTGACGTCCAGACCGATTCGTTCGAGTGGCTGATCGGTTCGCCGCGCTGGCGCGAATCCGCCGCCGAG\\nCGGGGTGATGTCAACCCAGTGGGTGGCCTGGAAGAGGTGCTCTACGAGCTGTCTCCGATCGAGGACTTCT\\nCCGGGTCGATGTCGTTGTCGTTCTCTGACCCTCGTTTCGACGATGTCAAGGCACCCGTCGACGAGTGCAA\\nAGACAAGGACATGACGTACGCGGCTCCACTGTTCGTCACCGCCGAGTTCATCAACAACAACACCGGTGAG\\n\\n'"
      ]
     },
     "execution_count": 266,
     "metadata": {},
     "output_type": "execute_result"
    }
   ],
   "source": [
    "dna = 'x'\n",
    "for elemento in multi_fasta:\n",
    "    if elemento[0] !='>': # el simbolo != significa diferente\n",
    "        dna = dna + elemento\n",
    "    elif elemento[0]== '>': # si el simbolo es identifo a > entonces ya termino con la cadena anterior, entonces tienes que empezar nuevamente la variable dna\n",
    "        print(dna.replace('x',''))\n",
    "        dna = 'x'\n",
    "dna # aqui hay un problema!! Manana lo discutimos"
   ]
  },
  {
   "cell_type": "code",
   "execution_count": 258,
   "metadata": {},
   "outputs": [],
   "source": [
    "# como exporto?"
   ]
  },
  {
   "cell_type": "code",
   "execution_count": 259,
   "metadata": {},
   "outputs": [],
   "source": [
    "# se lee un file en 3 pasos\n",
    "documento = open('C:/Users/bciez/Desktop/data/multi_sequence.fasta','w')\n",
    "dna = 'x'\n",
    "for elemento in multi_fasta:\n",
    "    if elemento[0] !='>': # el simbolo != significa diferente\n",
    "        dna = dna + elemento\n",
    "    elif elemento[0]== '>': # si el simbolo es identifo a > entonces ya termino con la cadena anterior, entonces tienes que empezar nuevamente la variable dna\n",
    "        documento.write(dna.replace('x',''))\n",
    "        dna = 'x'\n",
    "documento.close()"
   ]
  },
  {
   "cell_type": "code",
   "execution_count": 260,
   "metadata": {},
   "outputs": [
    {
     "data": {
      "text/plain": [
       "['>gi|2765658|emb|Z78533.1|CIZ78533 C.irapeanum 5.8S rRNA gene and ITS1 and ITS2 DNA\\n',\n",
       " 'CGTAACAAGGTTTCCGTAGGTGAACCTGCGGAAGGATCATTGATGAGACCGTGGAATAAACGATCGAGTG\\n',\n",
       " 'AATCCGGAGGACCGGTGTACTCAGCTCACCGGGGGCATTGCTCCCGTGGTGACCCTGATTTGTTGTTGGG\\n',\n",
       " 'CCGCCTCGGGAGCGTCCATGGCGGGTTTGAACCTCTAGCCCGGCGCAGTTTGGGCGCCAAGCCATATGAA\\n',\n",
       " 'AGCATCACCGGCGAATGGCATTGTCTTCCCCAAAACCCGGAGCGGCGGCGTGCTGTCGCGTGCCCAATGA\\n',\n",
       " 'ATTTTGATGACTCTCGCAAACGGGAATCTTGGCTCTTTGCATCGGATGGAAGGACGCAGCGAAATGCGAT\\n',\n",
       " 'AAGTGGTGTGAATTGCAAGATCCCGTGAACCATCGAGTCTTTTGAACGCAAGTTGCGCCCGAGGCCATCA\\n',\n",
       " 'GGCTAAGGGCACGCCTGCTTGGGCGTCGCGCTTCGTCTCTCTCCTGCCAATGCTTGCCCGGCATACAGCC\\n',\n",
       " 'AGGCCGGCGTGGTGCGGATGTGAAAGATTGGCCCCTTGTGCCTAGGTGCGGCGGGTCCAAGAGCTGGTGT\\n',\n",
       " 'TTTGATGGCCCGGAACCCGGCAAGAGGTGGACGGATGCTGGCAGCAGCTGCCGTGCGAATCCCCCATGTT\\n',\n",
       " 'GTCGTGCTTGTCGGACAGGCAGGAGAACCCTTCCGAACCCCAATGGAGGGCGGTTGACCGCCATTCGGAT\\n',\n",
       " 'GTGACCCCAGGTCAGGCGGGGGCACCCGCTGAGTTTACGC\\n',\n",
       " '\\n',\n",
       " '>gi|2765657|emb|Z78532.1|CCZ78532 C.californicum 5.8S rRNA gene and ITS1 and ITS2 DNA\\n',\n",
       " 'CGTAACAAGGTTTCCGTAGGTGAACCTGCGGAAGGATCATTGTTGAGACAACAGAATATATGATCGAGTG\\n',\n",
       " 'AATCTGGAGGACCTGTGGTAACTCAGCTCGTCGTGGCACTGCTTTTGTCGTGACCCTGCTTTGTTGTTGG\\n',\n",
       " 'GCCTCCTCAAGAGCTTTCATGGCAGGTTTGAACTTTAGTACGGTGCAGTTTGCGCCAAGTCATATAAAGC\\n',\n",
       " 'ATCACTGATGAATGACATTATTGTCAGAAAAAATCAGAGGGGCAGTATGCTACTGAGCATGCCAGTGAAT\\n',\n",
       " 'TTTTATGACTCTCGCAACGGATATCTTGGCTCTAACATCGATGAAGAACGCAGCTAAATGCGATAAGTGG\\n',\n",
       " 'TGTGAATTGCAGAATCCCGTGAACCATCGAGTCTTTGAACGCAAGTTGCGCTCGAGGCCATCAGGCTAAG\\n',\n",
       " 'GGCACGCCTGCCTGGGCGTCGTGTGTTGCGTCTCTCCTACCAATGCTTGCTTGGCATATCGCTAAGCTGG\\n',\n",
       " 'CATTATACGGATGTGAATGATTGGCCCCTTGTGCCTAGGTGCGGTGGGTCTAAGGATTGTTGCTTTGATG\\n',\n",
       " 'GGTAGGAATGTGGCACGAGGTGGAGAATGCTAACAGTCATAAGGCTGCTATTTGAATCCCCCATGTTGTT\\n',\n",
       " 'GTATTTTTTCGAACCTACACAAGAACCTAATTGAACCCCAATGGAGCTAAAATAACCATTGGGCAGTTGA\\n',\n",
       " 'TTTCCATTCAGATGCGACCCCAGGTCAGGCGGGGCCACCCGCTGAGTTGAGGC\\n',\n",
       " '\\n',\n",
       " '>gi|2765656|emb|Z78531.1|CFZ78531 C.fasciculatum 5.8S rRNA gene and ITS1 and ITS2 DNA\\n',\n",
       " 'CGTAACAAGGTTTCCGTAGGTGAACCTGCGGAAGGATCATTGTTGAGACAGCAGAACATACGATCGAGTG\\n',\n",
       " 'AATCCGGAGGACCCGTGGTTACACGGCTCACCGTGGCTTTGCTCTCGTGGTGAACCCGGTTTGCGACCGG\\n',\n",
       " 'GCCGCCTCGGGAACTTTCATGGCGGGTTTGAACGTCTAGCGCGGCGCAGTTTGCGCCAAGTCATATGGAG\\n',\n",
       " 'CGTCACCGATGGATGGCATTTTTGTCAAGAAAAACTCGGAGGGGCGGCGTCTGTTGCGCGTGCCAATGAA\\n',\n",
       " 'TTTATGACGACTCTCGGCAACGGGATATCTGGCTCTTGCATCGATGAAGAACGCAGCGAAATGCGATAAG\\n',\n",
       " 'TGGTGTGAATTGCAGAATCCCGCGAACCATCGAGTCTTTGAACGCAAGTTGCGCCCGAGGCCATCAGGCT\\n',\n",
       " 'AAGGGCACGCCTGCCTGGGCGTCGTGTGCTGCGTCTCTCCTGATAATGCTTGATTGGCATGCGGCTAGTC\\n',\n",
       " 'TGTCATTGTGAGGACGTGAAAGATTGGCCCCTTGCGCCTAGGTGCGGCGGGTCTAAGCATCGGTGTTCTG\\n',\n",
       " 'ATGGCCCGGAACTTGGCAGTAGGTGGAGGATGCTGGCAGCCGCAAGGCTGCCGTTCGAATCCCCCGTGTT\\n',\n",
       " 'GTCGTACTCGTCAGGCCTACAGAAGAACCTGTTTGAACCCCCAGTGGACGCAAAACCGCCCTCGGGCGGT\\n',\n",
       " 'GATTTCCATTCAGATGCGACCCCAGTCAGGCGGGCCACCCGTGAGTAA\\n',\n",
       " '\\n',\n",
       " '>gi|2765655|emb|Z78530.1|CMZ78530 C.margaritaceum 5.8S rRNA gene and ITS1 and ITS2 DNA\\n',\n",
       " 'CGTAACAAGGTTTCCGTAGGTGAACCTGCGGAAGGATCATTGTTGAAACAACATAATAAACGATTGAGTG\\n',\n",
       " 'AATCTGGAGGACTTGTGGTAATTTGGCTCGCTAGGGATATCCTTTTGTGGTGACCATGATTTGTCATTGG\\n',\n",
       " 'GCCTCATTGAGAGCTTTCATGGCGGGTTTGAACCTCTAGCACGGTCCAGTTTGCACCAAGGTATATAAAG\\n',\n",
       " 'AATCACCGATGAATGACATTATTGCCCCACACAACGTCGGAGGTGTGGTGTGTTAATGTTCATTCCAATG\\n',\n",
       " 'AATTTTGATGACTCTCGGCAGACGGATATCTTGACTCTTGCATCGATGAAGAACGCACCGAAATGTGATA\\n',\n",
       " 'AGTGGTGTGAATTGCAGAATCCCGTGAACCATCGAGTCTTTGAACGCAAGTTGCGCCCGAGGCCATCAGG\\n',\n",
       " 'CTAAGGGCACGCCTGCCTGGGCGTCGTATGTTTTATCTCTCCTTCCAATGCTTGTCCAGCATATAGCTAG\\n',\n",
       " 'GCCATCATTGTGTGGATGTGAAAGATTGGCCCCTTGTGCTTAGGTGCGGTGGGTCTAAGGATATGTGTTT\\n',\n",
       " 'TGATGGTCTGAAACTTGGCAAGAGGTGGAGGATGCTGGCAGCCGCAAGGCTATTGTTTGAATCCCCCATG\\n',\n",
       " 'TTGTCATGTTTGTTGGGCCTATAGAACAACTTGTTTGGACCCTAATTAAGGCAAAACAATCCTTGGGTGG\\n',\n",
       " 'TTGATTTCCAATCAGATGCGACCCCAGTCAGGGGGCCACCCCAT\\n',\n",
       " '\\n',\n",
       " '\\n',\n",
       " '\\n',\n",
       " '\\n',\n",
       " '\\n',\n",
       " '\\n',\n",
       " '\\n']"
      ]
     },
     "execution_count": 260,
     "metadata": {},
     "output_type": "execute_result"
    }
   ],
   "source": [
    "multi_fasta"
   ]
  },
  {
   "cell_type": "code",
   "execution_count": null,
   "metadata": {},
   "outputs": [],
   "source": []
  }
 ],
 "metadata": {
  "kernelspec": {
   "display_name": "Python 3",
   "language": "python",
   "name": "python3"
  },
  "language_info": {
   "codemirror_mode": {
    "name": "ipython",
    "version": 3
   },
   "file_extension": ".py",
   "mimetype": "text/x-python",
   "name": "python",
   "nbconvert_exporter": "python",
   "pygments_lexer": "ipython3",
   "version": "3.7.6"
  }
 },
 "nbformat": 4,
 "nbformat_minor": 4
}
